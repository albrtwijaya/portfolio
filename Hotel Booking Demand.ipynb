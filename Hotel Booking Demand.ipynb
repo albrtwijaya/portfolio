{
 "cells": [
  {
   "cell_type": "markdown",
   "id": "ea4af304",
   "metadata": {},
   "source": [
    "# How To Predict Hotel Booking Cancellation to Minimize Hotel's Financial Loss\n",
    "\n",
    "## Background\n",
    "In accommodation business, it is common for guests to cancel their booking, and some guests might cancel just before their expected check-in time. In a scenario where a hotel is fully booked, business owner might wait for the expected guest to come, and reject any other customer looking for a place to stay. This situation poses a risk that could cause financial loss if the guest called and canceled their booking, or didn't even come, and the room can't be sold anymore for that day.\n",
    "\n",
    "What if we can predict if a guest will likely cancel their booking before their expected check-in time? If we can predict that a guest is likely going to cancel their booking, that same room can be sold to other guest. This way, we can minimize financial loss from canceled bookings, and sell those empty rooms to other potential customers.\n",
    "\n",
    "## What is the goal?\n",
    "The goal is to create a machine learning model which can predict if a guest is more likely to cancel their booking or not.\n",
    "\n",
    "## What is the limitation?\n",
    "Machine learning model can't have 100% success rate. There will be some false predictions. The model could falsely predict a booking has high chance of being canceled, but turns out the guest actually show up, and vice versa.\n",
    "\n",
    "#### Scenario 1.\n",
    "If we predicted a booking as canceled and already sold the room to other guest, but then the original guest actually come, there might be no room available for the original guest. This will hurt the hotel's reputation. The same thing applies if there is an available room, but with lower class. If the available room is a higher class, which should cost more, then the business will suffer financial loss from selling more expensive room for a cheaper price.\n",
    "\n",
    "#### Scenario 2.\n",
    "If we predicted a booking as not-canceled, but the guest didn't show up, the business will suffer financial loss because they didn't sell the room to other potential customers.\n",
    "\n",
    "## Metrics to measure model's performance\n",
    "The 2 scenarios above is called false positive and false negative prediction. And based on them, it is important that the model has low chance of giving out false predictions. The appropriate metrics to measure the performance is F1 score and AUC score.\n",
    "\n",
    "## Dataset\n",
    "For this exercies, we will use [Hotel Booking Demand dataset](https://www.kaggle.com/datasets/jessemostipak/hotel-booking-demand) from Kaggle.\n",
    "\n",
    "Based on the information from the uploader, this dataset was originally from the article [Hotel Booking Demand Datasets](https://www.sciencedirect.com/science/article/pii/S2352340918315191) created by Nuno Antonio, Ana Almeida, and Luis Nunes for Data in Brief, Volume 22, February 2019. This dataset contains list of bookings from two hotels located in Portugal (Algrave and Lisbon). The hotels' name were classified by the original author of the dataset."
   ]
  },
  {
   "cell_type": "code",
   "execution_count": 1,
   "id": "7595fb09",
   "metadata": {},
   "outputs": [],
   "source": [
    "# import necessary libraries\n",
    "import pandas as pd\n",
    "import numpy as np\n",
    "import matplotlib.pyplot as plt\n",
    "import seaborn as sns\n",
    "\n",
    "from sklearn.model_selection import train_test_split, GridSearchCV, RandomizedSearchCV, cross_val_score\n",
    "from sklearn.preprocessing import OneHotEncoder, FunctionTransformer\n",
    "from sklearn.impute import SimpleImputer\n",
    "from sklearn.compose import ColumnTransformer\n",
    "from sklearn.linear_model import LogisticRegression\n",
    "from sklearn.neighbors import KNeighborsClassifier\n",
    "from sklearn.tree import DecisionTreeClassifier\n",
    "from sklearn.svm import SVC\n",
    "# from sklearn.pipeline import Pipeline\n",
    "from imblearn.pipeline import Pipeline\n",
    "from sklearn.metrics import f1_score, accuracy_score, precision_score, recall_score, confusion_matrix, classification_report, roc_curve, roc_auc_score\n",
    "from sklearn.ensemble import RandomForestClassifier, AdaBoostClassifier, VotingClassifier\n",
    "from imblearn.over_sampling import SMOTENC\n",
    "from xgboost import XGBClassifier\n",
    "from lightgbm import LGBMClassifier\n",
    "from catboost import CatBoostClassifier\n",
    "import time"
   ]
  },
  {
   "cell_type": "code",
   "execution_count": 2,
   "id": "7559a170",
   "metadata": {
    "scrolled": false
   },
   "outputs": [
    {
     "data": {
      "text/html": [
       "<div>\n",
       "<style scoped>\n",
       "    .dataframe tbody tr th:only-of-type {\n",
       "        vertical-align: middle;\n",
       "    }\n",
       "\n",
       "    .dataframe tbody tr th {\n",
       "        vertical-align: top;\n",
       "    }\n",
       "\n",
       "    .dataframe thead th {\n",
       "        text-align: right;\n",
       "    }\n",
       "</style>\n",
       "<table border=\"1\" class=\"dataframe\">\n",
       "  <thead>\n",
       "    <tr style=\"text-align: right;\">\n",
       "      <th></th>\n",
       "      <th>hotel</th>\n",
       "      <th>is_canceled</th>\n",
       "      <th>lead_time</th>\n",
       "      <th>arrival_date_year</th>\n",
       "      <th>arrival_date_month</th>\n",
       "      <th>arrival_date_week_number</th>\n",
       "      <th>arrival_date_day_of_month</th>\n",
       "      <th>stays_in_weekend_nights</th>\n",
       "      <th>stays_in_week_nights</th>\n",
       "      <th>adults</th>\n",
       "      <th>...</th>\n",
       "      <th>deposit_type</th>\n",
       "      <th>agent</th>\n",
       "      <th>company</th>\n",
       "      <th>days_in_waiting_list</th>\n",
       "      <th>customer_type</th>\n",
       "      <th>adr</th>\n",
       "      <th>required_car_parking_spaces</th>\n",
       "      <th>total_of_special_requests</th>\n",
       "      <th>reservation_status</th>\n",
       "      <th>reservation_status_date</th>\n",
       "    </tr>\n",
       "  </thead>\n",
       "  <tbody>\n",
       "    <tr>\n",
       "      <th>0</th>\n",
       "      <td>Resort Hotel</td>\n",
       "      <td>0</td>\n",
       "      <td>342</td>\n",
       "      <td>2015</td>\n",
       "      <td>July</td>\n",
       "      <td>27</td>\n",
       "      <td>1</td>\n",
       "      <td>0</td>\n",
       "      <td>0</td>\n",
       "      <td>2</td>\n",
       "      <td>...</td>\n",
       "      <td>No Deposit</td>\n",
       "      <td>NaN</td>\n",
       "      <td>NaN</td>\n",
       "      <td>0</td>\n",
       "      <td>Transient</td>\n",
       "      <td>0.0</td>\n",
       "      <td>0</td>\n",
       "      <td>0</td>\n",
       "      <td>Check-Out</td>\n",
       "      <td>2015-07-01</td>\n",
       "    </tr>\n",
       "    <tr>\n",
       "      <th>1</th>\n",
       "      <td>Resort Hotel</td>\n",
       "      <td>0</td>\n",
       "      <td>737</td>\n",
       "      <td>2015</td>\n",
       "      <td>July</td>\n",
       "      <td>27</td>\n",
       "      <td>1</td>\n",
       "      <td>0</td>\n",
       "      <td>0</td>\n",
       "      <td>2</td>\n",
       "      <td>...</td>\n",
       "      <td>No Deposit</td>\n",
       "      <td>NaN</td>\n",
       "      <td>NaN</td>\n",
       "      <td>0</td>\n",
       "      <td>Transient</td>\n",
       "      <td>0.0</td>\n",
       "      <td>0</td>\n",
       "      <td>0</td>\n",
       "      <td>Check-Out</td>\n",
       "      <td>2015-07-01</td>\n",
       "    </tr>\n",
       "    <tr>\n",
       "      <th>2</th>\n",
       "      <td>Resort Hotel</td>\n",
       "      <td>0</td>\n",
       "      <td>7</td>\n",
       "      <td>2015</td>\n",
       "      <td>July</td>\n",
       "      <td>27</td>\n",
       "      <td>1</td>\n",
       "      <td>0</td>\n",
       "      <td>1</td>\n",
       "      <td>1</td>\n",
       "      <td>...</td>\n",
       "      <td>No Deposit</td>\n",
       "      <td>NaN</td>\n",
       "      <td>NaN</td>\n",
       "      <td>0</td>\n",
       "      <td>Transient</td>\n",
       "      <td>75.0</td>\n",
       "      <td>0</td>\n",
       "      <td>0</td>\n",
       "      <td>Check-Out</td>\n",
       "      <td>2015-07-02</td>\n",
       "    </tr>\n",
       "    <tr>\n",
       "      <th>3</th>\n",
       "      <td>Resort Hotel</td>\n",
       "      <td>0</td>\n",
       "      <td>13</td>\n",
       "      <td>2015</td>\n",
       "      <td>July</td>\n",
       "      <td>27</td>\n",
       "      <td>1</td>\n",
       "      <td>0</td>\n",
       "      <td>1</td>\n",
       "      <td>1</td>\n",
       "      <td>...</td>\n",
       "      <td>No Deposit</td>\n",
       "      <td>304.0</td>\n",
       "      <td>NaN</td>\n",
       "      <td>0</td>\n",
       "      <td>Transient</td>\n",
       "      <td>75.0</td>\n",
       "      <td>0</td>\n",
       "      <td>0</td>\n",
       "      <td>Check-Out</td>\n",
       "      <td>2015-07-02</td>\n",
       "    </tr>\n",
       "    <tr>\n",
       "      <th>4</th>\n",
       "      <td>Resort Hotel</td>\n",
       "      <td>0</td>\n",
       "      <td>14</td>\n",
       "      <td>2015</td>\n",
       "      <td>July</td>\n",
       "      <td>27</td>\n",
       "      <td>1</td>\n",
       "      <td>0</td>\n",
       "      <td>2</td>\n",
       "      <td>2</td>\n",
       "      <td>...</td>\n",
       "      <td>No Deposit</td>\n",
       "      <td>240.0</td>\n",
       "      <td>NaN</td>\n",
       "      <td>0</td>\n",
       "      <td>Transient</td>\n",
       "      <td>98.0</td>\n",
       "      <td>0</td>\n",
       "      <td>1</td>\n",
       "      <td>Check-Out</td>\n",
       "      <td>2015-07-03</td>\n",
       "    </tr>\n",
       "  </tbody>\n",
       "</table>\n",
       "<p>5 rows × 32 columns</p>\n",
       "</div>"
      ],
      "text/plain": [
       "          hotel  is_canceled  lead_time  arrival_date_year arrival_date_month  \\\n",
       "0  Resort Hotel            0        342               2015               July   \n",
       "1  Resort Hotel            0        737               2015               July   \n",
       "2  Resort Hotel            0          7               2015               July   \n",
       "3  Resort Hotel            0         13               2015               July   \n",
       "4  Resort Hotel            0         14               2015               July   \n",
       "\n",
       "   arrival_date_week_number  arrival_date_day_of_month  \\\n",
       "0                        27                          1   \n",
       "1                        27                          1   \n",
       "2                        27                          1   \n",
       "3                        27                          1   \n",
       "4                        27                          1   \n",
       "\n",
       "   stays_in_weekend_nights  stays_in_week_nights  adults  ...  deposit_type  \\\n",
       "0                        0                     0       2  ...    No Deposit   \n",
       "1                        0                     0       2  ...    No Deposit   \n",
       "2                        0                     1       1  ...    No Deposit   \n",
       "3                        0                     1       1  ...    No Deposit   \n",
       "4                        0                     2       2  ...    No Deposit   \n",
       "\n",
       "   agent company days_in_waiting_list customer_type   adr  \\\n",
       "0    NaN     NaN                    0     Transient   0.0   \n",
       "1    NaN     NaN                    0     Transient   0.0   \n",
       "2    NaN     NaN                    0     Transient  75.0   \n",
       "3  304.0     NaN                    0     Transient  75.0   \n",
       "4  240.0     NaN                    0     Transient  98.0   \n",
       "\n",
       "   required_car_parking_spaces  total_of_special_requests  reservation_status  \\\n",
       "0                            0                          0           Check-Out   \n",
       "1                            0                          0           Check-Out   \n",
       "2                            0                          0           Check-Out   \n",
       "3                            0                          0           Check-Out   \n",
       "4                            0                          1           Check-Out   \n",
       "\n",
       "  reservation_status_date  \n",
       "0              2015-07-01  \n",
       "1              2015-07-01  \n",
       "2              2015-07-02  \n",
       "3              2015-07-02  \n",
       "4              2015-07-03  \n",
       "\n",
       "[5 rows x 32 columns]"
      ]
     },
     "execution_count": 2,
     "metadata": {},
     "output_type": "execute_result"
    }
   ],
   "source": [
    "# load the dataset\n",
    "df = pd.read_csv('hotel_bookings.csv')\n",
    "df.head()"
   ]
  },
  {
   "cell_type": "markdown",
   "id": "8b9b879e",
   "metadata": {},
   "source": [
    "The target (y variable) on this dataset will be the 'is_canceled' column.\n",
    "\n",
    "0 (negative class) = the booking is not canceled <br> 1 (positive class) = the booking is canceled"
   ]
  },
  {
   "cell_type": "code",
   "execution_count": 3,
   "id": "6daa94cf",
   "metadata": {
    "scrolled": true
   },
   "outputs": [
    {
     "name": "stdout",
     "output_type": "stream",
     "text": [
      "<class 'pandas.core.frame.DataFrame'>\n",
      "RangeIndex: 119390 entries, 0 to 119389\n",
      "Data columns (total 32 columns):\n",
      " #   Column                          Non-Null Count   Dtype  \n",
      "---  ------                          --------------   -----  \n",
      " 0   hotel                           119390 non-null  object \n",
      " 1   is_canceled                     119390 non-null  int64  \n",
      " 2   lead_time                       119390 non-null  int64  \n",
      " 3   arrival_date_year               119390 non-null  int64  \n",
      " 4   arrival_date_month              119390 non-null  object \n",
      " 5   arrival_date_week_number        119390 non-null  int64  \n",
      " 6   arrival_date_day_of_month       119390 non-null  int64  \n",
      " 7   stays_in_weekend_nights         119390 non-null  int64  \n",
      " 8   stays_in_week_nights            119390 non-null  int64  \n",
      " 9   adults                          119390 non-null  int64  \n",
      " 10  children                        119386 non-null  float64\n",
      " 11  babies                          119390 non-null  int64  \n",
      " 12  meal                            119390 non-null  object \n",
      " 13  country                         118902 non-null  object \n",
      " 14  market_segment                  119390 non-null  object \n",
      " 15  distribution_channel            119390 non-null  object \n",
      " 16  is_repeated_guest               119390 non-null  int64  \n",
      " 17  previous_cancellations          119390 non-null  int64  \n",
      " 18  previous_bookings_not_canceled  119390 non-null  int64  \n",
      " 19  reserved_room_type              119390 non-null  object \n",
      " 20  assigned_room_type              119390 non-null  object \n",
      " 21  booking_changes                 119390 non-null  int64  \n",
      " 22  deposit_type                    119390 non-null  object \n",
      " 23  agent                           103050 non-null  float64\n",
      " 24  company                         6797 non-null    float64\n",
      " 25  days_in_waiting_list            119390 non-null  int64  \n",
      " 26  customer_type                   119390 non-null  object \n",
      " 27  adr                             119390 non-null  float64\n",
      " 28  required_car_parking_spaces     119390 non-null  int64  \n",
      " 29  total_of_special_requests       119390 non-null  int64  \n",
      " 30  reservation_status              119390 non-null  object \n",
      " 31  reservation_status_date         119390 non-null  object \n",
      "dtypes: float64(4), int64(16), object(12)\n",
      "memory usage: 29.1+ MB\n"
     ]
    }
   ],
   "source": [
    "# make sure every column has matching Dtype\n",
    "df.info()"
   ]
  },
  {
   "cell_type": "markdown",
   "id": "4a38f0f0",
   "metadata": {},
   "source": [
    "# Data Cleansing"
   ]
  },
  {
   "cell_type": "markdown",
   "id": "2916bb07",
   "metadata": {},
   "source": [
    "We will check if there is any booking with 0 guest."
   ]
  },
  {
   "cell_type": "code",
   "execution_count": 4,
   "id": "0a648c9c",
   "metadata": {},
   "outputs": [
    {
     "data": {
      "text/plain": [
       "(180,)"
      ]
     },
     "execution_count": 4,
     "metadata": {},
     "output_type": "execute_result"
    }
   ],
   "source": [
    "# get booking's index where the booking has 0 guest\n",
    "zero_guest = df[(df['adults'] == 0) & (df['children'] == 0) & (df['babies'] == 0)].index\n",
    "zero_guest.shape"
   ]
  },
  {
   "cell_type": "markdown",
   "id": "4eae5e04",
   "metadata": {},
   "source": [
    "Turns out there are 180 bookings with 0 guests. We will drop these bookings."
   ]
  },
  {
   "cell_type": "code",
   "execution_count": 5,
   "id": "d40dfdb4",
   "metadata": {
    "scrolled": true
   },
   "outputs": [],
   "source": [
    "df.drop(index = zero_guest, inplace=True)"
   ]
  },
  {
   "cell_type": "markdown",
   "id": "6b971340",
   "metadata": {},
   "source": [
    "The column 'children' has Dtype of float64, this is because there are some null values inside those columns. We will replace those null values with 0."
   ]
  },
  {
   "cell_type": "code",
   "execution_count": 6,
   "id": "6c64afab",
   "metadata": {
    "scrolled": true
   },
   "outputs": [],
   "source": [
    "df['children'].fillna(value=0, inplace=True)"
   ]
  },
  {
   "cell_type": "markdown",
   "id": "aa163209",
   "metadata": {},
   "source": [
    "# Exploratory Data Analysis"
   ]
  },
  {
   "cell_type": "code",
   "execution_count": 7,
   "id": "12c69db8",
   "metadata": {},
   "outputs": [],
   "source": [
    "# Split dataset into training set and test set\n",
    "df_train, df_test = train_test_split(df, test_size=0.2, random_state=22)"
   ]
  },
  {
   "cell_type": "code",
   "execution_count": 8,
   "id": "7bb75fef",
   "metadata": {
    "scrolled": false
   },
   "outputs": [
    {
     "data": {
      "text/plain": [
       "<AxesSubplot:xlabel='is_canceled', ylabel='count'>"
      ]
     },
     "execution_count": 8,
     "metadata": {},
     "output_type": "execute_result"
    },
    {
     "data": {
      "image/png": "[encoded data removed]",
      "text/plain": [
       "<Figure size 432x288 with 1 Axes>"
      ]
     },
     "metadata": {
      "needs_background": "light"
     },
     "output_type": "display_data"
    }
   ],
   "source": [
    "# countplot to see if is_canceled has balanced class distribution\n",
    "sns.countplot(x='is_canceled', data=df_train)"
   ]
  },
  {
   "cell_type": "markdown",
   "id": "67c2bcc7",
   "metadata": {},
   "source": [
    "This dataset has imbalance class."
   ]
  },
  {
   "cell_type": "markdown",
   "id": "54fd56e4",
   "metadata": {},
   "source": [
    "#### Average number of bookings per year"
   ]
  },
  {
   "cell_type": "code",
   "execution_count": 9,
   "id": "cc656384",
   "metadata": {},
   "outputs": [
    {
     "name": "stdout",
     "output_type": "stream",
     "text": [
      "Average number of bookings per year: 43,123\n",
      "Rate of bookings not canceled per year: 62.96%\n",
      "Rate of bookings canceled per year: 37.04%\n"
     ]
    }
   ],
   "source": [
    "# total number of bookings in dataset\n",
    "num_of_bookings = df_train.shape[0]\n",
    "num_of_not_canceled = df_train[df_train['is_canceled'] == 0].shape[0]\n",
    "num_of_canceled = df_train[df_train['is_canceled'] == 1].shape[0]\n",
    "# total weeks in dataset (we need this because the data ranges from mid 2015 to mid 2017)\n",
    "total_week = df_train.groupby('arrival_date_year').nunique()['arrival_date_week_number'].sum()\n",
    "\n",
    "# calculate average number of bookings per year\n",
    "avg_yearly_bookings = (num_of_bookings / total_week) * 52\n",
    "avg_yearly_bookings_not_canceled = (num_of_not_canceled / total_week) * 52\n",
    "avg_yearly_bookings_canceled = (num_of_canceled / total_week) * 52\n",
    "pct_avg_yearly_not_canceled = (avg_yearly_bookings_not_canceled / avg_yearly_bookings) * 100\n",
    "pct_avg_yearly_canceled = (avg_yearly_bookings_canceled / avg_yearly_bookings) * 100\n",
    "\n",
    "print('Average number of bookings per year: {:,}'.format(round(avg_yearly_bookings)))\n",
    "print('Rate of bookings not canceled per year: {}%'.format(round(pct_avg_yearly_not_canceled, 2)))\n",
    "print('Rate of bookings canceled per year: {}%'.format(round(pct_avg_yearly_canceled, 2)))"
   ]
  },
  {
   "cell_type": "markdown",
   "id": "13a77505",
   "metadata": {},
   "source": [
    "#### Check if time of the year affects number of bookings"
   ]
  },
  {
   "cell_type": "code",
   "execution_count": 10,
   "id": "a4cf7ab2",
   "metadata": {
    "scrolled": true
   },
   "outputs": [
    {
     "data": {
      "text/plain": [
       "Text(0, 0.5, 'Number of booking')"
      ]
     },
     "execution_count": 10,
     "metadata": {},
     "output_type": "execute_result"
    },
    {
     "data": {
      "image/png": "[encoded data removed]",
      "text/plain": [
       "<Figure size 432x288 with 1 Axes>"
      ]
     },
     "metadata": {
      "needs_background": "light"
     },
     "output_type": "display_data"
    }
   ],
   "source": [
    "df_week_num_cancellation = df_train.groupby(['arrival_date_week_number', 'is_canceled']).count()\n",
    "df_week_num_cancellation = df_week_num_cancellation.pivot_table(values='hotel', index='arrival_date_week_number', columns='is_canceled', fill_value=0)\n",
    "df_week_num_cancellation = df_week_num_cancellation.reset_index().rename(columns={0: 'not_canceled', 1: 'is_canceled'})\n",
    "\n",
    "sns.lineplot(x=df_week_num_cancellation.index, y='not_canceled', data=df_week_num_cancellation, label='not_canceled')\n",
    "sns.lineplot(x=df_week_num_cancellation.index, y='is_canceled', data=df_week_num_cancellation, label='is_canceled')\n",
    "\n",
    "plt.xlabel('Week number')\n",
    "plt.ylabel('Number of booking')"
   ]
  },
  {
   "cell_type": "markdown",
   "id": "3ce2f525",
   "metadata": {},
   "source": [
    "Based on line plot above, it is clear that number of booking is higher in the middle of the year"
   ]
  },
  {
   "cell_type": "markdown",
   "id": "1902265f",
   "metadata": {},
   "source": [
    "#### Calculate financial loss from canceled bookings"
   ]
  },
  {
   "cell_type": "markdown",
   "id": "e06cc2ea",
   "metadata": {},
   "source": [
    "ADR (Average Daily Rate) is the average price of room sold to guest on a given day."
   ]
  },
  {
   "cell_type": "code",
   "execution_count": 11,
   "id": "86c1e1e0",
   "metadata": {},
   "outputs": [
    {
     "name": "stdout",
     "output_type": "stream",
     "text": [
      "Hotel ADR: EUR 102\n"
     ]
    }
   ],
   "source": [
    "avg_adr = df_train['adr'].mean()\n",
    "\n",
    "print('Hotel ADR: EUR', round(avg_adr))"
   ]
  },
  {
   "cell_type": "code",
   "execution_count": 12,
   "id": "c6f07964",
   "metadata": {},
   "outputs": [
    {
     "name": "stdout",
     "output_type": "stream",
     "text": [
      "Total Loss (2015-2017): EUR 3,600,088\n",
      "Average Yearly Loss: EUR 1,627,866\n"
     ]
    }
   ],
   "source": [
    "# calculate loss from canceled bookings\n",
    "financial_loss = df_train[df_train['is_canceled'] == 1]['hotel'].count() * avg_adr\n",
    "\n",
    "print('Total Loss (2015-2017): EUR {:,}'.format(round(financial_loss)))\n",
    "print('Average Yearly Loss: EUR {:,}'.format(round((financial_loss/total_week)*52)))"
   ]
  },
  {
   "cell_type": "markdown",
   "id": "405d1b2c",
   "metadata": {},
   "source": [
    "### Analyse each numerical and categorical features"
   ]
  },
  {
   "cell_type": "markdown",
   "id": "ad086875",
   "metadata": {},
   "source": [
    "#### Define numerical and categorical feature to be analysed"
   ]
  },
  {
   "cell_type": "code",
   "execution_count": 13,
   "id": "112ee1a8",
   "metadata": {},
   "outputs": [],
   "source": [
    "num_cols = ['lead_time', 'arrival_date_week_number', 'stays_in_weekend_nights', 'stays_in_week_nights', 'adults', 'children', 'babies', 'previous_cancellations', 'previous_bookings_not_canceled', 'booking_changes', 'days_in_waiting_list', 'adr', 'required_car_parking_spaces', 'total_of_special_requests']\n",
    "ctg_cols = ['hotel', 'is_canceled', 'arrival_date_month', 'meal', 'country', 'market_segment', 'distribution_channel', 'is_repeated_guest', 'reserved_room_type', 'assigned_room_type', 'deposit_type', 'agent', 'customer_type', 'reservation_status']"
   ]
  },
  {
   "cell_type": "markdown",
   "id": "73430f19",
   "metadata": {},
   "source": [
    "Note that we don't use some features\n",
    "- arrival_date_year (time period is too short, and our goal is not time series forecasting)\n",
    "- arrival_date_day_of_month (might be useful if we have holiday information)\n",
    "- company (too many null values)"
   ]
  },
  {
   "cell_type": "code",
   "execution_count": 14,
   "id": "590294a3",
   "metadata": {},
   "outputs": [
    {
     "data": {
      "image/png": "[encoded data removed]",
      "text/plain": [
       "<Figure size 1080x1440 with 15 Axes>"
      ]
     },
     "metadata": {
      "needs_background": "light"
     },
     "output_type": "display_data"
    }
   ],
   "source": [
    "# plot numerical features\n",
    "fig, ax = plt.subplots(5, 3, figsize=(15,20))\n",
    "\n",
    "for ix, col in enumerate(num_cols):\n",
    "    sns.boxplot(y=col, x='is_canceled', data=df_train, ax=ax.flatten()[ix], showfliers=False)\n",
    "\n",
    "plt.show()"
   ]
  },
  {
   "cell_type": "markdown",
   "id": "b969d7f1",
   "metadata": {},
   "source": [
    "Based on boxplot above, only lead_time and total_of_special_requests features have noticeable difference between canceled and not-canceled."
   ]
  },
  {
   "cell_type": "code",
   "execution_count": 15,
   "id": "3ac9e9fb",
   "metadata": {},
   "outputs": [
    {
     "data": {
      "image/png": "[encoded data removed]",
      "text/plain": [
       "<Figure size 1080x2160 with 15 Axes>"
      ]
     },
     "metadata": {
      "needs_background": "light"
     },
     "output_type": "display_data"
    }
   ],
   "source": [
    "# plot categorical features\n",
    "fig, ax = plt.subplots(5, 3, figsize=(15,30))\n",
    "\n",
    "for ix, col in enumerate(ctg_cols):\n",
    "    sns.countplot(y=col, hue='is_canceled', data=df_train, ax=ax.flatten()[ix])\n",
    "\n",
    "plt.show()"
   ]
  },
  {
   "cell_type": "markdown",
   "id": "90bca2ce",
   "metadata": {},
   "source": [
    "based on countplots above, these are the features that might be used because they have big differences in some of the categories:\n",
    "- hotel\n",
    "- meal\n",
    "- country (need further analysis because the plot isn't readable but shows some extreme values)\n",
    "- market_segment\n",
    "- distribution_channel\n",
    "- reserved_room_type\n",
    "- deposit_type\n",
    "- customer_type\n",
    "- agent (need further analysis because the plot isn't readable but shows some extreme values)\n",
    "- is_repeated_guest"
   ]
  },
  {
   "cell_type": "markdown",
   "id": "dbbf1aa9",
   "metadata": {},
   "source": [
    "#### Hotel Guests Analysis\n",
    "At data cleansing step, there are some bookings with 0 guest. We are curious to find out if there are any bookings with 0 adults but has children/babies."
   ]
  },
  {
   "cell_type": "code",
   "execution_count": 16,
   "id": "2daa3edc",
   "metadata": {
    "scrolled": true
   },
   "outputs": [
    {
     "data": {
      "text/html": [
       "<div>\n",
       "<style scoped>\n",
       "    .dataframe tbody tr th:only-of-type {\n",
       "        vertical-align: middle;\n",
       "    }\n",
       "\n",
       "    .dataframe tbody tr th {\n",
       "        vertical-align: top;\n",
       "    }\n",
       "\n",
       "    .dataframe thead th {\n",
       "        text-align: right;\n",
       "    }\n",
       "</style>\n",
       "<table border=\"1\" class=\"dataframe\">\n",
       "  <thead>\n",
       "    <tr style=\"text-align: right;\">\n",
       "      <th></th>\n",
       "      <th>adults</th>\n",
       "      <th>children</th>\n",
       "      <th>babies</th>\n",
       "    </tr>\n",
       "  </thead>\n",
       "  <tbody>\n",
       "    <tr>\n",
       "      <th>64289</th>\n",
       "      <td>0</td>\n",
       "      <td>2.0</td>\n",
       "      <td>0</td>\n",
       "    </tr>\n",
       "    <tr>\n",
       "      <th>48233</th>\n",
       "      <td>0</td>\n",
       "      <td>2.0</td>\n",
       "      <td>0</td>\n",
       "    </tr>\n",
       "    <tr>\n",
       "      <th>57038</th>\n",
       "      <td>0</td>\n",
       "      <td>2.0</td>\n",
       "      <td>0</td>\n",
       "    </tr>\n",
       "    <tr>\n",
       "      <th>47133</th>\n",
       "      <td>0</td>\n",
       "      <td>2.0</td>\n",
       "      <td>0</td>\n",
       "    </tr>\n",
       "    <tr>\n",
       "      <th>65272</th>\n",
       "      <td>0</td>\n",
       "      <td>2.0</td>\n",
       "      <td>0</td>\n",
       "    </tr>\n",
       "    <tr>\n",
       "      <th>...</th>\n",
       "      <td>...</td>\n",
       "      <td>...</td>\n",
       "      <td>...</td>\n",
       "    </tr>\n",
       "    <tr>\n",
       "      <th>103635</th>\n",
       "      <td>0</td>\n",
       "      <td>2.0</td>\n",
       "      <td>0</td>\n",
       "    </tr>\n",
       "    <tr>\n",
       "      <th>47046</th>\n",
       "      <td>0</td>\n",
       "      <td>2.0</td>\n",
       "      <td>0</td>\n",
       "    </tr>\n",
       "    <tr>\n",
       "      <th>96106</th>\n",
       "      <td>0</td>\n",
       "      <td>2.0</td>\n",
       "      <td>0</td>\n",
       "    </tr>\n",
       "    <tr>\n",
       "      <th>79596</th>\n",
       "      <td>0</td>\n",
       "      <td>2.0</td>\n",
       "      <td>0</td>\n",
       "    </tr>\n",
       "    <tr>\n",
       "      <th>113741</th>\n",
       "      <td>0</td>\n",
       "      <td>1.0</td>\n",
       "      <td>0</td>\n",
       "    </tr>\n",
       "  </tbody>\n",
       "</table>\n",
       "<p>187 rows × 3 columns</p>\n",
       "</div>"
      ],
      "text/plain": [
       "        adults  children  babies\n",
       "64289        0       2.0       0\n",
       "48233        0       2.0       0\n",
       "57038        0       2.0       0\n",
       "47133        0       2.0       0\n",
       "65272        0       2.0       0\n",
       "...        ...       ...     ...\n",
       "103635       0       2.0       0\n",
       "47046        0       2.0       0\n",
       "96106        0       2.0       0\n",
       "79596        0       2.0       0\n",
       "113741       0       1.0       0\n",
       "\n",
       "[187 rows x 3 columns]"
      ]
     },
     "execution_count": 16,
     "metadata": {},
     "output_type": "execute_result"
    }
   ],
   "source": [
    "df_train[\n",
    "    (df_train['adults'] == 0) &\n",
    "    ((df_train['children'] != 0) |\n",
    "    (df_train['babies'] != 0) )\n",
    "][['adults', 'children', 'babies']]"
   ]
  },
  {
   "cell_type": "markdown",
   "id": "fcb94701",
   "metadata": {},
   "source": [
    "There are some bookings with 0 adults but has children/babies. "
   ]
  },
  {
   "cell_type": "markdown",
   "id": "f677b729",
   "metadata": {},
   "source": [
    "#### Further analysis on country feature"
   ]
  },
  {
   "cell_type": "code",
   "execution_count": 17,
   "id": "2cb5263e",
   "metadata": {
    "scrolled": false
   },
   "outputs": [
    {
     "data": {
      "text/html": [
       "<div>\n",
       "<style scoped>\n",
       "    .dataframe tbody tr th:only-of-type {\n",
       "        vertical-align: middle;\n",
       "    }\n",
       "\n",
       "    .dataframe tbody tr th {\n",
       "        vertical-align: top;\n",
       "    }\n",
       "\n",
       "    .dataframe thead th {\n",
       "        text-align: right;\n",
       "    }\n",
       "</style>\n",
       "<table border=\"1\" class=\"dataframe\">\n",
       "  <thead>\n",
       "    <tr style=\"text-align: right;\">\n",
       "      <th>is_canceled</th>\n",
       "      <th>not_canceled</th>\n",
       "      <th>is_canceled</th>\n",
       "      <th>total_bookings</th>\n",
       "      <th>cancel_rate</th>\n",
       "    </tr>\n",
       "    <tr>\n",
       "      <th>country</th>\n",
       "      <th></th>\n",
       "      <th></th>\n",
       "      <th></th>\n",
       "      <th></th>\n",
       "    </tr>\n",
       "  </thead>\n",
       "  <tbody>\n",
       "    <tr>\n",
       "      <th>PRT</th>\n",
       "      <td>16796</td>\n",
       "      <td>22007</td>\n",
       "      <td>38803</td>\n",
       "      <td>0.567147</td>\n",
       "    </tr>\n",
       "    <tr>\n",
       "      <th>GBR</th>\n",
       "      <td>7724</td>\n",
       "      <td>1976</td>\n",
       "      <td>9700</td>\n",
       "      <td>0.203711</td>\n",
       "    </tr>\n",
       "    <tr>\n",
       "      <th>FRA</th>\n",
       "      <td>6777</td>\n",
       "      <td>1546</td>\n",
       "      <td>8323</td>\n",
       "      <td>0.185750</td>\n",
       "    </tr>\n",
       "    <tr>\n",
       "      <th>ESP</th>\n",
       "      <td>5110</td>\n",
       "      <td>1728</td>\n",
       "      <td>6838</td>\n",
       "      <td>0.252705</td>\n",
       "    </tr>\n",
       "    <tr>\n",
       "      <th>DEU</th>\n",
       "      <td>4873</td>\n",
       "      <td>973</td>\n",
       "      <td>5846</td>\n",
       "      <td>0.166439</td>\n",
       "    </tr>\n",
       "  </tbody>\n",
       "</table>\n",
       "</div>"
      ],
      "text/plain": [
       "is_canceled  not_canceled  is_canceled  total_bookings  cancel_rate\n",
       "country                                                            \n",
       "PRT                 16796        22007           38803     0.567147\n",
       "GBR                  7724         1976            9700     0.203711\n",
       "FRA                  6777         1546            8323     0.185750\n",
       "ESP                  5110         1728            6838     0.252705\n",
       "DEU                  4873          973            5846     0.166439"
      ]
     },
     "execution_count": 17,
     "metadata": {},
     "output_type": "execute_result"
    }
   ],
   "source": [
    "# count total bookings from each country, and their cancelation rate\n",
    "df_country = df_train.groupby(['is_canceled', 'country']).count()\n",
    "df_country = df_country.pivot_table(values='hotel', index='country', columns='is_canceled', fill_value=0)\n",
    "df_country = df_country.rename(columns={0: 'not_canceled', 1: 'is_canceled'})\n",
    "df_country['total_bookings'] = df_country['not_canceled'] + df_country['is_canceled']\n",
    "df_country['cancel_rate'] = df_country['is_canceled'] / df_country['total_bookings']\n",
    "df_country[df_country['cancel_rate'] < 1].sort_values(['total_bookings', 'cancel_rate'], ascending=False).head()"
   ]
  },
  {
   "cell_type": "markdown",
   "id": "163613d8",
   "metadata": {},
   "source": [
    "Based on the table above, we can see PRT has the highest number of bookings, but more than half of them is canceled."
   ]
  },
  {
   "cell_type": "markdown",
   "id": "391ecdfc",
   "metadata": {},
   "source": [
    "#### Further analysis on agent feature"
   ]
  },
  {
   "cell_type": "code",
   "execution_count": 18,
   "id": "5f521824",
   "metadata": {
    "scrolled": true
   },
   "outputs": [
    {
     "data": {
      "text/plain": [
       "<AxesSubplot:xlabel='count', ylabel='agent'>"
      ]
     },
     "execution_count": 18,
     "metadata": {},
     "output_type": "execute_result"
    },
    {
     "data": {
      "image/png": "[encoded data removed]",
      "text/plain": [
       "<Figure size 576x2160 with 1 Axes>"
      ]
     },
     "metadata": {
      "needs_background": "light"
     },
     "output_type": "display_data"
    }
   ],
   "source": [
    "plt.figure(figsize=(8,30))\n",
    "sns.countplot(y='agent', hue='is_canceled', data=df_train)"
   ]
  },
  {
   "cell_type": "code",
   "execution_count": 19,
   "id": "51ec475c",
   "metadata": {
    "scrolled": false
   },
   "outputs": [
    {
     "data": {
      "text/plain": [
       "agent  is_canceled\n",
       "9.0    0              14942\n",
       "       1              10553\n",
       "240.0  0               6798\n",
       "       1               4406\n",
       "1.0    1               4207\n",
       "7.0    0               2449\n",
       "14.0   0               2358\n",
       "250.0  0               1888\n",
       "6.0    0               1821\n",
       "1.0    0               1542\n",
       "Name: hotel, dtype: int64"
      ]
     },
     "execution_count": 19,
     "metadata": {},
     "output_type": "execute_result"
    }
   ],
   "source": [
    "df_train.groupby(['agent', 'is_canceled']).count().sort_values(by='hotel', ascending=False)['hotel'].head(10)"
   ]
  },
  {
   "cell_type": "markdown",
   "id": "60e1ebff",
   "metadata": {},
   "source": [
    "Based on data above, agent 1, 9, and 240 are the top 3 highest number of booking, and have high cancellation rate."
   ]
  },
  {
   "cell_type": "markdown",
   "id": "cb2e97da",
   "metadata": {},
   "source": [
    "### Explore the room types feature"
   ]
  },
  {
   "cell_type": "markdown",
   "id": "a287eb8a",
   "metadata": {},
   "source": [
    "#### Check for available room type"
   ]
  },
  {
   "cell_type": "code",
   "execution_count": 20,
   "id": "40af28de",
   "metadata": {
    "scrolled": true
   },
   "outputs": [
    {
     "data": {
      "text/plain": [
       "array(['A', 'E', 'D', 'F', 'G', 'B', 'C', 'H', 'L'], dtype=object)"
      ]
     },
     "execution_count": 20,
     "metadata": {},
     "output_type": "execute_result"
    }
   ],
   "source": [
    "# room type reserved by guest\n",
    "df_train['reserved_room_type'].unique()"
   ]
  },
  {
   "cell_type": "code",
   "execution_count": 21,
   "id": "d0463227",
   "metadata": {},
   "outputs": [
    {
     "data": {
      "text/plain": [
       "array(['A', 'E', 'D', 'I', 'F', 'G', 'C', 'B', 'H', 'K', 'L'],\n",
       "      dtype=object)"
      ]
     },
     "execution_count": 21,
     "metadata": {},
     "output_type": "execute_result"
    }
   ],
   "source": [
    "# room type assigned by hotel\n",
    "df_train['assigned_room_type'].unique()"
   ]
  },
  {
   "cell_type": "markdown",
   "id": "d90aba29",
   "metadata": {},
   "source": [
    "There are 2 room types that are not available in reserved_room_type (type 'I' and 'K')."
   ]
  },
  {
   "cell_type": "markdown",
   "id": "c7271747",
   "metadata": {},
   "source": [
    "#### Check each room's price distribution"
   ]
  },
  {
   "cell_type": "code",
   "execution_count": 22,
   "id": "b48b0352",
   "metadata": {
    "scrolled": false
   },
   "outputs": [
    {
     "data": {
      "text/plain": [
       "<AxesSubplot:xlabel='reserved_room_type', ylabel='adr'>"
      ]
     },
     "execution_count": 22,
     "metadata": {},
     "output_type": "execute_result"
    },
    {
     "data": {
      "image/png": "[encoded data removed]",
      "text/plain": [
       "<Figure size 720x432 with 1 Axes>"
      ]
     },
     "metadata": {
      "needs_background": "light"
     },
     "output_type": "display_data"
    }
   ],
   "source": [
    "# plot the distribution of each room type ADR\n",
    "plt.figure(figsize=(10,6))\n",
    "sns.boxplot(x='reserved_room_type', y='adr', data=df_train)"
   ]
  },
  {
   "cell_type": "markdown",
   "id": "80be7eb2",
   "metadata": {},
   "source": [
    "Room type A has 1 extreme outlier. We will remove this data."
   ]
  },
  {
   "cell_type": "code",
   "execution_count": 23,
   "id": "b216056e",
   "metadata": {},
   "outputs": [],
   "source": [
    "room_price_outlier = df_train[df_train['adr'] > 5000].index[0]\n",
    "df_train.drop(index=room_price_outlier, inplace=True)"
   ]
  },
  {
   "cell_type": "code",
   "execution_count": 24,
   "id": "1a6aa1e4",
   "metadata": {
    "scrolled": false
   },
   "outputs": [
    {
     "data": {
      "text/plain": [
       "<AxesSubplot:xlabel='reserved_room_type', ylabel='adr'>"
      ]
     },
     "execution_count": 24,
     "metadata": {},
     "output_type": "execute_result"
    },
    {
     "data": {
      "image/png": "[encoded data removed]",
      "text/plain": [
       "<Figure size 720x432 with 1 Axes>"
      ]
     },
     "metadata": {
      "needs_background": "light"
     },
     "output_type": "display_data"
    }
   ],
   "source": [
    "# plot the distribution of each room type ADR after removing extreme outlier\n",
    "plt.figure(figsize=(10,6))\n",
    "sns.boxplot(x='reserved_room_type', y='adr', data=df_train)"
   ]
  },
  {
   "cell_type": "markdown",
   "id": "c989ac76",
   "metadata": {},
   "source": [
    "Each room type has different ADR distribution."
   ]
  },
  {
   "cell_type": "markdown",
   "id": "011276f1",
   "metadata": {},
   "source": [
    "#### Rank each reserved room type based on their average ADR"
   ]
  },
  {
   "cell_type": "markdown",
   "id": "15b1c4bc",
   "metadata": {},
   "source": [
    "Assumption: ADR is the price of reserved_room_type (the price at the time when guest booked the hotel), not the price of assigned_room_type (room assigned by the hotel).\n",
    "\n",
    "We will calculate the average price of each room type based on reserved_room_type to find out which room type is more expensive.\n",
    "\n",
    "Based on assumption above, we can't calculate the average price of room type 'I' and 'K' because there are no bookings with those reserved room type."
   ]
  },
  {
   "cell_type": "code",
   "execution_count": 25,
   "id": "65a238b4",
   "metadata": {
    "scrolled": true
   },
   "outputs": [
    {
     "data": {
      "text/html": [
       "<div>\n",
       "<style scoped>\n",
       "    .dataframe tbody tr th:only-of-type {\n",
       "        vertical-align: middle;\n",
       "    }\n",
       "\n",
       "    .dataframe tbody tr th {\n",
       "        vertical-align: top;\n",
       "    }\n",
       "\n",
       "    .dataframe thead th {\n",
       "        text-align: right;\n",
       "    }\n",
       "</style>\n",
       "<table border=\"1\" class=\"dataframe\">\n",
       "  <thead>\n",
       "    <tr style=\"text-align: right;\">\n",
       "      <th></th>\n",
       "      <th>room_type</th>\n",
       "      <th>adr</th>\n",
       "    </tr>\n",
       "  </thead>\n",
       "  <tbody>\n",
       "    <tr>\n",
       "      <th>0</th>\n",
       "      <td>L</td>\n",
       "      <td>75.333333</td>\n",
       "    </tr>\n",
       "    <tr>\n",
       "      <th>1</th>\n",
       "      <td>B</td>\n",
       "      <td>90.197643</td>\n",
       "    </tr>\n",
       "    <tr>\n",
       "      <th>2</th>\n",
       "      <td>A</td>\n",
       "      <td>90.854180</td>\n",
       "    </tr>\n",
       "    <tr>\n",
       "      <th>3</th>\n",
       "      <td>D</td>\n",
       "      <td>120.765036</td>\n",
       "    </tr>\n",
       "    <tr>\n",
       "      <th>4</th>\n",
       "      <td>E</td>\n",
       "      <td>124.267114</td>\n",
       "    </tr>\n",
       "    <tr>\n",
       "      <th>5</th>\n",
       "      <td>C</td>\n",
       "      <td>160.144179</td>\n",
       "    </tr>\n",
       "    <tr>\n",
       "      <th>6</th>\n",
       "      <td>F</td>\n",
       "      <td>167.812154</td>\n",
       "    </tr>\n",
       "    <tr>\n",
       "      <th>7</th>\n",
       "      <td>G</td>\n",
       "      <td>175.808208</td>\n",
       "    </tr>\n",
       "    <tr>\n",
       "      <th>8</th>\n",
       "      <td>H</td>\n",
       "      <td>187.078241</td>\n",
       "    </tr>\n",
       "  </tbody>\n",
       "</table>\n",
       "</div>"
      ],
      "text/plain": [
       "  room_type         adr\n",
       "0         L   75.333333\n",
       "1         B   90.197643\n",
       "2         A   90.854180\n",
       "3         D  120.765036\n",
       "4         E  124.267114\n",
       "5         C  160.144179\n",
       "6         F  167.812154\n",
       "7         G  175.808208\n",
       "8         H  187.078241"
      ]
     },
     "execution_count": 25,
     "metadata": {},
     "output_type": "execute_result"
    }
   ],
   "source": [
    "# calculate average ADR for each room type\n",
    "df_mean_adr = pd.DataFrame(df_train.groupby('reserved_room_type')['adr'].mean().sort_values()).reset_index().rename(columns={'reserved_room_type': 'room_type'})\n",
    "df_mean_adr"
   ]
  },
  {
   "cell_type": "markdown",
   "id": "ab276fa7",
   "metadata": {},
   "source": [
    "We create a dictionary of room types and ranks pair to rank every booked and assigned room types. "
   ]
  },
  {
   "cell_type": "code",
   "execution_count": 26,
   "id": "2a32a563",
   "metadata": {},
   "outputs": [
    {
     "data": {
      "text/plain": [
       "{'L': 0, 'B': 1, 'A': 2, 'D': 3, 'E': 4, 'C': 5, 'F': 6, 'G': 7, 'H': 8}"
      ]
     },
     "execution_count": 26,
     "metadata": {},
     "output_type": "execute_result"
    }
   ],
   "source": [
    "# create a room type ranking dictionary\n",
    "room_type_rank_dict = {}\n",
    "\n",
    "for room_type in df_mean_adr['room_type']:\n",
    "    ix = df_mean_adr[df_mean_adr['room_type'] == room_type].index\n",
    "    room_type_rank_dict[room_type] = ix[0]\n",
    "    \n",
    "room_type_rank_dict"
   ]
  },
  {
   "cell_type": "markdown",
   "id": "ab69cea1",
   "metadata": {},
   "source": [
    "We will give each booking's room a rank based on the dictionary"
   ]
  },
  {
   "cell_type": "code",
   "execution_count": 27,
   "id": "bbc7b65c",
   "metadata": {
    "scrolled": true
   },
   "outputs": [
    {
     "data": {
      "text/html": [
       "<div>\n",
       "<style scoped>\n",
       "    .dataframe tbody tr th:only-of-type {\n",
       "        vertical-align: middle;\n",
       "    }\n",
       "\n",
       "    .dataframe tbody tr th {\n",
       "        vertical-align: top;\n",
       "    }\n",
       "\n",
       "    .dataframe thead th {\n",
       "        text-align: right;\n",
       "    }\n",
       "</style>\n",
       "<table border=\"1\" class=\"dataframe\">\n",
       "  <thead>\n",
       "    <tr style=\"text-align: right;\">\n",
       "      <th></th>\n",
       "      <th>is_canceled</th>\n",
       "      <th>reserved_room_type</th>\n",
       "      <th>assigned_room_type</th>\n",
       "    </tr>\n",
       "  </thead>\n",
       "  <tbody>\n",
       "    <tr>\n",
       "      <th>101250</th>\n",
       "      <td>0</td>\n",
       "      <td>A</td>\n",
       "      <td>A</td>\n",
       "    </tr>\n",
       "    <tr>\n",
       "      <th>41642</th>\n",
       "      <td>1</td>\n",
       "      <td>A</td>\n",
       "      <td>A</td>\n",
       "    </tr>\n",
       "    <tr>\n",
       "      <th>89106</th>\n",
       "      <td>0</td>\n",
       "      <td>A</td>\n",
       "      <td>A</td>\n",
       "    </tr>\n",
       "    <tr>\n",
       "      <th>89379</th>\n",
       "      <td>0</td>\n",
       "      <td>E</td>\n",
       "      <td>E</td>\n",
       "    </tr>\n",
       "    <tr>\n",
       "      <th>108447</th>\n",
       "      <td>0</td>\n",
       "      <td>A</td>\n",
       "      <td>A</td>\n",
       "    </tr>\n",
       "    <tr>\n",
       "      <th>...</th>\n",
       "      <td>...</td>\n",
       "      <td>...</td>\n",
       "      <td>...</td>\n",
       "    </tr>\n",
       "    <tr>\n",
       "      <th>88641</th>\n",
       "      <td>0</td>\n",
       "      <td>A</td>\n",
       "      <td>A</td>\n",
       "    </tr>\n",
       "    <tr>\n",
       "      <th>24939</th>\n",
       "      <td>0</td>\n",
       "      <td>E</td>\n",
       "      <td>F</td>\n",
       "    </tr>\n",
       "    <tr>\n",
       "      <th>31687</th>\n",
       "      <td>0</td>\n",
       "      <td>D</td>\n",
       "      <td>D</td>\n",
       "    </tr>\n",
       "    <tr>\n",
       "      <th>95108</th>\n",
       "      <td>0</td>\n",
       "      <td>D</td>\n",
       "      <td>D</td>\n",
       "    </tr>\n",
       "    <tr>\n",
       "      <th>109588</th>\n",
       "      <td>0</td>\n",
       "      <td>A</td>\n",
       "      <td>A</td>\n",
       "    </tr>\n",
       "  </tbody>\n",
       "</table>\n",
       "<p>95367 rows × 3 columns</p>\n",
       "</div>"
      ],
      "text/plain": [
       "        is_canceled reserved_room_type assigned_room_type\n",
       "101250            0                  A                  A\n",
       "41642             1                  A                  A\n",
       "89106             0                  A                  A\n",
       "89379             0                  E                  E\n",
       "108447            0                  A                  A\n",
       "...             ...                ...                ...\n",
       "88641             0                  A                  A\n",
       "24939             0                  E                  F\n",
       "31687             0                  D                  D\n",
       "95108             0                  D                  D\n",
       "109588            0                  A                  A\n",
       "\n",
       "[95367 rows x 3 columns]"
      ]
     },
     "execution_count": 27,
     "metadata": {},
     "output_type": "execute_result"
    }
   ],
   "source": [
    "# select only the reserved and assigned room type of each bookings\n",
    "df_reserved_assigned_room_pair = df_train[['is_canceled', 'reserved_room_type', 'assigned_room_type']]\n",
    "df_reserved_assigned_room_pair"
   ]
  },
  {
   "cell_type": "code",
   "execution_count": 28,
   "id": "268689fe",
   "metadata": {},
   "outputs": [],
   "source": [
    "# create a function to encode each room's rank based on room_type_rank_dict.\n",
    "# For room type 'I' and 'K', we will give them a different value.\n",
    "def room_type_ranker(room_type):\n",
    "    if (room_type in room_type_rank_dict):\n",
    "        return room_type_rank_dict[room_type]\n",
    "    else:\n",
    "        # for room type 'I' and 'K'\n",
    "        return len(room_type_rank_dict)"
   ]
  },
  {
   "cell_type": "code",
   "execution_count": 29,
   "id": "d9ef5a9e",
   "metadata": {
    "scrolled": true
   },
   "outputs": [
    {
     "name": "stderr",
     "output_type": "stream",
     "text": [
      "<ipython-input-29-ffc0d5147fef>:2: SettingWithCopyWarning: \n",
      "A value is trying to be set on a copy of a slice from a DataFrame.\n",
      "Try using .loc[row_indexer,col_indexer] = value instead\n",
      "\n",
      "See the caveats in the documentation: https://pandas.pydata.org/pandas-docs/stable/user_guide/indexing.html#returning-a-view-versus-a-copy\n",
      "  df_reserved_assigned_room_pair['reserved_room_type_rank'] = df_reserved_assigned_room_pair['reserved_room_type'].apply(room_type_ranker)\n",
      "<ipython-input-29-ffc0d5147fef>:3: SettingWithCopyWarning: \n",
      "A value is trying to be set on a copy of a slice from a DataFrame.\n",
      "Try using .loc[row_indexer,col_indexer] = value instead\n",
      "\n",
      "See the caveats in the documentation: https://pandas.pydata.org/pandas-docs/stable/user_guide/indexing.html#returning-a-view-versus-a-copy\n",
      "  df_reserved_assigned_room_pair['assigned_room_type_rank'] = df_reserved_assigned_room_pair['assigned_room_type'].apply(room_type_ranker)\n"
     ]
    },
    {
     "data": {
      "text/html": [
       "<div>\n",
       "<style scoped>\n",
       "    .dataframe tbody tr th:only-of-type {\n",
       "        vertical-align: middle;\n",
       "    }\n",
       "\n",
       "    .dataframe tbody tr th {\n",
       "        vertical-align: top;\n",
       "    }\n",
       "\n",
       "    .dataframe thead th {\n",
       "        text-align: right;\n",
       "    }\n",
       "</style>\n",
       "<table border=\"1\" class=\"dataframe\">\n",
       "  <thead>\n",
       "    <tr style=\"text-align: right;\">\n",
       "      <th></th>\n",
       "      <th>is_canceled</th>\n",
       "      <th>reserved_room_type</th>\n",
       "      <th>assigned_room_type</th>\n",
       "      <th>reserved_room_type_rank</th>\n",
       "      <th>assigned_room_type_rank</th>\n",
       "    </tr>\n",
       "  </thead>\n",
       "  <tbody>\n",
       "    <tr>\n",
       "      <th>101250</th>\n",
       "      <td>0</td>\n",
       "      <td>A</td>\n",
       "      <td>A</td>\n",
       "      <td>2</td>\n",
       "      <td>2</td>\n",
       "    </tr>\n",
       "    <tr>\n",
       "      <th>41642</th>\n",
       "      <td>1</td>\n",
       "      <td>A</td>\n",
       "      <td>A</td>\n",
       "      <td>2</td>\n",
       "      <td>2</td>\n",
       "    </tr>\n",
       "    <tr>\n",
       "      <th>89106</th>\n",
       "      <td>0</td>\n",
       "      <td>A</td>\n",
       "      <td>A</td>\n",
       "      <td>2</td>\n",
       "      <td>2</td>\n",
       "    </tr>\n",
       "    <tr>\n",
       "      <th>89379</th>\n",
       "      <td>0</td>\n",
       "      <td>E</td>\n",
       "      <td>E</td>\n",
       "      <td>4</td>\n",
       "      <td>4</td>\n",
       "    </tr>\n",
       "    <tr>\n",
       "      <th>108447</th>\n",
       "      <td>0</td>\n",
       "      <td>A</td>\n",
       "      <td>A</td>\n",
       "      <td>2</td>\n",
       "      <td>2</td>\n",
       "    </tr>\n",
       "    <tr>\n",
       "      <th>...</th>\n",
       "      <td>...</td>\n",
       "      <td>...</td>\n",
       "      <td>...</td>\n",
       "      <td>...</td>\n",
       "      <td>...</td>\n",
       "    </tr>\n",
       "    <tr>\n",
       "      <th>88641</th>\n",
       "      <td>0</td>\n",
       "      <td>A</td>\n",
       "      <td>A</td>\n",
       "      <td>2</td>\n",
       "      <td>2</td>\n",
       "    </tr>\n",
       "    <tr>\n",
       "      <th>24939</th>\n",
       "      <td>0</td>\n",
       "      <td>E</td>\n",
       "      <td>F</td>\n",
       "      <td>4</td>\n",
       "      <td>6</td>\n",
       "    </tr>\n",
       "    <tr>\n",
       "      <th>31687</th>\n",
       "      <td>0</td>\n",
       "      <td>D</td>\n",
       "      <td>D</td>\n",
       "      <td>3</td>\n",
       "      <td>3</td>\n",
       "    </tr>\n",
       "    <tr>\n",
       "      <th>95108</th>\n",
       "      <td>0</td>\n",
       "      <td>D</td>\n",
       "      <td>D</td>\n",
       "      <td>3</td>\n",
       "      <td>3</td>\n",
       "    </tr>\n",
       "    <tr>\n",
       "      <th>109588</th>\n",
       "      <td>0</td>\n",
       "      <td>A</td>\n",
       "      <td>A</td>\n",
       "      <td>2</td>\n",
       "      <td>2</td>\n",
       "    </tr>\n",
       "  </tbody>\n",
       "</table>\n",
       "<p>95367 rows × 5 columns</p>\n",
       "</div>"
      ],
      "text/plain": [
       "        is_canceled reserved_room_type assigned_room_type  \\\n",
       "101250            0                  A                  A   \n",
       "41642             1                  A                  A   \n",
       "89106             0                  A                  A   \n",
       "89379             0                  E                  E   \n",
       "108447            0                  A                  A   \n",
       "...             ...                ...                ...   \n",
       "88641             0                  A                  A   \n",
       "24939             0                  E                  F   \n",
       "31687             0                  D                  D   \n",
       "95108             0                  D                  D   \n",
       "109588            0                  A                  A   \n",
       "\n",
       "        reserved_room_type_rank  assigned_room_type_rank  \n",
       "101250                        2                        2  \n",
       "41642                         2                        2  \n",
       "89106                         2                        2  \n",
       "89379                         4                        4  \n",
       "108447                        2                        2  \n",
       "...                         ...                      ...  \n",
       "88641                         2                        2  \n",
       "24939                         4                        6  \n",
       "31687                         3                        3  \n",
       "95108                         3                        3  \n",
       "109588                        2                        2  \n",
       "\n",
       "[95367 rows x 5 columns]"
      ]
     },
     "execution_count": 29,
     "metadata": {},
     "output_type": "execute_result"
    }
   ],
   "source": [
    "# applying the room_type_ranker function\n",
    "df_reserved_assigned_room_pair['reserved_room_type_rank'] = df_reserved_assigned_room_pair['reserved_room_type'].apply(room_type_ranker)\n",
    "df_reserved_assigned_room_pair['assigned_room_type_rank'] = df_reserved_assigned_room_pair['assigned_room_type'].apply(room_type_ranker)\n",
    "df_reserved_assigned_room_pair"
   ]
  },
  {
   "cell_type": "markdown",
   "id": "1e9b115c",
   "metadata": {},
   "source": [
    "We will calculate the financial loss suffered by the hotel if they assigned a guest to a higher ranked room."
   ]
  },
  {
   "cell_type": "code",
   "execution_count": 30,
   "id": "b820ed55",
   "metadata": {
    "scrolled": false
   },
   "outputs": [
    {
     "data": {
      "text/html": [
       "<div>\n",
       "<style scoped>\n",
       "    .dataframe tbody tr th:only-of-type {\n",
       "        vertical-align: middle;\n",
       "    }\n",
       "\n",
       "    .dataframe tbody tr th {\n",
       "        vertical-align: top;\n",
       "    }\n",
       "\n",
       "    .dataframe thead th {\n",
       "        text-align: right;\n",
       "    }\n",
       "</style>\n",
       "<table border=\"1\" class=\"dataframe\">\n",
       "  <thead>\n",
       "    <tr style=\"text-align: right;\">\n",
       "      <th></th>\n",
       "      <th>is_canceled</th>\n",
       "      <th>reserved_room_type</th>\n",
       "      <th>assigned_room_type</th>\n",
       "      <th>reserved_room_type_rank</th>\n",
       "      <th>assigned_room_type_rank</th>\n",
       "    </tr>\n",
       "  </thead>\n",
       "  <tbody>\n",
       "    <tr>\n",
       "      <th>2479</th>\n",
       "      <td>0</td>\n",
       "      <td>A</td>\n",
       "      <td>D</td>\n",
       "      <td>2</td>\n",
       "      <td>3</td>\n",
       "    </tr>\n",
       "    <tr>\n",
       "      <th>44049</th>\n",
       "      <td>0</td>\n",
       "      <td>A</td>\n",
       "      <td>D</td>\n",
       "      <td>2</td>\n",
       "      <td>3</td>\n",
       "    </tr>\n",
       "    <tr>\n",
       "      <th>82611</th>\n",
       "      <td>0</td>\n",
       "      <td>A</td>\n",
       "      <td>D</td>\n",
       "      <td>2</td>\n",
       "      <td>3</td>\n",
       "    </tr>\n",
       "    <tr>\n",
       "      <th>21701</th>\n",
       "      <td>0</td>\n",
       "      <td>A</td>\n",
       "      <td>D</td>\n",
       "      <td>2</td>\n",
       "      <td>3</td>\n",
       "    </tr>\n",
       "    <tr>\n",
       "      <th>18480</th>\n",
       "      <td>0</td>\n",
       "      <td>A</td>\n",
       "      <td>D</td>\n",
       "      <td>2</td>\n",
       "      <td>3</td>\n",
       "    </tr>\n",
       "    <tr>\n",
       "      <th>...</th>\n",
       "      <td>...</td>\n",
       "      <td>...</td>\n",
       "      <td>...</td>\n",
       "      <td>...</td>\n",
       "      <td>...</td>\n",
       "    </tr>\n",
       "    <tr>\n",
       "      <th>29941</th>\n",
       "      <td>0</td>\n",
       "      <td>A</td>\n",
       "      <td>D</td>\n",
       "      <td>2</td>\n",
       "      <td>3</td>\n",
       "    </tr>\n",
       "    <tr>\n",
       "      <th>43751</th>\n",
       "      <td>0</td>\n",
       "      <td>A</td>\n",
       "      <td>D</td>\n",
       "      <td>2</td>\n",
       "      <td>3</td>\n",
       "    </tr>\n",
       "    <tr>\n",
       "      <th>105120</th>\n",
       "      <td>0</td>\n",
       "      <td>A</td>\n",
       "      <td>D</td>\n",
       "      <td>2</td>\n",
       "      <td>3</td>\n",
       "    </tr>\n",
       "    <tr>\n",
       "      <th>20978</th>\n",
       "      <td>0</td>\n",
       "      <td>A</td>\n",
       "      <td>E</td>\n",
       "      <td>2</td>\n",
       "      <td>4</td>\n",
       "    </tr>\n",
       "    <tr>\n",
       "      <th>24939</th>\n",
       "      <td>0</td>\n",
       "      <td>E</td>\n",
       "      <td>F</td>\n",
       "      <td>4</td>\n",
       "      <td>6</td>\n",
       "    </tr>\n",
       "  </tbody>\n",
       "</table>\n",
       "<p>11475 rows × 5 columns</p>\n",
       "</div>"
      ],
      "text/plain": [
       "        is_canceled reserved_room_type assigned_room_type  \\\n",
       "2479              0                  A                  D   \n",
       "44049             0                  A                  D   \n",
       "82611             0                  A                  D   \n",
       "21701             0                  A                  D   \n",
       "18480             0                  A                  D   \n",
       "...             ...                ...                ...   \n",
       "29941             0                  A                  D   \n",
       "43751             0                  A                  D   \n",
       "105120            0                  A                  D   \n",
       "20978             0                  A                  E   \n",
       "24939             0                  E                  F   \n",
       "\n",
       "        reserved_room_type_rank  assigned_room_type_rank  \n",
       "2479                          2                        3  \n",
       "44049                         2                        3  \n",
       "82611                         2                        3  \n",
       "21701                         2                        3  \n",
       "18480                         2                        3  \n",
       "...                         ...                      ...  \n",
       "29941                         2                        3  \n",
       "43751                         2                        3  \n",
       "105120                        2                        3  \n",
       "20978                         2                        4  \n",
       "24939                         4                        6  \n",
       "\n",
       "[11475 rows x 5 columns]"
      ]
     },
     "execution_count": 30,
     "metadata": {},
     "output_type": "execute_result"
    }
   ],
   "source": [
    "# select only bookings with different reserved and assigned room, and exclude room type 'I' and 'K'.\n",
    "df_different_room_type = df_reserved_assigned_room_pair[\n",
    "    (df_reserved_assigned_room_pair['reserved_room_type'] != df_reserved_assigned_room_pair['assigned_room_type']) &\n",
    "    (df_reserved_assigned_room_pair['assigned_room_type_rank'] != 9)]\n",
    "df_different_room_type"
   ]
  },
  {
   "cell_type": "code",
   "execution_count": 31,
   "id": "cdc31a79",
   "metadata": {
    "scrolled": true
   },
   "outputs": [
    {
     "data": {
      "text/html": [
       "<div>\n",
       "<style scoped>\n",
       "    .dataframe tbody tr th:only-of-type {\n",
       "        vertical-align: middle;\n",
       "    }\n",
       "\n",
       "    .dataframe tbody tr th {\n",
       "        vertical-align: top;\n",
       "    }\n",
       "\n",
       "    .dataframe thead th {\n",
       "        text-align: right;\n",
       "    }\n",
       "</style>\n",
       "<table border=\"1\" class=\"dataframe\">\n",
       "  <thead>\n",
       "    <tr style=\"text-align: right;\">\n",
       "      <th></th>\n",
       "      <th>reserved_room_type</th>\n",
       "      <th>assigned_room_type</th>\n",
       "      <th>count</th>\n",
       "      <th>reserved_room_price</th>\n",
       "      <th>assigned_room_price</th>\n",
       "      <th>price_diff</th>\n",
       "      <th>total_price_diff</th>\n",
       "    </tr>\n",
       "  </thead>\n",
       "  <tbody>\n",
       "    <tr>\n",
       "      <th>0</th>\n",
       "      <td>A</td>\n",
       "      <td>C</td>\n",
       "      <td>1162</td>\n",
       "      <td>90.854180</td>\n",
       "      <td>160.144179</td>\n",
       "      <td>69.289999</td>\n",
       "      <td>80514.978696</td>\n",
       "    </tr>\n",
       "    <tr>\n",
       "      <th>4</th>\n",
       "      <td>A</td>\n",
       "      <td>D</td>\n",
       "      <td>6069</td>\n",
       "      <td>90.854180</td>\n",
       "      <td>120.765036</td>\n",
       "      <td>29.910856</td>\n",
       "      <td>181528.986694</td>\n",
       "    </tr>\n",
       "    <tr>\n",
       "      <th>6</th>\n",
       "      <td>A</td>\n",
       "      <td>E</td>\n",
       "      <td>932</td>\n",
       "      <td>90.854180</td>\n",
       "      <td>124.267114</td>\n",
       "      <td>33.412934</td>\n",
       "      <td>31140.854888</td>\n",
       "    </tr>\n",
       "    <tr>\n",
       "      <th>9</th>\n",
       "      <td>A</td>\n",
       "      <td>F</td>\n",
       "      <td>339</td>\n",
       "      <td>90.854180</td>\n",
       "      <td>167.812154</td>\n",
       "      <td>76.957974</td>\n",
       "      <td>26088.753057</td>\n",
       "    </tr>\n",
       "    <tr>\n",
       "      <th>14</th>\n",
       "      <td>A</td>\n",
       "      <td>G</td>\n",
       "      <td>156</td>\n",
       "      <td>90.854180</td>\n",
       "      <td>175.808208</td>\n",
       "      <td>84.954028</td>\n",
       "      <td>13252.828389</td>\n",
       "    </tr>\n",
       "    <tr>\n",
       "      <th>20</th>\n",
       "      <td>A</td>\n",
       "      <td>H</td>\n",
       "      <td>78</td>\n",
       "      <td>90.854180</td>\n",
       "      <td>187.078241</td>\n",
       "      <td>96.224061</td>\n",
       "      <td>7505.476780</td>\n",
       "    </tr>\n",
       "    <tr>\n",
       "      <th>26</th>\n",
       "      <td>B</td>\n",
       "      <td>A</td>\n",
       "      <td>99</td>\n",
       "      <td>90.197643</td>\n",
       "      <td>90.854180</td>\n",
       "      <td>0.656537</td>\n",
       "      <td>64.997211</td>\n",
       "    </tr>\n",
       "    <tr>\n",
       "      <th>5</th>\n",
       "      <td>B</td>\n",
       "      <td>D</td>\n",
       "      <td>4</td>\n",
       "      <td>90.197643</td>\n",
       "      <td>120.765036</td>\n",
       "      <td>30.567394</td>\n",
       "      <td>122.269575</td>\n",
       "    </tr>\n",
       "    <tr>\n",
       "      <th>7</th>\n",
       "      <td>B</td>\n",
       "      <td>E</td>\n",
       "      <td>1</td>\n",
       "      <td>90.197643</td>\n",
       "      <td>124.267114</td>\n",
       "      <td>34.069472</td>\n",
       "      <td>34.069472</td>\n",
       "    </tr>\n",
       "    <tr>\n",
       "      <th>10</th>\n",
       "      <td>B</td>\n",
       "      <td>F</td>\n",
       "      <td>1</td>\n",
       "      <td>90.197643</td>\n",
       "      <td>167.812154</td>\n",
       "      <td>77.614511</td>\n",
       "      <td>77.614511</td>\n",
       "    </tr>\n",
       "    <tr>\n",
       "      <th>15</th>\n",
       "      <td>B</td>\n",
       "      <td>G</td>\n",
       "      <td>5</td>\n",
       "      <td>90.197643</td>\n",
       "      <td>175.808208</td>\n",
       "      <td>85.610566</td>\n",
       "      <td>428.052828</td>\n",
       "    </tr>\n",
       "    <tr>\n",
       "      <th>11</th>\n",
       "      <td>C</td>\n",
       "      <td>F</td>\n",
       "      <td>1</td>\n",
       "      <td>160.144179</td>\n",
       "      <td>167.812154</td>\n",
       "      <td>7.667975</td>\n",
       "      <td>7.667975</td>\n",
       "    </tr>\n",
       "    <tr>\n",
       "      <th>16</th>\n",
       "      <td>C</td>\n",
       "      <td>G</td>\n",
       "      <td>7</td>\n",
       "      <td>160.144179</td>\n",
       "      <td>175.808208</td>\n",
       "      <td>15.664029</td>\n",
       "      <td>109.648205</td>\n",
       "    </tr>\n",
       "    <tr>\n",
       "      <th>21</th>\n",
       "      <td>C</td>\n",
       "      <td>H</td>\n",
       "      <td>10</td>\n",
       "      <td>160.144179</td>\n",
       "      <td>187.078241</td>\n",
       "      <td>26.934062</td>\n",
       "      <td>269.340624</td>\n",
       "    </tr>\n",
       "    <tr>\n",
       "      <th>1</th>\n",
       "      <td>D</td>\n",
       "      <td>C</td>\n",
       "      <td>25</td>\n",
       "      <td>120.765036</td>\n",
       "      <td>160.144179</td>\n",
       "      <td>39.379143</td>\n",
       "      <td>984.478565</td>\n",
       "    </tr>\n",
       "    <tr>\n",
       "      <th>8</th>\n",
       "      <td>D</td>\n",
       "      <td>E</td>\n",
       "      <td>539</td>\n",
       "      <td>120.765036</td>\n",
       "      <td>124.267114</td>\n",
       "      <td>3.502078</td>\n",
       "      <td>1887.620129</td>\n",
       "    </tr>\n",
       "    <tr>\n",
       "      <th>12</th>\n",
       "      <td>D</td>\n",
       "      <td>F</td>\n",
       "      <td>164</td>\n",
       "      <td>120.765036</td>\n",
       "      <td>167.812154</td>\n",
       "      <td>47.047117</td>\n",
       "      <td>7715.727246</td>\n",
       "    </tr>\n",
       "    <tr>\n",
       "      <th>17</th>\n",
       "      <td>D</td>\n",
       "      <td>G</td>\n",
       "      <td>68</td>\n",
       "      <td>120.765036</td>\n",
       "      <td>175.808208</td>\n",
       "      <td>55.043172</td>\n",
       "      <td>3742.935687</td>\n",
       "    </tr>\n",
       "    <tr>\n",
       "      <th>22</th>\n",
       "      <td>D</td>\n",
       "      <td>H</td>\n",
       "      <td>5</td>\n",
       "      <td>120.765036</td>\n",
       "      <td>187.078241</td>\n",
       "      <td>66.313205</td>\n",
       "      <td>331.566025</td>\n",
       "    </tr>\n",
       "    <tr>\n",
       "      <th>2</th>\n",
       "      <td>E</td>\n",
       "      <td>C</td>\n",
       "      <td>5</td>\n",
       "      <td>124.267114</td>\n",
       "      <td>160.144179</td>\n",
       "      <td>35.877064</td>\n",
       "      <td>179.385322</td>\n",
       "    </tr>\n",
       "    <tr>\n",
       "      <th>13</th>\n",
       "      <td>E</td>\n",
       "      <td>F</td>\n",
       "      <td>331</td>\n",
       "      <td>124.267114</td>\n",
       "      <td>167.812154</td>\n",
       "      <td>43.545039</td>\n",
       "      <td>14413.407972</td>\n",
       "    </tr>\n",
       "    <tr>\n",
       "      <th>18</th>\n",
       "      <td>E</td>\n",
       "      <td>G</td>\n",
       "      <td>86</td>\n",
       "      <td>124.267114</td>\n",
       "      <td>175.808208</td>\n",
       "      <td>51.541094</td>\n",
       "      <td>4432.534059</td>\n",
       "    </tr>\n",
       "    <tr>\n",
       "      <th>23</th>\n",
       "      <td>E</td>\n",
       "      <td>H</td>\n",
       "      <td>3</td>\n",
       "      <td>124.267114</td>\n",
       "      <td>187.078241</td>\n",
       "      <td>62.811127</td>\n",
       "      <td>188.433381</td>\n",
       "    </tr>\n",
       "    <tr>\n",
       "      <th>19</th>\n",
       "      <td>F</td>\n",
       "      <td>G</td>\n",
       "      <td>93</td>\n",
       "      <td>167.812154</td>\n",
       "      <td>175.808208</td>\n",
       "      <td>7.996055</td>\n",
       "      <td>743.633070</td>\n",
       "    </tr>\n",
       "    <tr>\n",
       "      <th>24</th>\n",
       "      <td>F</td>\n",
       "      <td>H</td>\n",
       "      <td>3</td>\n",
       "      <td>167.812154</td>\n",
       "      <td>187.078241</td>\n",
       "      <td>19.266088</td>\n",
       "      <td>57.798263</td>\n",
       "    </tr>\n",
       "    <tr>\n",
       "      <th>25</th>\n",
       "      <td>G</td>\n",
       "      <td>H</td>\n",
       "      <td>5</td>\n",
       "      <td>175.808208</td>\n",
       "      <td>187.078241</td>\n",
       "      <td>11.270033</td>\n",
       "      <td>56.350166</td>\n",
       "    </tr>\n",
       "    <tr>\n",
       "      <th>27</th>\n",
       "      <td>L</td>\n",
       "      <td>A</td>\n",
       "      <td>1</td>\n",
       "      <td>75.333333</td>\n",
       "      <td>90.854180</td>\n",
       "      <td>15.520847</td>\n",
       "      <td>15.520847</td>\n",
       "    </tr>\n",
       "    <tr>\n",
       "      <th>3</th>\n",
       "      <td>L</td>\n",
       "      <td>C</td>\n",
       "      <td>1</td>\n",
       "      <td>75.333333</td>\n",
       "      <td>160.144179</td>\n",
       "      <td>84.810846</td>\n",
       "      <td>84.810846</td>\n",
       "    </tr>\n",
       "  </tbody>\n",
       "</table>\n",
       "</div>"
      ],
      "text/plain": [
       "   reserved_room_type assigned_room_type  count  reserved_room_price  \\\n",
       "0                   A                  C   1162            90.854180   \n",
       "4                   A                  D   6069            90.854180   \n",
       "6                   A                  E    932            90.854180   \n",
       "9                   A                  F    339            90.854180   \n",
       "14                  A                  G    156            90.854180   \n",
       "20                  A                  H     78            90.854180   \n",
       "26                  B                  A     99            90.197643   \n",
       "5                   B                  D      4            90.197643   \n",
       "7                   B                  E      1            90.197643   \n",
       "10                  B                  F      1            90.197643   \n",
       "15                  B                  G      5            90.197643   \n",
       "11                  C                  F      1           160.144179   \n",
       "16                  C                  G      7           160.144179   \n",
       "21                  C                  H     10           160.144179   \n",
       "1                   D                  C     25           120.765036   \n",
       "8                   D                  E    539           120.765036   \n",
       "12                  D                  F    164           120.765036   \n",
       "17                  D                  G     68           120.765036   \n",
       "22                  D                  H      5           120.765036   \n",
       "2                   E                  C      5           124.267114   \n",
       "13                  E                  F    331           124.267114   \n",
       "18                  E                  G     86           124.267114   \n",
       "23                  E                  H      3           124.267114   \n",
       "19                  F                  G     93           167.812154   \n",
       "24                  F                  H      3           167.812154   \n",
       "25                  G                  H      5           175.808208   \n",
       "27                  L                  A      1            75.333333   \n",
       "3                   L                  C      1            75.333333   \n",
       "\n",
       "    assigned_room_price  price_diff  total_price_diff  \n",
       "0            160.144179   69.289999      80514.978696  \n",
       "4            120.765036   29.910856     181528.986694  \n",
       "6            124.267114   33.412934      31140.854888  \n",
       "9            167.812154   76.957974      26088.753057  \n",
       "14           175.808208   84.954028      13252.828389  \n",
       "20           187.078241   96.224061       7505.476780  \n",
       "26            90.854180    0.656537         64.997211  \n",
       "5            120.765036   30.567394        122.269575  \n",
       "7            124.267114   34.069472         34.069472  \n",
       "10           167.812154   77.614511         77.614511  \n",
       "15           175.808208   85.610566        428.052828  \n",
       "11           167.812154    7.667975          7.667975  \n",
       "16           175.808208   15.664029        109.648205  \n",
       "21           187.078241   26.934062        269.340624  \n",
       "1            160.144179   39.379143        984.478565  \n",
       "8            124.267114    3.502078       1887.620129  \n",
       "12           167.812154   47.047117       7715.727246  \n",
       "17           175.808208   55.043172       3742.935687  \n",
       "22           187.078241   66.313205        331.566025  \n",
       "2            160.144179   35.877064        179.385322  \n",
       "13           167.812154   43.545039      14413.407972  \n",
       "18           175.808208   51.541094       4432.534059  \n",
       "23           187.078241   62.811127        188.433381  \n",
       "19           175.808208    7.996055        743.633070  \n",
       "24           187.078241   19.266088         57.798263  \n",
       "25           187.078241   11.270033         56.350166  \n",
       "27            90.854180   15.520847         15.520847  \n",
       "3            160.144179   84.810846         84.810846  "
      ]
     },
     "execution_count": 31,
     "metadata": {},
     "output_type": "execute_result"
    }
   ],
   "source": [
    "# select bookings with higher assigned room's rank than reserved room's rank\n",
    "df_higher_room_assigned = pd.DataFrame(df_different_room_type[df_different_room_type['assigned_room_type_rank'] > df_different_room_type['reserved_room_type_rank']].groupby(['reserved_room_type', 'assigned_room_type']).count()['reserved_room_type_rank'].reset_index().rename(columns={'reserved_room_type_rank': 'count'}))\n",
    "\n",
    "# insert price for each reserved and assigned room type\n",
    "df_higher_room_assigned = df_higher_room_assigned.merge(right=df_mean_adr, how='inner', left_on='reserved_room_type', right_on='room_type')\n",
    "df_higher_room_assigned = df_higher_room_assigned.merge(right=df_mean_adr, how='inner', left_on='assigned_room_type', right_on='room_type')\n",
    "df_higher_room_assigned.drop(columns=['room_type_x', 'room_type_y'], inplace=True)\n",
    "df_higher_room_assigned.rename(columns={'adr_x': 'reserved_room_price', 'adr_y': 'assigned_room_price'}, inplace=True)\n",
    "\n",
    "# calculate loss from assigning higher room type to a booking with cheaper reserved room\n",
    "df_higher_room_assigned['price_diff'] = df_higher_room_assigned['assigned_room_price'] - df_higher_room_assigned['reserved_room_price']\n",
    "df_higher_room_assigned['total_price_diff'] = df_higher_room_assigned['price_diff'] * df_higher_room_assigned['count']\n",
    "df_higher_room_assigned.sort_values(by=['reserved_room_type', 'assigned_room_type'])"
   ]
  },
  {
   "cell_type": "code",
   "execution_count": 32,
   "id": "1f590177",
   "metadata": {},
   "outputs": [
    {
     "name": "stdout",
     "output_type": "stream",
     "text": [
      "Financial loss from assigning higher room type than reserved room type\n",
      "Total loss: EUR 375,980\n",
      "Average loss per room: EUR 37\n"
     ]
    }
   ],
   "source": [
    "# calculate overall loss and average loss per booking\n",
    "total_loss = round(df_higher_room_assigned['total_price_diff'].sum())\n",
    "avg_loss = round(df_higher_room_assigned['total_price_diff'].sum()/df_higher_room_assigned['count'].sum())\n",
    "\n",
    "print('Financial loss from assigning higher room type than reserved room type')\n",
    "print('Total loss: EUR {:,}'.format(total_loss))\n",
    "print('Average loss per room: EUR {:,}'.format(avg_loss))"
   ]
  },
  {
   "cell_type": "markdown",
   "id": "fbe09119",
   "metadata": {},
   "source": [
    "We will calculate the financial surplus if hotel assigned a guest to a lower ranked room."
   ]
  },
  {
   "cell_type": "code",
   "execution_count": 33,
   "id": "50d2164e",
   "metadata": {
    "scrolled": true
   },
   "outputs": [
    {
     "data": {
      "text/html": [
       "<div>\n",
       "<style scoped>\n",
       "    .dataframe tbody tr th:only-of-type {\n",
       "        vertical-align: middle;\n",
       "    }\n",
       "\n",
       "    .dataframe tbody tr th {\n",
       "        vertical-align: top;\n",
       "    }\n",
       "\n",
       "    .dataframe thead th {\n",
       "        text-align: right;\n",
       "    }\n",
       "</style>\n",
       "<table border=\"1\" class=\"dataframe\">\n",
       "  <thead>\n",
       "    <tr style=\"text-align: right;\">\n",
       "      <th></th>\n",
       "      <th>reserved_room_type</th>\n",
       "      <th>assigned_room_type</th>\n",
       "      <th>count</th>\n",
       "      <th>reserved_room_price</th>\n",
       "      <th>assigned_room_price</th>\n",
       "      <th>price_diff</th>\n",
       "      <th>total_price_diff</th>\n",
       "    </tr>\n",
       "  </thead>\n",
       "  <tbody>\n",
       "    <tr>\n",
       "      <th>0</th>\n",
       "      <td>A</td>\n",
       "      <td>B</td>\n",
       "      <td>898</td>\n",
       "      <td>90.854180</td>\n",
       "      <td>90.197643</td>\n",
       "      <td>-0.656537</td>\n",
       "      <td>-589.570660</td>\n",
       "    </tr>\n",
       "    <tr>\n",
       "      <th>6</th>\n",
       "      <td>C</td>\n",
       "      <td>A</td>\n",
       "      <td>4</td>\n",
       "      <td>160.144179</td>\n",
       "      <td>90.854180</td>\n",
       "      <td>-69.289999</td>\n",
       "      <td>-277.159996</td>\n",
       "    </tr>\n",
       "    <tr>\n",
       "      <th>1</th>\n",
       "      <td>C</td>\n",
       "      <td>B</td>\n",
       "      <td>2</td>\n",
       "      <td>160.144179</td>\n",
       "      <td>90.197643</td>\n",
       "      <td>-69.946536</td>\n",
       "      <td>-139.893073</td>\n",
       "    </tr>\n",
       "    <tr>\n",
       "      <th>11</th>\n",
       "      <td>C</td>\n",
       "      <td>D</td>\n",
       "      <td>6</td>\n",
       "      <td>160.144179</td>\n",
       "      <td>120.765036</td>\n",
       "      <td>-39.379143</td>\n",
       "      <td>-236.274856</td>\n",
       "    </tr>\n",
       "    <tr>\n",
       "      <th>15</th>\n",
       "      <td>C</td>\n",
       "      <td>E</td>\n",
       "      <td>4</td>\n",
       "      <td>160.144179</td>\n",
       "      <td>124.267114</td>\n",
       "      <td>-35.877064</td>\n",
       "      <td>-143.508258</td>\n",
       "    </tr>\n",
       "    <tr>\n",
       "      <th>7</th>\n",
       "      <td>D</td>\n",
       "      <td>A</td>\n",
       "      <td>242</td>\n",
       "      <td>120.765036</td>\n",
       "      <td>90.854180</td>\n",
       "      <td>-29.910856</td>\n",
       "      <td>-7238.427217</td>\n",
       "    </tr>\n",
       "    <tr>\n",
       "      <th>2</th>\n",
       "      <td>D</td>\n",
       "      <td>B</td>\n",
       "      <td>21</td>\n",
       "      <td>120.765036</td>\n",
       "      <td>90.197643</td>\n",
       "      <td>-30.567394</td>\n",
       "      <td>-641.915269</td>\n",
       "    </tr>\n",
       "    <tr>\n",
       "      <th>8</th>\n",
       "      <td>E</td>\n",
       "      <td>A</td>\n",
       "      <td>12</td>\n",
       "      <td>124.267114</td>\n",
       "      <td>90.854180</td>\n",
       "      <td>-33.412934</td>\n",
       "      <td>-400.955213</td>\n",
       "    </tr>\n",
       "    <tr>\n",
       "      <th>3</th>\n",
       "      <td>E</td>\n",
       "      <td>B</td>\n",
       "      <td>2</td>\n",
       "      <td>124.267114</td>\n",
       "      <td>90.197643</td>\n",
       "      <td>-34.069472</td>\n",
       "      <td>-68.138944</td>\n",
       "    </tr>\n",
       "    <tr>\n",
       "      <th>12</th>\n",
       "      <td>E</td>\n",
       "      <td>D</td>\n",
       "      <td>16</td>\n",
       "      <td>124.267114</td>\n",
       "      <td>120.765036</td>\n",
       "      <td>-3.502078</td>\n",
       "      <td>-56.033251</td>\n",
       "    </tr>\n",
       "    <tr>\n",
       "      <th>9</th>\n",
       "      <td>F</td>\n",
       "      <td>A</td>\n",
       "      <td>5</td>\n",
       "      <td>167.812154</td>\n",
       "      <td>90.854180</td>\n",
       "      <td>-76.957974</td>\n",
       "      <td>-384.789868</td>\n",
       "    </tr>\n",
       "    <tr>\n",
       "      <th>4</th>\n",
       "      <td>F</td>\n",
       "      <td>B</td>\n",
       "      <td>11</td>\n",
       "      <td>167.812154</td>\n",
       "      <td>90.197643</td>\n",
       "      <td>-77.614511</td>\n",
       "      <td>-853.759622</td>\n",
       "    </tr>\n",
       "    <tr>\n",
       "      <th>13</th>\n",
       "      <td>F</td>\n",
       "      <td>D</td>\n",
       "      <td>3</td>\n",
       "      <td>167.812154</td>\n",
       "      <td>120.765036</td>\n",
       "      <td>-47.047117</td>\n",
       "      <td>-141.141352</td>\n",
       "    </tr>\n",
       "    <tr>\n",
       "      <th>16</th>\n",
       "      <td>F</td>\n",
       "      <td>E</td>\n",
       "      <td>28</td>\n",
       "      <td>167.812154</td>\n",
       "      <td>124.267114</td>\n",
       "      <td>-43.545039</td>\n",
       "      <td>-1219.261097</td>\n",
       "    </tr>\n",
       "    <tr>\n",
       "      <th>10</th>\n",
       "      <td>G</td>\n",
       "      <td>A</td>\n",
       "      <td>4</td>\n",
       "      <td>175.808208</td>\n",
       "      <td>90.854180</td>\n",
       "      <td>-84.954028</td>\n",
       "      <td>-339.816113</td>\n",
       "    </tr>\n",
       "    <tr>\n",
       "      <th>5</th>\n",
       "      <td>G</td>\n",
       "      <td>B</td>\n",
       "      <td>1</td>\n",
       "      <td>175.808208</td>\n",
       "      <td>90.197643</td>\n",
       "      <td>-85.610566</td>\n",
       "      <td>-85.610566</td>\n",
       "    </tr>\n",
       "    <tr>\n",
       "      <th>18</th>\n",
       "      <td>G</td>\n",
       "      <td>C</td>\n",
       "      <td>2</td>\n",
       "      <td>175.808208</td>\n",
       "      <td>160.144179</td>\n",
       "      <td>-15.664029</td>\n",
       "      <td>-31.328059</td>\n",
       "    </tr>\n",
       "    <tr>\n",
       "      <th>17</th>\n",
       "      <td>G</td>\n",
       "      <td>E</td>\n",
       "      <td>3</td>\n",
       "      <td>175.808208</td>\n",
       "      <td>124.267114</td>\n",
       "      <td>-51.541094</td>\n",
       "      <td>-154.623281</td>\n",
       "    </tr>\n",
       "    <tr>\n",
       "      <th>19</th>\n",
       "      <td>G</td>\n",
       "      <td>F</td>\n",
       "      <td>9</td>\n",
       "      <td>175.808208</td>\n",
       "      <td>167.812154</td>\n",
       "      <td>-7.996055</td>\n",
       "      <td>-71.964491</td>\n",
       "    </tr>\n",
       "    <tr>\n",
       "      <th>14</th>\n",
       "      <td>H</td>\n",
       "      <td>D</td>\n",
       "      <td>1</td>\n",
       "      <td>187.078241</td>\n",
       "      <td>120.765036</td>\n",
       "      <td>-66.313205</td>\n",
       "      <td>-66.313205</td>\n",
       "    </tr>\n",
       "    <tr>\n",
       "      <th>20</th>\n",
       "      <td>H</td>\n",
       "      <td>G</td>\n",
       "      <td>8</td>\n",
       "      <td>187.078241</td>\n",
       "      <td>175.808208</td>\n",
       "      <td>-11.270033</td>\n",
       "      <td>-90.160265</td>\n",
       "    </tr>\n",
       "  </tbody>\n",
       "</table>\n",
       "</div>"
      ],
      "text/plain": [
       "   reserved_room_type assigned_room_type  count  reserved_room_price  \\\n",
       "0                   A                  B    898            90.854180   \n",
       "6                   C                  A      4           160.144179   \n",
       "1                   C                  B      2           160.144179   \n",
       "11                  C                  D      6           160.144179   \n",
       "15                  C                  E      4           160.144179   \n",
       "7                   D                  A    242           120.765036   \n",
       "2                   D                  B     21           120.765036   \n",
       "8                   E                  A     12           124.267114   \n",
       "3                   E                  B      2           124.267114   \n",
       "12                  E                  D     16           124.267114   \n",
       "9                   F                  A      5           167.812154   \n",
       "4                   F                  B     11           167.812154   \n",
       "13                  F                  D      3           167.812154   \n",
       "16                  F                  E     28           167.812154   \n",
       "10                  G                  A      4           175.808208   \n",
       "5                   G                  B      1           175.808208   \n",
       "18                  G                  C      2           175.808208   \n",
       "17                  G                  E      3           175.808208   \n",
       "19                  G                  F      9           175.808208   \n",
       "14                  H                  D      1           187.078241   \n",
       "20                  H                  G      8           187.078241   \n",
       "\n",
       "    assigned_room_price  price_diff  total_price_diff  \n",
       "0             90.197643   -0.656537       -589.570660  \n",
       "6             90.854180  -69.289999       -277.159996  \n",
       "1             90.197643  -69.946536       -139.893073  \n",
       "11           120.765036  -39.379143       -236.274856  \n",
       "15           124.267114  -35.877064       -143.508258  \n",
       "7             90.854180  -29.910856      -7238.427217  \n",
       "2             90.197643  -30.567394       -641.915269  \n",
       "8             90.854180  -33.412934       -400.955213  \n",
       "3             90.197643  -34.069472        -68.138944  \n",
       "12           120.765036   -3.502078        -56.033251  \n",
       "9             90.854180  -76.957974       -384.789868  \n",
       "4             90.197643  -77.614511       -853.759622  \n",
       "13           120.765036  -47.047117       -141.141352  \n",
       "16           124.267114  -43.545039      -1219.261097  \n",
       "10            90.854180  -84.954028       -339.816113  \n",
       "5             90.197643  -85.610566        -85.610566  \n",
       "18           160.144179  -15.664029        -31.328059  \n",
       "17           124.267114  -51.541094       -154.623281  \n",
       "19           167.812154   -7.996055        -71.964491  \n",
       "14           120.765036  -66.313205        -66.313205  \n",
       "20           175.808208  -11.270033        -90.160265  "
      ]
     },
     "execution_count": 33,
     "metadata": {},
     "output_type": "execute_result"
    }
   ],
   "source": [
    "# select bookings with lower assigned room's rank than reserved room's rank\n",
    "df_lower_room_assigned = pd.DataFrame(df_different_room_type[df_different_room_type['assigned_room_type_rank'] < df_different_room_type['reserved_room_type_rank']].groupby(['reserved_room_type', 'assigned_room_type']).count()['reserved_room_type_rank'].reset_index().rename(columns={'reserved_room_type_rank': 'count'}))\n",
    "\n",
    "# insert price for each reserved and assigned room type\n",
    "df_lower_room_assigned = df_lower_room_assigned.merge(right=df_mean_adr, how='inner', left_on='reserved_room_type', right_on='room_type')\n",
    "df_lower_room_assigned = df_lower_room_assigned.merge(right=df_mean_adr, how='inner', left_on='assigned_room_type', right_on='room_type')\n",
    "df_lower_room_assigned.drop(columns=['room_type_x', 'room_type_y'], inplace=True)\n",
    "df_lower_room_assigned.rename(columns={'adr_x': 'reserved_room_price', 'adr_y': 'assigned_room_price'}, inplace=True)\n",
    "\n",
    "# calculate loss from assigning higher room type to a booking with cheaper reserved room\n",
    "df_lower_room_assigned['price_diff'] = df_lower_room_assigned['assigned_room_price'] - df_lower_room_assigned['reserved_room_price']\n",
    "df_lower_room_assigned['total_price_diff'] = df_lower_room_assigned['price_diff'] * df_lower_room_assigned['count']\n",
    "df_lower_room_assigned.sort_values(by=['reserved_room_type', 'assigned_room_type'])"
   ]
  },
  {
   "cell_type": "code",
   "execution_count": 34,
   "id": "5a3e7bb4",
   "metadata": {
    "scrolled": true
   },
   "outputs": [
    {
     "name": "stdout",
     "output_type": "stream",
     "text": [
      "Surplus from assigning higher room type than reserved room type\n",
      "Total surplus: EUR -13,231\n",
      "Average surplus per room: EUR -10\n"
     ]
    }
   ],
   "source": [
    "# calculate overall surplus and average surplus per booking\n",
    "total_surplus = round(df_lower_room_assigned['total_price_diff'].sum())\n",
    "avg_surplus = round(df_lower_room_assigned['total_price_diff'].sum()/df_lower_room_assigned['count'].sum())\n",
    "\n",
    "print('Surplus from assigning higher room type than reserved room type')\n",
    "print('Total surplus: EUR {:,}'.format(total_surplus))\n",
    "print('Average surplus per room: EUR {:,}'.format(avg_surplus))"
   ]
  },
  {
   "cell_type": "markdown",
   "id": "43cded14",
   "metadata": {},
   "source": [
    "Calculate percentage of bookings that were assigned to lower and higher class room"
   ]
  },
  {
   "cell_type": "code",
   "execution_count": 35,
   "id": "94acd6b8",
   "metadata": {},
   "outputs": [],
   "source": [
    "# count total booking with diiferent room assigned.\n",
    "total_diff_room_type = df_different_room_type.shape[0]"
   ]
  },
  {
   "cell_type": "code",
   "execution_count": 36,
   "id": "8001e510",
   "metadata": {},
   "outputs": [
    {
     "name": "stdout",
     "output_type": "stream",
     "text": [
      "Percentage of booking that is assigned to a lower class room and is canceled: 4.31%\n"
     ]
    }
   ],
   "source": [
    "# calculate percentage of bookings that were assigned to a lower class room, and is canceled\n",
    "num_lower_assigned_canceled = df_different_room_type[\n",
    "    (df_different_room_type['is_canceled'] == 1) &\n",
    "    (df_different_room_type['assigned_room_type_rank'] > df_different_room_type['reserved_room_type_rank'])\n",
    "].count()['is_canceled']\n",
    "\n",
    "pct_lower_assigned_canceled = round((num_lower_assigned_canceled/total_diff_room_type*100), 2)\n",
    "print(\"Percentage of booking that is assigned to a lower class room and is canceled: {}%\".format(pct_lower_assigned_canceled))"
   ]
  },
  {
   "cell_type": "code",
   "execution_count": 37,
   "id": "87ce6b61",
   "metadata": {},
   "outputs": [
    {
     "name": "stdout",
     "output_type": "stream",
     "text": [
      "Percentage of booking that is assigned to a lower class room and not canceled: 84.51%\n"
     ]
    }
   ],
   "source": [
    "# calculate percentage of bookings that were assigned to a lower class room, and not canceled\n",
    "num_lower_assigned_not_canceled = df_different_room_type[\n",
    "    (df_different_room_type['is_canceled'] == 0) &\n",
    "    (df_different_room_type['assigned_room_type_rank'] > df_different_room_type['reserved_room_type_rank'])\n",
    "].count()['is_canceled']\n",
    "\n",
    "pct_lower_assigned_not_canceled = round((num_lower_assigned_not_canceled/total_diff_room_type*100), 2)\n",
    "print(\"Percentage of booking that is assigned to a lower class room and not canceled: {}%\".format(pct_lower_assigned_not_canceled))"
   ]
  },
  {
   "cell_type": "code",
   "execution_count": 38,
   "id": "98ae8867",
   "metadata": {},
   "outputs": [
    {
     "name": "stdout",
     "output_type": "stream",
     "text": [
      "Percentage of booking that is assigned to a higher class room and is canceled: 1.1%\n"
     ]
    }
   ],
   "source": [
    "# calculate percentage of bookings that were assigned to a higher class room, and is canceled\n",
    "num_higher_assigned_canceled = df_different_room_type[\n",
    "    (df_different_room_type['is_canceled'] == 1) &\n",
    "    (df_different_room_type['assigned_room_type_rank'] < df_different_room_type['reserved_room_type_rank'])\n",
    "].count()['is_canceled']\n",
    "\n",
    "pct_higher_assigned_canceled = round((num_higher_assigned_canceled/total_diff_room_type*100), 2)\n",
    "print(\"Percentage of booking that is assigned to a higher class room and is canceled: {}%\".format(pct_higher_assigned_canceled))"
   ]
  },
  {
   "cell_type": "code",
   "execution_count": 39,
   "id": "90a5d4cd",
   "metadata": {},
   "outputs": [
    {
     "name": "stdout",
     "output_type": "stream",
     "text": [
      "Percentage of booking that is assigned to a higher class room and not canceled: 10.07%\n"
     ]
    }
   ],
   "source": [
    "# calculate percentage of bookings that were assigned to a higher class room, and not canceled\n",
    "num_higher_assigned_not_canceled = df_different_room_type[\n",
    "    (df_different_room_type['is_canceled'] == 0) &\n",
    "    (df_different_room_type['assigned_room_type_rank'] < df_different_room_type['reserved_room_type_rank'])\n",
    "].count()['is_canceled']\n",
    "\n",
    "pct_higher_assigned_not_canceled = round((num_higher_assigned_not_canceled/total_diff_room_type*100), 2)\n",
    "print(\"Percentage of booking that is assigned to a higher class room and not canceled: {}%\".format(pct_higher_assigned_not_canceled))"
   ]
  },
  {
   "cell_type": "markdown",
   "id": "78713407",
   "metadata": {},
   "source": [
    "#### Check for correlation coefficient from each numerical features to the target is_canceled"
   ]
  },
  {
   "cell_type": "code",
   "execution_count": 40,
   "id": "a5732f65",
   "metadata": {
    "scrolled": false
   },
   "outputs": [
    {
     "data": {
      "text/plain": [
       "is_canceled                    1.000000\n",
       "lead_time                      0.290579\n",
       "total_of_special_requests      0.234161\n",
       "required_car_parking_spaces    0.195163\n",
       "booking_changes                0.146888\n",
       "previous_cancellations         0.110142\n",
       "Name: is_canceled, dtype: float64"
      ]
     },
     "execution_count": 40,
     "metadata": {},
     "output_type": "execute_result"
    }
   ],
   "source": [
    "corr_coef = df_train.corr()\n",
    "abs(corr_coef['is_canceled']).sort_values(ascending=False).head(6)"
   ]
  },
  {
   "cell_type": "markdown",
   "id": "ecfc841a",
   "metadata": {},
   "source": [
    "From the heatmap above, 5 features with strongest correlation coefficient toward is_canceled are:\n",
    "- lead_time\n",
    "- total_of_special_requests\n",
    "- required_car_parking_spaces (assumed parking spaces required by a customer was asked on booking)\n",
    "- booking_changes\n",
    "- previous_cancellation"
   ]
  },
  {
   "cell_type": "markdown",
   "id": "1827a28b",
   "metadata": {},
   "source": [
    "### Features to be Used\n",
    "Based on the analysis above, here are the features that will be used to train the machine learning model:\n",
    "- lead_time\n",
    "- arrival_date_week_number\n",
    "- previous_cancellation\n",
    "- booking_changes\n",
    "- required_car_parking_spaces\n",
    "- total_of_special_requests\n",
    "- hotel\n",
    "- meal\n",
    "- country\n",
    "- market_segment\n",
    "- distribution_channel\n",
    "- is_repeated_guest\n",
    "- reserved_room_type\n",
    "- agent\n",
    "- customer_type"
   ]
  },
  {
   "cell_type": "markdown",
   "id": "a90628e7",
   "metadata": {},
   "source": [
    "### To-dos:\n",
    "\n",
    "- create new column total_stay_duration to store sum of week nights and weekend nights\n",
    "- divide meal into BB and Other\n",
    "- divide country into PRT and Other\n",
    "- divide market_segment into Online TA, Direct, Offline TA/TO, Groups, Corporate, and Other\n",
    "- divide distribution_channel into TA/TO, Direct, Corporate, and Other\n",
    "- divide reserved_room_type into A, D, E and Other"
   ]
  },
  {
   "cell_type": "markdown",
   "id": "fad2563c",
   "metadata": {},
   "source": [
    "# Data Preprocessing"
   ]
  },
  {
   "cell_type": "markdown",
   "id": "eaf19d90",
   "metadata": {},
   "source": [
    "#### Define some functions to encode data"
   ]
  },
  {
   "cell_type": "code",
   "execution_count": 41,
   "id": "1814916b",
   "metadata": {},
   "outputs": [],
   "source": [
    "def meal_encoder(meal):\n",
    "    if (meal != 'BB'):\n",
    "        meal = 'Other'\n",
    "    return meal\n",
    "\n",
    "def country_encoder(country):\n",
    "    if (country != 'PRT'):\n",
    "        country = 'Other'\n",
    "    return country\n",
    "\n",
    "def market_segment_encoder(market_segment):\n",
    "    if (market_segment == 'Complementary')  or (market_segment == 'Aviation') or (market_segment == 'Undefined'):\n",
    "        market_segment = 'Other'\n",
    "    return market_segment\n",
    "\n",
    "def distribution_channel_encoder(distribution_channel):\n",
    "    if (distribution_channel == 'GDS') or (distribution_channel == 'Undefined'):\n",
    "        distribution_channel = 'Other'\n",
    "    return distribution_channel\n",
    "\n",
    "def reserved_room_encoder(reserved_room_type):\n",
    "    if (reserved_room_type != 'A') and (reserved_room_type != 'D') and (reserved_room_type != 'E'):\n",
    "        reserved_room_type = 'Other'\n",
    "    return reserved_room_type\n",
    "\n",
    "def agent_encoder(agent):\n",
    "    if (agent != 1) and (agent != 9) and (agent != 240):\n",
    "        agent = 0\n",
    "    return agent"
   ]
  },
  {
   "cell_type": "code",
   "execution_count": 42,
   "id": "5ab5338f",
   "metadata": {},
   "outputs": [],
   "source": [
    "df_train['meal_encoded'] = df_train['meal'].apply(meal_encoder)\n",
    "df_test['meal_encoded'] = df_test['meal'].apply(meal_encoder)\n",
    "\n",
    "df_train['country_encoded'] = df_train['country'].apply(country_encoder)\n",
    "df_test['country_encoded'] = df_test['country'].apply(country_encoder)\n",
    "\n",
    "df_train['market_segment_encoded'] = df_train['market_segment'].apply(market_segment_encoder)\n",
    "df_test['market_segment_encoded'] = df_test['market_segment'].apply(market_segment_encoder)\n",
    "\n",
    "df_train['distribution_channel_encoded'] = df_train['distribution_channel'].apply(distribution_channel_encoder)\n",
    "df_test['distribution_channel_encoded'] = df_test['distribution_channel'].apply(distribution_channel_encoder)\n",
    "\n",
    "df_train['reserved_room_type_encoded'] = df_train['reserved_room_type'].apply(reserved_room_encoder)\n",
    "df_test['reserved_room_type_encoded'] = df_test['reserved_room_type'].apply(reserved_room_encoder)\n",
    "\n",
    "df_train['agent_encoded'] = df_train['agent'].apply(agent_encoder)\n",
    "df_test['agent_encoded'] = df_test['agent'].apply(agent_encoder)"
   ]
  },
  {
   "cell_type": "code",
   "execution_count": 43,
   "id": "4edc29cc",
   "metadata": {
    "scrolled": true
   },
   "outputs": [],
   "source": [
    "# define columns to be used\n",
    "used_num_cols = ['lead_time', 'arrival_date_week_number', 'previous_cancellations', 'booking_changes', 'required_car_parking_spaces', 'total_of_special_requests']\n",
    "used_ctg_cols_encoded = ['hotel', 'meal_encoded', 'country_encoded', 'market_segment_encoded', 'distribution_channel_encoded', 'is_repeated_guest', 'reserved_room_type_encoded', 'agent_encoded', 'customer_type']"
   ]
  },
  {
   "cell_type": "code",
   "execution_count": 44,
   "id": "9fa8bd00",
   "metadata": {},
   "outputs": [],
   "source": [
    "# define OneHotEncoder to encode categorical columns\n",
    "onehot_encoder = OneHotEncoder()\n",
    "# define empty FunctionTransformer for numerical columns\n",
    "do_nothing = FunctionTransformer()\n",
    "# combine OneHotEncoder and FunctionTransformer in ColumnTransformer to be used in pipeline\n",
    "col_transformer = ColumnTransformer([\n",
    "    ('encoder', onehot_encoder, used_ctg_cols_encoded),\n",
    "    ('do_nothing', do_nothing, used_num_cols)\n",
    "])"
   ]
  },
  {
   "cell_type": "code",
   "execution_count": 45,
   "id": "e9eab7d4",
   "metadata": {},
   "outputs": [],
   "source": [
    "# define feature and target dataset\n",
    "X_train = df_train[used_num_cols + used_ctg_cols_encoded]\n",
    "X_test = df_test[used_num_cols + used_ctg_cols_encoded]\n",
    "y_train = df_train['is_canceled']\n",
    "y_test = df_test['is_canceled']"
   ]
  },
  {
   "cell_type": "markdown",
   "id": "ab275efe",
   "metadata": {},
   "source": [
    "# Model Training"
   ]
  },
  {
   "cell_type": "markdown",
   "id": "3dcbe61d",
   "metadata": {},
   "source": [
    "#### Create a function to run model fitting and calculate model performances."
   ]
  },
  {
   "cell_type": "code",
   "execution_count": 46,
   "id": "08756340",
   "metadata": {},
   "outputs": [],
   "source": [
    "# define a dataframe to store model's performance\n",
    "df_model_score = pd.DataFrame(columns=['Model', 'Precision', 'Recall', 'F1', 'AUC', 'Confusion Matrix'])"
   ]
  },
  {
   "cell_type": "code",
   "execution_count": 47,
   "id": "5f893058",
   "metadata": {},
   "outputs": [],
   "source": [
    "def model_eval(estimator, estimator_name, train_feature, train_target, test_feature, test_target):\n",
    "    # create empty list to store metrics, this will be used to compare the performance of each model\n",
    "    metric_val = []\n",
    "    \n",
    "    # append model's name to metric_val\n",
    "    metric_val.append(estimator_name)\n",
    "    \n",
    "    # fit train set to model\n",
    "    estimator.fit(train_feature, train_target)\n",
    "    \n",
    "    # define metrics to be used for calculating cross validation score\n",
    "    metrics = ['precision', 'recall', 'f1']\n",
    "    \n",
    "    # calculate metrics with cross validation\n",
    "    for metric in metrics:\n",
    "        val = cross_val_score(estimator, train_feature, train_target, scoring=metric, cv=5).mean()\n",
    "        # append cross validation score to metric_val\n",
    "        metric_val.append(val)\n",
    "\n",
    "    # predict probability of test set for ROC-AUC\n",
    "    y_pred_proba = estimator.predict_proba(test_feature)[::,1]\n",
    "    # calculate AUC\n",
    "    auc = roc_auc_score(test_target, y_pred_proba)\n",
    "    # append AUC score\n",
    "    metric_val.append(auc)\n",
    "    \n",
    "    # predict test set\n",
    "    y_pred = estimator.predict(test_feature)\n",
    "    # calculate confision matrix\n",
    "    conf = confusion_matrix(test_target, y_pred)\n",
    "    metric_val.append(conf)\n",
    "    \n",
    "    # append cross validation score to df_model_score\n",
    "    df_len = len(df_model_score)\n",
    "    df_model_score.loc[df_len] = metric_val"
   ]
  },
  {
   "cell_type": "markdown",
   "id": "3804a517",
   "metadata": {},
   "source": [
    "## Base Model\n",
    "For the base model, we will train:\n",
    "- Logistic Regression\n",
    "- Decision Tree"
   ]
  },
  {
   "cell_type": "markdown",
   "id": "9e9350b5",
   "metadata": {},
   "source": [
    "#### Model initialization"
   ]
  },
  {
   "cell_type": "code",
   "execution_count": 48,
   "id": "7eaa4322",
   "metadata": {},
   "outputs": [],
   "source": [
    "# Logistic Regression\n",
    "log_reg = LogisticRegression(max_iter=3000)\n",
    "\n",
    "log_reg_pipeline = Pipeline([\n",
    "    ('smotenc', SMOTENC(random_state=22, categorical_features=range(6,15))),\n",
    "    ('col_transformer', col_transformer),\n",
    "    ('log_reg', log_reg)\n",
    "])\n",
    "\n",
    "# Decision Tree\n",
    "dt = DecisionTreeClassifier(random_state=22)\n",
    "\n",
    "dt_pipeline = Pipeline([\n",
    "    ('smotenc', SMOTENC(random_state=22, categorical_features=range(6,15))),\n",
    "    ('col_transformer', col_transformer),\n",
    "    ('dt', dt)\n",
    "])\n",
    "\n",
    "base_models = {'Logistic Regression': log_reg_pipeline, \n",
    "               'Decision Tree': dt_pipeline}"
   ]
  },
  {
   "cell_type": "code",
   "execution_count": 49,
   "id": "57622238",
   "metadata": {},
   "outputs": [
    {
     "data": {
      "text/html": [
       "<div>\n",
       "<style scoped>\n",
       "    .dataframe tbody tr th:only-of-type {\n",
       "        vertical-align: middle;\n",
       "    }\n",
       "\n",
       "    .dataframe tbody tr th {\n",
       "        vertical-align: top;\n",
       "    }\n",
       "\n",
       "    .dataframe thead th {\n",
       "        text-align: right;\n",
       "    }\n",
       "</style>\n",
       "<table border=\"1\" class=\"dataframe\">\n",
       "  <thead>\n",
       "    <tr style=\"text-align: right;\">\n",
       "      <th></th>\n",
       "      <th>Model</th>\n",
       "      <th>Precision</th>\n",
       "      <th>Recall</th>\n",
       "      <th>F1</th>\n",
       "      <th>AUC</th>\n",
       "      <th>Confusion Matrix</th>\n",
       "    </tr>\n",
       "  </thead>\n",
       "  <tbody>\n",
       "    <tr>\n",
       "      <th>1</th>\n",
       "      <td>Decision Tree</td>\n",
       "      <td>0.770246</td>\n",
       "      <td>0.805544</td>\n",
       "      <td>0.787494</td>\n",
       "      <td>0.841689</td>\n",
       "      <td>[[12901, 2062], [1719, 7160]]</td>\n",
       "    </tr>\n",
       "    <tr>\n",
       "      <th>0</th>\n",
       "      <td>Logistic Regression</td>\n",
       "      <td>0.700071</td>\n",
       "      <td>0.786744</td>\n",
       "      <td>0.740856</td>\n",
       "      <td>0.881703</td>\n",
       "      <td>[[11998, 2965], [1881, 6998]]</td>\n",
       "    </tr>\n",
       "  </tbody>\n",
       "</table>\n",
       "</div>"
      ],
      "text/plain": [
       "                 Model  Precision    Recall        F1       AUC  \\\n",
       "1        Decision Tree   0.770246  0.805544  0.787494  0.841689   \n",
       "0  Logistic Regression   0.700071  0.786744  0.740856  0.881703   \n",
       "\n",
       "                Confusion Matrix  \n",
       "1  [[12901, 2062], [1719, 7160]]  \n",
       "0  [[11998, 2965], [1881, 6998]]  "
      ]
     },
     "execution_count": 49,
     "metadata": {},
     "output_type": "execute_result"
    }
   ],
   "source": [
    "# loop through base_models to train and evaluate each models\n",
    "for model_name, model in base_models.items():\n",
    "    model_eval(model, model_name, X_train, y_train, X_test, y_test)\n",
    "\n",
    "# base models' performances\n",
    "df_model_score.sort_values(by='F1', ascending=False)"
   ]
  },
  {
   "cell_type": "markdown",
   "id": "fe95cd95",
   "metadata": {},
   "source": [
    "## Ensemble Model\n",
    "For the ensemble model, we will train:\n",
    "- Random Forest\n",
    "- Voting Classifier\n",
    "- Light Gradient Boosting Machine"
   ]
  },
  {
   "cell_type": "markdown",
   "id": "b245e5d4",
   "metadata": {},
   "source": [
    "#### Model Initialization"
   ]
  },
  {
   "cell_type": "code",
   "execution_count": 50,
   "id": "ffe4ebc9",
   "metadata": {},
   "outputs": [],
   "source": [
    "# Random Forest\n",
    "rf = RandomForestClassifier(random_state=22)\n",
    "\n",
    "rf_pipeline = Pipeline([\n",
    "    ('smotenc', SMOTENC(random_state=22, categorical_features=range(6,15))),\n",
    "    ('col_transformer', col_transformer),\n",
    "    ('rf', rf)\n",
    "])\n",
    "\n",
    "# Voting Classifier\n",
    "voting = VotingClassifier(estimators=[('lr', log_reg), ('dt', dt)], voting='soft')\n",
    "\n",
    "voting_pipeline = Pipeline([\n",
    "    ('smotenc', SMOTENC(random_state=22, categorical_features=range(6,15))),\n",
    "    ('col_transformer', col_transformer),\n",
    "    ('voting', voting)\n",
    "])\n",
    "\n",
    "# Light Gradient Boosting Machine\n",
    "lgbm = LGBMClassifier()\n",
    "\n",
    "lgbm_pipeline = Pipeline([\n",
    "    ('smotenc', SMOTENC(random_state=22, categorical_features=range(6,15))),\n",
    "    ('col_transformer', col_transformer),\n",
    "    ('lgbm', lgbm)\n",
    "])\n",
    "\n",
    "ensemble_models = {'Random Forest': rf_pipeline, \n",
    "                   'Voting Classifier': voting_pipeline,\n",
    "                  'Light Gradient Boosting Machine': lgbm_pipeline}"
   ]
  },
  {
   "cell_type": "code",
   "execution_count": 51,
   "id": "1f973d8d",
   "metadata": {},
   "outputs": [
    {
     "data": {
      "text/html": [
       "<div>\n",
       "<style scoped>\n",
       "    .dataframe tbody tr th:only-of-type {\n",
       "        vertical-align: middle;\n",
       "    }\n",
       "\n",
       "    .dataframe tbody tr th {\n",
       "        vertical-align: top;\n",
       "    }\n",
       "\n",
       "    .dataframe thead th {\n",
       "        text-align: right;\n",
       "    }\n",
       "</style>\n",
       "<table border=\"1\" class=\"dataframe\">\n",
       "  <thead>\n",
       "    <tr style=\"text-align: right;\">\n",
       "      <th></th>\n",
       "      <th>Model</th>\n",
       "      <th>Precision</th>\n",
       "      <th>Recall</th>\n",
       "      <th>F1</th>\n",
       "      <th>AUC</th>\n",
       "      <th>Confusion Matrix</th>\n",
       "    </tr>\n",
       "  </thead>\n",
       "  <tbody>\n",
       "    <tr>\n",
       "      <th>2</th>\n",
       "      <td>Random Forest</td>\n",
       "      <td>0.803111</td>\n",
       "      <td>0.827600</td>\n",
       "      <td>0.815167</td>\n",
       "      <td>0.936799</td>\n",
       "      <td>[[13136, 1827], [1517, 7362]]</td>\n",
       "    </tr>\n",
       "    <tr>\n",
       "      <th>4</th>\n",
       "      <td>Light Gradient Boosting Machine</td>\n",
       "      <td>0.773510</td>\n",
       "      <td>0.832923</td>\n",
       "      <td>0.802087</td>\n",
       "      <td>0.934949</td>\n",
       "      <td>[[12748, 2215], [1404, 7475]]</td>\n",
       "    </tr>\n",
       "    <tr>\n",
       "      <th>3</th>\n",
       "      <td>Voting Classifier</td>\n",
       "      <td>0.764510</td>\n",
       "      <td>0.812424</td>\n",
       "      <td>0.787733</td>\n",
       "      <td>0.916866</td>\n",
       "      <td>[[12825, 2138], [1656, 7223]]</td>\n",
       "    </tr>\n",
       "    <tr>\n",
       "      <th>1</th>\n",
       "      <td>Decision Tree</td>\n",
       "      <td>0.770246</td>\n",
       "      <td>0.805544</td>\n",
       "      <td>0.787494</td>\n",
       "      <td>0.841689</td>\n",
       "      <td>[[12901, 2062], [1719, 7160]]</td>\n",
       "    </tr>\n",
       "    <tr>\n",
       "      <th>0</th>\n",
       "      <td>Logistic Regression</td>\n",
       "      <td>0.700071</td>\n",
       "      <td>0.786744</td>\n",
       "      <td>0.740856</td>\n",
       "      <td>0.881703</td>\n",
       "      <td>[[11998, 2965], [1881, 6998]]</td>\n",
       "    </tr>\n",
       "  </tbody>\n",
       "</table>\n",
       "</div>"
      ],
      "text/plain": [
       "                             Model  Precision    Recall        F1       AUC  \\\n",
       "2                    Random Forest   0.803111  0.827600  0.815167  0.936799   \n",
       "4  Light Gradient Boosting Machine   0.773510  0.832923  0.802087  0.934949   \n",
       "3                Voting Classifier   0.764510  0.812424  0.787733  0.916866   \n",
       "1                    Decision Tree   0.770246  0.805544  0.787494  0.841689   \n",
       "0              Logistic Regression   0.700071  0.786744  0.740856  0.881703   \n",
       "\n",
       "                Confusion Matrix  \n",
       "2  [[13136, 1827], [1517, 7362]]  \n",
       "4  [[12748, 2215], [1404, 7475]]  \n",
       "3  [[12825, 2138], [1656, 7223]]  \n",
       "1  [[12901, 2062], [1719, 7160]]  \n",
       "0  [[11998, 2965], [1881, 6998]]  "
      ]
     },
     "execution_count": 51,
     "metadata": {},
     "output_type": "execute_result"
    }
   ],
   "source": [
    "# loop through ensemble_models to train and evaluate each models\n",
    "for model_name, model in ensemble_models.items():\n",
    "    model_eval(model, model_name, X_train, y_train, X_test, y_test)\n",
    "\n",
    "# ensemble models' performances\n",
    "df_model_score.sort_values(by='F1', ascending=False)"
   ]
  },
  {
   "cell_type": "markdown",
   "id": "9ce3b80b",
   "metadata": {},
   "source": [
    "## Ensemble Model Hyperparameter Tuning"
   ]
  },
  {
   "cell_type": "markdown",
   "id": "18840c30",
   "metadata": {},
   "source": [
    "#### Random Forest"
   ]
  },
  {
   "cell_type": "code",
   "execution_count": 52,
   "id": "026c8b58",
   "metadata": {
    "scrolled": true
   },
   "outputs": [],
   "source": [
    "# define parameter grid for tuning random forest model\n",
    "rf_param_grid = {\n",
    "    'rf__n_estimators': [100],\n",
    "    'rf__max_depth': [30]\n",
    "}\n",
    "\n",
    "# initialize grid search to find best hyperparameter combination\n",
    "rf_grid_search = GridSearchCV(\n",
    "    estimator=rf_pipeline,\n",
    "    param_grid=rf_param_grid\n",
    ")\n",
    "\n",
    "# run grid search\n",
    "rf_grid_search.fit(X_train, y_train)\n",
    "\n",
    "# get best random forest model from grid search\n",
    "rf_best = rf_grid_search.best_estimator_\n",
    "\n",
    "# run model_eval on best random forest model\n",
    "model_eval(rf_best, 'Best Random Forest', X_train, y_train, X_test, y_test)"
   ]
  },
  {
   "cell_type": "markdown",
   "id": "cb8a4025",
   "metadata": {},
   "source": [
    "#### Random Forest Feature Importances"
   ]
  },
  {
   "cell_type": "code",
   "execution_count": 53,
   "id": "7082f2fe",
   "metadata": {
    "scrolled": true
   },
   "outputs": [
    {
     "name": "stderr",
     "output_type": "stream",
     "text": [
      "C:\\Users\\alber\\anaconda3\\lib\\site-packages\\sklearn\\utils\\deprecation.py:87: FutureWarning: Function get_feature_names is deprecated; get_feature_names is deprecated in 1.0 and will be removed in 1.2. Please use get_feature_names_out instead.\n",
      "  warnings.warn(msg, category=FutureWarning)\n"
     ]
    },
    {
     "data": {
      "text/plain": [
       "<AxesSubplot:xlabel='feature_importances', ylabel='feature_names'>"
      ]
     },
     "execution_count": 53,
     "metadata": {},
     "output_type": "execute_result"
    },
    {
     "data": {
      "image/png": "[encoded data removed]",
      "text/plain": [
       "<Figure size 576x864 with 1 Axes>"
      ]
     },
     "metadata": {
      "needs_background": "light"
     },
     "output_type": "display_data"
    }
   ],
   "source": [
    "# get feature importances\n",
    "rf_feature_importances = rf_best.steps[2][1].feature_importances_\n",
    "\n",
    "# get onehot encoded feature names\n",
    "ctg_onehot = onehot_encoder.fit_transform(X_train[used_ctg_cols_encoded])\n",
    "feature_names = np.concatenate((used_num_cols, onehot_encoder.get_feature_names()))\n",
    "\n",
    "# create dataframe to store feature importances\n",
    "d = {'feature_names': feature_names, 'feature_importances': rf_feature_importances}\n",
    "df_feature_importances = pd.DataFrame(data=d)\n",
    "\n",
    "# plot feature importances\n",
    "plt.figure(figsize=(8,12))\n",
    "sns.barplot(x='feature_importances', y='feature_names', data=df_feature_importances, order=df_feature_importances.sort_values(by='feature_importances', ascending=False)['feature_names'])"
   ]
  },
  {
   "cell_type": "markdown",
   "id": "4e247e0a",
   "metadata": {},
   "source": [
    "#### Evaluate all models' performances"
   ]
  },
  {
   "cell_type": "code",
   "execution_count": 54,
   "id": "13418b75",
   "metadata": {
    "scrolled": true
   },
   "outputs": [
    {
     "data": {
      "text/html": [
       "<div>\n",
       "<style scoped>\n",
       "    .dataframe tbody tr th:only-of-type {\n",
       "        vertical-align: middle;\n",
       "    }\n",
       "\n",
       "    .dataframe tbody tr th {\n",
       "        vertical-align: top;\n",
       "    }\n",
       "\n",
       "    .dataframe thead th {\n",
       "        text-align: right;\n",
       "    }\n",
       "</style>\n",
       "<table border=\"1\" class=\"dataframe\">\n",
       "  <thead>\n",
       "    <tr style=\"text-align: right;\">\n",
       "      <th></th>\n",
       "      <th>Model</th>\n",
       "      <th>Precision</th>\n",
       "      <th>Recall</th>\n",
       "      <th>F1</th>\n",
       "      <th>AUC</th>\n",
       "      <th>Confusion Matrix</th>\n",
       "    </tr>\n",
       "  </thead>\n",
       "  <tbody>\n",
       "    <tr>\n",
       "      <th>5</th>\n",
       "      <td>Best Random Forest</td>\n",
       "      <td>0.802581</td>\n",
       "      <td>0.832300</td>\n",
       "      <td>0.817166</td>\n",
       "      <td>0.940645</td>\n",
       "      <td>[[13161, 1802], [1476, 7403]]</td>\n",
       "    </tr>\n",
       "    <tr>\n",
       "      <th>2</th>\n",
       "      <td>Random Forest</td>\n",
       "      <td>0.803111</td>\n",
       "      <td>0.827600</td>\n",
       "      <td>0.815167</td>\n",
       "      <td>0.936799</td>\n",
       "      <td>[[13136, 1827], [1517, 7362]]</td>\n",
       "    </tr>\n",
       "    <tr>\n",
       "      <th>4</th>\n",
       "      <td>Light Gradient Boosting Machine</td>\n",
       "      <td>0.773510</td>\n",
       "      <td>0.832923</td>\n",
       "      <td>0.802087</td>\n",
       "      <td>0.934949</td>\n",
       "      <td>[[12748, 2215], [1404, 7475]]</td>\n",
       "    </tr>\n",
       "    <tr>\n",
       "      <th>3</th>\n",
       "      <td>Voting Classifier</td>\n",
       "      <td>0.764510</td>\n",
       "      <td>0.812424</td>\n",
       "      <td>0.787733</td>\n",
       "      <td>0.916866</td>\n",
       "      <td>[[12825, 2138], [1656, 7223]]</td>\n",
       "    </tr>\n",
       "    <tr>\n",
       "      <th>1</th>\n",
       "      <td>Decision Tree</td>\n",
       "      <td>0.770246</td>\n",
       "      <td>0.805544</td>\n",
       "      <td>0.787494</td>\n",
       "      <td>0.841689</td>\n",
       "      <td>[[12901, 2062], [1719, 7160]]</td>\n",
       "    </tr>\n",
       "    <tr>\n",
       "      <th>0</th>\n",
       "      <td>Logistic Regression</td>\n",
       "      <td>0.700071</td>\n",
       "      <td>0.786744</td>\n",
       "      <td>0.740856</td>\n",
       "      <td>0.881703</td>\n",
       "      <td>[[11998, 2965], [1881, 6998]]</td>\n",
       "    </tr>\n",
       "  </tbody>\n",
       "</table>\n",
       "</div>"
      ],
      "text/plain": [
       "                             Model  Precision    Recall        F1       AUC  \\\n",
       "5               Best Random Forest   0.802581  0.832300  0.817166  0.940645   \n",
       "2                    Random Forest   0.803111  0.827600  0.815167  0.936799   \n",
       "4  Light Gradient Boosting Machine   0.773510  0.832923  0.802087  0.934949   \n",
       "3                Voting Classifier   0.764510  0.812424  0.787733  0.916866   \n",
       "1                    Decision Tree   0.770246  0.805544  0.787494  0.841689   \n",
       "0              Logistic Regression   0.700071  0.786744  0.740856  0.881703   \n",
       "\n",
       "                Confusion Matrix  \n",
       "5  [[13161, 1802], [1476, 7403]]  \n",
       "2  [[13136, 1827], [1517, 7362]]  \n",
       "4  [[12748, 2215], [1404, 7475]]  \n",
       "3  [[12825, 2138], [1656, 7223]]  \n",
       "1  [[12901, 2062], [1719, 7160]]  \n",
       "0  [[11998, 2965], [1881, 6998]]  "
      ]
     },
     "execution_count": 54,
     "metadata": {},
     "output_type": "execute_result"
    }
   ],
   "source": [
    "df_model_score.sort_values(by='F1', ascending=False)"
   ]
  },
  {
   "cell_type": "code",
   "execution_count": 55,
   "id": "6820f259",
   "metadata": {
    "scrolled": false
   },
   "outputs": [
    {
     "data": {
      "text/html": [
       "<div>\n",
       "<style scoped>\n",
       "    .dataframe tbody tr th:only-of-type {\n",
       "        vertical-align: middle;\n",
       "    }\n",
       "\n",
       "    .dataframe tbody tr th {\n",
       "        vertical-align: top;\n",
       "    }\n",
       "\n",
       "    .dataframe thead th {\n",
       "        text-align: right;\n",
       "    }\n",
       "</style>\n",
       "<table border=\"1\" class=\"dataframe\">\n",
       "  <thead>\n",
       "    <tr style=\"text-align: right;\">\n",
       "      <th></th>\n",
       "      <th>Model</th>\n",
       "      <th>Precision</th>\n",
       "      <th>Recall</th>\n",
       "      <th>F1</th>\n",
       "      <th>AUC</th>\n",
       "      <th>Confusion Matrix</th>\n",
       "    </tr>\n",
       "  </thead>\n",
       "  <tbody>\n",
       "    <tr>\n",
       "      <th>5</th>\n",
       "      <td>Best Random Forest</td>\n",
       "      <td>0.802581</td>\n",
       "      <td>0.832300</td>\n",
       "      <td>0.817166</td>\n",
       "      <td>0.940645</td>\n",
       "      <td>[[13161, 1802], [1476, 7403]]</td>\n",
       "    </tr>\n",
       "    <tr>\n",
       "      <th>2</th>\n",
       "      <td>Random Forest</td>\n",
       "      <td>0.803111</td>\n",
       "      <td>0.827600</td>\n",
       "      <td>0.815167</td>\n",
       "      <td>0.936799</td>\n",
       "      <td>[[13136, 1827], [1517, 7362]]</td>\n",
       "    </tr>\n",
       "    <tr>\n",
       "      <th>4</th>\n",
       "      <td>Light Gradient Boosting Machine</td>\n",
       "      <td>0.773510</td>\n",
       "      <td>0.832923</td>\n",
       "      <td>0.802087</td>\n",
       "      <td>0.934949</td>\n",
       "      <td>[[12748, 2215], [1404, 7475]]</td>\n",
       "    </tr>\n",
       "    <tr>\n",
       "      <th>3</th>\n",
       "      <td>Voting Classifier</td>\n",
       "      <td>0.764510</td>\n",
       "      <td>0.812424</td>\n",
       "      <td>0.787733</td>\n",
       "      <td>0.916866</td>\n",
       "      <td>[[12825, 2138], [1656, 7223]]</td>\n",
       "    </tr>\n",
       "    <tr>\n",
       "      <th>0</th>\n",
       "      <td>Logistic Regression</td>\n",
       "      <td>0.700071</td>\n",
       "      <td>0.786744</td>\n",
       "      <td>0.740856</td>\n",
       "      <td>0.881703</td>\n",
       "      <td>[[11998, 2965], [1881, 6998]]</td>\n",
       "    </tr>\n",
       "    <tr>\n",
       "      <th>1</th>\n",
       "      <td>Decision Tree</td>\n",
       "      <td>0.770246</td>\n",
       "      <td>0.805544</td>\n",
       "      <td>0.787494</td>\n",
       "      <td>0.841689</td>\n",
       "      <td>[[12901, 2062], [1719, 7160]]</td>\n",
       "    </tr>\n",
       "  </tbody>\n",
       "</table>\n",
       "</div>"
      ],
      "text/plain": [
       "                             Model  Precision    Recall        F1       AUC  \\\n",
       "5               Best Random Forest   0.802581  0.832300  0.817166  0.940645   \n",
       "2                    Random Forest   0.803111  0.827600  0.815167  0.936799   \n",
       "4  Light Gradient Boosting Machine   0.773510  0.832923  0.802087  0.934949   \n",
       "3                Voting Classifier   0.764510  0.812424  0.787733  0.916866   \n",
       "0              Logistic Regression   0.700071  0.786744  0.740856  0.881703   \n",
       "1                    Decision Tree   0.770246  0.805544  0.787494  0.841689   \n",
       "\n",
       "                Confusion Matrix  \n",
       "5  [[13161, 1802], [1476, 7403]]  \n",
       "2  [[13136, 1827], [1517, 7362]]  \n",
       "4  [[12748, 2215], [1404, 7475]]  \n",
       "3  [[12825, 2138], [1656, 7223]]  \n",
       "0  [[11998, 2965], [1881, 6998]]  \n",
       "1  [[12901, 2062], [1719, 7160]]  "
      ]
     },
     "execution_count": 55,
     "metadata": {},
     "output_type": "execute_result"
    }
   ],
   "source": [
    "df_model_score.sort_values(by='AUC', ascending=False)"
   ]
  },
  {
   "cell_type": "markdown",
   "id": "0de8e08a",
   "metadata": {},
   "source": [
    "Based on tables above, our best model is Random Forest after Hyperparameter Tuning."
   ]
  },
  {
   "cell_type": "markdown",
   "id": "901c6736",
   "metadata": {},
   "source": [
    "## Conclusion\n",
    "- Based on experiments above, the best machine learning model is Random Forest with Hyperparameter Tuning with performance as following.\n",
    "1. Precision: 80.26%, which means out of all predictions, 80.26% of them are correct.\n",
    "2. Recall: 83.23%, which means out of all data, 83.23% of them are classified correctly.\n",
    "3. F1: 81.72%, the average of precision and recall.\n",
    "4. AUC ROC: 94.06%, which means the model has 94% chance of correctly classifying the data\n",
    "\n",
    "- If we implemented this model, we could estimate an additional revenue of 43,123 x 37.04% x 80.26% x EUR 102 = **EUR 1,307,613/year** from correctly predicting which booking will be canceled and resell all of those rooms.\n",
    "\n",
    "\n",
    "- Here are the top 5 features that have the most impact on prediction\n",
    "1. Agent that is used by the customer (especially agent 9 and 240)\n",
    "2. Customer type (especially if the customer is transient party)\n",
    "3. Total number of special requests made by the customer (higher number of special requests, lower cancellation probability)\n",
    "4. Car parking spaces required by the customer (higher number of special requests, lower cancellation probability)\n",
    "5. The customer is not a repeated guest\n",
    "\n",
    "## Recommendation\n",
    "### Recommendation for business owner\n",
    "Here is our recommendation for business owner when we get a false prediction with some assumptions.\n",
    "#### Assumptions based on analysis\n",
    "- Avg. yearly bookings: 43,123\n",
    "- Avg. room price = EUR 102\n",
    "- Pct. of hotel fully booked: 10%\n",
    "- Pct. of assigning lower class room and is canceled: 4.31%\n",
    "- Pct. of assigning lower class room and not canceled: 84.51%\n",
    "- Pct. of assigning higher class room: 11.18%\n",
    "- Avg. loss from assigning higher class room: EUR 37\n",
    "- Avg. surplus from assigning lower class room: EUR 10\n",
    "- Rate of falsely predict a booking as canceled: 100% - Precision = 19.74%\n",
    "- Rate of falsely predict a booking as not canceled: 100% - Recall = 16.77%\n",
    "\n",
    "#### Recommendations\n",
    "1. If a booking is predicted as canceled and the room already sold, but the customer show up. This has several scenarios.\n",
    "    - No room available: refund any payment already made, and offer a voucher e.g. worth 1 night of stay. We don't have any information on how often the hotel is fully booked, so we will make an assumption of 10%. Estimated cost of giving out voucher: 43,123 x 19.74% x 10% x EUR 102 = **EUR 86,827/year**.\n",
    "    - Lower class room available but customer reject room changes: refund any payment already made, and offer a voucher e.g. worth 1 night of stay. Estimated cost of giving out voucher: 43,123 x 19.74% x 90% x 4.31% x EUR 102 = **EUR 33,680/year**.\n",
    "    - Lower class room available and customer accept room changes: offer a voucher e.g. worth the difference between assigned room price and reserved room price. Estimated cost of giving out voucher: 43,123 x 19.74% x 90% x 84.51% x EUR 10 = **EUR 64,745/year**.\n",
    "    - Higher class room available: assign the customer to a higher class room. Estimated cost: 43,123 x 19.74% x 90% x 11.18% x EUR 37 = **EUR 31,691/year**.\n",
    "\n",
    "\n",
    "2. If a booking is predicted as not canceled but the customer didn't show up and the room can't be sold for that same day.\n",
    "    - Ask customer for down payment if possible (e.g. 50% down payment, non-refundable if customer canceled). Estimated loss from not being able to sold a room: 43,123 x 16.77% x EUR 102 x 50% = **EUR 368,818/year**.\n",
    "    - Emphasize on cancellation policy that any payment made can not be refunded if customer cancelled their booking (for deposit type of non-refund).\n",
    "    \n",
    "3. To minimize bookings cancelation, we could set a special rate for advance booking, but with non-refundable payment.\n",
    "\n",
    "### Recommendation for operational\n",
    "Because our best model still has probability to give a false prediction, we shouldn't immediately take action (especially if a booking is predicted as canceled but with low probability). Here are some recommendations when such condition occurs:\n",
    "1. Remind the customer that they have booked a room in our hotel (e.g. via email or text messages).\n",
    "2. Call the customer to make sure whether they still want to keep their booking or not.\n",
    "\n",
    "### Recommendation for other researcher\n",
    "1. Do error analysis to find out what causes false predictions. \n",
    "2. Experiment other kind of feature engineering.\n",
    "3. Try other feature combinations."
   ]
  }
 ],
 "metadata": {
  "kernelspec": {
   "display_name": "Python 3",
   "language": "python",
   "name": "python3"
  },
  "language_info": {
   "codemirror_mode": {
    "name": "ipython",
    "version": 3
   },
   "file_extension": ".py",
   "mimetype": "text/x-python",
   "name": "python",
   "nbconvert_exporter": "python",
   "pygments_lexer": "ipython3",
   "version": "3.8.8"
  }
 },
 "nbformat": 4,
 "nbformat_minor": 5
}

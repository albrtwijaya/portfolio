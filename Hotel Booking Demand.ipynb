{
 "cells": [
  {
   "cell_type": "markdown",
   "id": "ea4af304",
   "metadata": {},
   "source": [
    "# How To Predict Hotel Booking Cancellation to Minimize Hotel's Financial Loss"
   ]
  },
  {
   "cell_type": "markdown",
   "id": "75a7897e",
   "metadata": {},
   "source": [
    "## Background\n",
    "In accommodation business, it is common for guests to cancel their booking, and some guests might cancel just before their expected check-in time. In a scenario where a hotel is fully booked, business owner might wait for the expected guest to come, and reject any other customer looking for a place to stay. This situation poses a risk that could cause financial loss if the guest called and canceled their booking, or didn't even come, and the room can't be sold anymore for that day.\n",
    "\n",
    "What if we can predict if a guest will likely cancel their booking before their expected check-in time? If we can predict that a guest is likely going to cancel their booking, that same room can be sold to other guest. This way, we can minimize financial loss from canceled bookings, and sell those empty rooms to other potential customers."
   ]
  },
  {
   "cell_type": "markdown",
   "id": "b719734c",
   "metadata": {},
   "source": [
    "## What is the goal?\n",
    "The goal is to create a machine learning model which can predict if a guest is more likely to cancel their booking or not."
   ]
  },
  {
   "cell_type": "markdown",
   "id": "bb947222",
   "metadata": {},
   "source": [
    "## What is the limitation?\n",
    "Machine learning model can't have 100% success rate. There will be some false predictions. The model could falsely predict a booking has high chance of being canceled, but turns out the guest actually show up, and vice versa.\n",
    "\n",
    "#### Scenario 1.\n",
    "If we predicted a booking as canceled and already sold the room to other guest, but then the original guest actually come, there might be no room available for the original guest. This will hurt the hotel's reputation. The same thing applies if there is an available room, but with lower class. If the available room is a higher class, which should cost more, then the business will suffer financial loss from selling more expensive room for a cheaper price.\n",
    "\n",
    "#### Scenario 2.\n",
    "If we predicted a booking as not-canceled, but the guest didn't show up, the business will suffer financial loss because they didn't sell the room to other potential customers."
   ]
  },
  {
   "cell_type": "markdown",
   "id": "d2e6c4aa",
   "metadata": {},
   "source": [
    "## Metrics to measure model's performance\n",
    "The 2 scenarios above is called false positive and false negative prediction. And based on them, it is important that the model has low chance of giving out false predictions. The appropriate metrics to measure the performance is F1 score/AUC score."
   ]
  },
  {
   "cell_type": "markdown",
   "id": "c8fd23bb",
   "metadata": {},
   "source": [
    "## Dataset\n",
    "For this exercies, we will use Hotel Booking Demand dataset from Kaggel.\n",
    "\n",
    "Access here: https://www.kaggle.com/datasets/jessemostipak/hotel-booking-demand"
   ]
  },
  {
   "cell_type": "code",
   "execution_count": 1,
   "id": "7595fb09",
   "metadata": {},
   "outputs": [],
   "source": [
    "# import necessary libraries\n",
    "import pandas as pd\n",
    "import numpy as np\n",
    "import matplotlib.pyplot as plt\n",
    "import seaborn as sns\n",
    "\n",
    "import datetime\n",
    "from sklearn.model_selection import train_test_split, GridSearchCV, RandomizedSearchCV, cross_val_score\n",
    "from sklearn.preprocessing import OneHotEncoder, FunctionTransformer\n",
    "from sklearn.compose import ColumnTransformer\n",
    "from sklearn.linear_model import LogisticRegression\n",
    "from sklearn.neighbors import KNeighborsClassifier\n",
    "from sklearn.tree import DecisionTreeClassifier\n",
    "from sklearn.pipeline import Pipeline\n",
    "from sklearn.metrics import f1_score, accuracy_score, precision_score, recall_score, confusion_matrix, classification_report, roc_curve, roc_auc_score\n",
    "from sklearn.ensemble import RandomForestClassifier, AdaBoostClassifier, VotingClassifier\n",
    "from imblearn.over_sampling import RandomOverSampler, SMOTE, SMOTENC\n",
    "from imblearn.under_sampling import RandomUnderSampler\n",
    "from xgboost import XGBClassifier\n",
    "from lightgbm import LGBMClassifier\n",
    "from catboost import CatBoostClassifier"
   ]
  },
  {
   "cell_type": "code",
   "execution_count": 2,
   "id": "7559a170",
   "metadata": {
    "scrolled": false
   },
   "outputs": [
    {
     "data": {
      "text/html": [
       "<div>\n",
       "<style scoped>\n",
       "    .dataframe tbody tr th:only-of-type {\n",
       "        vertical-align: middle;\n",
       "    }\n",
       "\n",
       "    .dataframe tbody tr th {\n",
       "        vertical-align: top;\n",
       "    }\n",
       "\n",
       "    .dataframe thead th {\n",
       "        text-align: right;\n",
       "    }\n",
       "</style>\n",
       "<table border=\"1\" class=\"dataframe\">\n",
       "  <thead>\n",
       "    <tr style=\"text-align: right;\">\n",
       "      <th></th>\n",
       "      <th>hotel</th>\n",
       "      <th>is_canceled</th>\n",
       "      <th>lead_time</th>\n",
       "      <th>arrival_date_year</th>\n",
       "      <th>arrival_date_month</th>\n",
       "      <th>arrival_date_week_number</th>\n",
       "      <th>arrival_date_day_of_month</th>\n",
       "      <th>stays_in_weekend_nights</th>\n",
       "      <th>stays_in_week_nights</th>\n",
       "      <th>adults</th>\n",
       "      <th>...</th>\n",
       "      <th>deposit_type</th>\n",
       "      <th>agent</th>\n",
       "      <th>company</th>\n",
       "      <th>days_in_waiting_list</th>\n",
       "      <th>customer_type</th>\n",
       "      <th>adr</th>\n",
       "      <th>required_car_parking_spaces</th>\n",
       "      <th>total_of_special_requests</th>\n",
       "      <th>reservation_status</th>\n",
       "      <th>reservation_status_date</th>\n",
       "    </tr>\n",
       "  </thead>\n",
       "  <tbody>\n",
       "    <tr>\n",
       "      <th>0</th>\n",
       "      <td>Resort Hotel</td>\n",
       "      <td>0</td>\n",
       "      <td>342</td>\n",
       "      <td>2015</td>\n",
       "      <td>July</td>\n",
       "      <td>27</td>\n",
       "      <td>1</td>\n",
       "      <td>0</td>\n",
       "      <td>0</td>\n",
       "      <td>2</td>\n",
       "      <td>...</td>\n",
       "      <td>No Deposit</td>\n",
       "      <td>NaN</td>\n",
       "      <td>NaN</td>\n",
       "      <td>0</td>\n",
       "      <td>Transient</td>\n",
       "      <td>0.0</td>\n",
       "      <td>0</td>\n",
       "      <td>0</td>\n",
       "      <td>Check-Out</td>\n",
       "      <td>2015-07-01</td>\n",
       "    </tr>\n",
       "    <tr>\n",
       "      <th>1</th>\n",
       "      <td>Resort Hotel</td>\n",
       "      <td>0</td>\n",
       "      <td>737</td>\n",
       "      <td>2015</td>\n",
       "      <td>July</td>\n",
       "      <td>27</td>\n",
       "      <td>1</td>\n",
       "      <td>0</td>\n",
       "      <td>0</td>\n",
       "      <td>2</td>\n",
       "      <td>...</td>\n",
       "      <td>No Deposit</td>\n",
       "      <td>NaN</td>\n",
       "      <td>NaN</td>\n",
       "      <td>0</td>\n",
       "      <td>Transient</td>\n",
       "      <td>0.0</td>\n",
       "      <td>0</td>\n",
       "      <td>0</td>\n",
       "      <td>Check-Out</td>\n",
       "      <td>2015-07-01</td>\n",
       "    </tr>\n",
       "    <tr>\n",
       "      <th>2</th>\n",
       "      <td>Resort Hotel</td>\n",
       "      <td>0</td>\n",
       "      <td>7</td>\n",
       "      <td>2015</td>\n",
       "      <td>July</td>\n",
       "      <td>27</td>\n",
       "      <td>1</td>\n",
       "      <td>0</td>\n",
       "      <td>1</td>\n",
       "      <td>1</td>\n",
       "      <td>...</td>\n",
       "      <td>No Deposit</td>\n",
       "      <td>NaN</td>\n",
       "      <td>NaN</td>\n",
       "      <td>0</td>\n",
       "      <td>Transient</td>\n",
       "      <td>75.0</td>\n",
       "      <td>0</td>\n",
       "      <td>0</td>\n",
       "      <td>Check-Out</td>\n",
       "      <td>2015-07-02</td>\n",
       "    </tr>\n",
       "    <tr>\n",
       "      <th>3</th>\n",
       "      <td>Resort Hotel</td>\n",
       "      <td>0</td>\n",
       "      <td>13</td>\n",
       "      <td>2015</td>\n",
       "      <td>July</td>\n",
       "      <td>27</td>\n",
       "      <td>1</td>\n",
       "      <td>0</td>\n",
       "      <td>1</td>\n",
       "      <td>1</td>\n",
       "      <td>...</td>\n",
       "      <td>No Deposit</td>\n",
       "      <td>304.0</td>\n",
       "      <td>NaN</td>\n",
       "      <td>0</td>\n",
       "      <td>Transient</td>\n",
       "      <td>75.0</td>\n",
       "      <td>0</td>\n",
       "      <td>0</td>\n",
       "      <td>Check-Out</td>\n",
       "      <td>2015-07-02</td>\n",
       "    </tr>\n",
       "    <tr>\n",
       "      <th>4</th>\n",
       "      <td>Resort Hotel</td>\n",
       "      <td>0</td>\n",
       "      <td>14</td>\n",
       "      <td>2015</td>\n",
       "      <td>July</td>\n",
       "      <td>27</td>\n",
       "      <td>1</td>\n",
       "      <td>0</td>\n",
       "      <td>2</td>\n",
       "      <td>2</td>\n",
       "      <td>...</td>\n",
       "      <td>No Deposit</td>\n",
       "      <td>240.0</td>\n",
       "      <td>NaN</td>\n",
       "      <td>0</td>\n",
       "      <td>Transient</td>\n",
       "      <td>98.0</td>\n",
       "      <td>0</td>\n",
       "      <td>1</td>\n",
       "      <td>Check-Out</td>\n",
       "      <td>2015-07-03</td>\n",
       "    </tr>\n",
       "  </tbody>\n",
       "</table>\n",
       "<p>5 rows × 32 columns</p>\n",
       "</div>"
      ],
      "text/plain": [
       "          hotel  is_canceled  lead_time  arrival_date_year arrival_date_month  \\\n",
       "0  Resort Hotel            0        342               2015               July   \n",
       "1  Resort Hotel            0        737               2015               July   \n",
       "2  Resort Hotel            0          7               2015               July   \n",
       "3  Resort Hotel            0         13               2015               July   \n",
       "4  Resort Hotel            0         14               2015               July   \n",
       "\n",
       "   arrival_date_week_number  arrival_date_day_of_month  \\\n",
       "0                        27                          1   \n",
       "1                        27                          1   \n",
       "2                        27                          1   \n",
       "3                        27                          1   \n",
       "4                        27                          1   \n",
       "\n",
       "   stays_in_weekend_nights  stays_in_week_nights  adults  ...  deposit_type  \\\n",
       "0                        0                     0       2  ...    No Deposit   \n",
       "1                        0                     0       2  ...    No Deposit   \n",
       "2                        0                     1       1  ...    No Deposit   \n",
       "3                        0                     1       1  ...    No Deposit   \n",
       "4                        0                     2       2  ...    No Deposit   \n",
       "\n",
       "   agent company days_in_waiting_list customer_type   adr  \\\n",
       "0    NaN     NaN                    0     Transient   0.0   \n",
       "1    NaN     NaN                    0     Transient   0.0   \n",
       "2    NaN     NaN                    0     Transient  75.0   \n",
       "3  304.0     NaN                    0     Transient  75.0   \n",
       "4  240.0     NaN                    0     Transient  98.0   \n",
       "\n",
       "   required_car_parking_spaces  total_of_special_requests  reservation_status  \\\n",
       "0                            0                          0           Check-Out   \n",
       "1                            0                          0           Check-Out   \n",
       "2                            0                          0           Check-Out   \n",
       "3                            0                          0           Check-Out   \n",
       "4                            0                          1           Check-Out   \n",
       "\n",
       "  reservation_status_date  \n",
       "0              2015-07-01  \n",
       "1              2015-07-01  \n",
       "2              2015-07-02  \n",
       "3              2015-07-02  \n",
       "4              2015-07-03  \n",
       "\n",
       "[5 rows x 32 columns]"
      ]
     },
     "execution_count": 2,
     "metadata": {},
     "output_type": "execute_result"
    }
   ],
   "source": [
    "# load the dataset\n",
    "df = pd.read_csv('hotel_bookings.csv')\n",
    "df.head()"
   ]
  },
  {
   "cell_type": "markdown",
   "id": "8b9b879e",
   "metadata": {},
   "source": [
    "The target (y variable) on this dataset will be the 'is_canceled' column.\n",
    "\n",
    "0 = the booking is not canceled, 1 = the booking is canceled"
   ]
  },
  {
   "cell_type": "code",
   "execution_count": 3,
   "id": "6daa94cf",
   "metadata": {
    "scrolled": false
   },
   "outputs": [
    {
     "name": "stdout",
     "output_type": "stream",
     "text": [
      "<class 'pandas.core.frame.DataFrame'>\n",
      "RangeIndex: 119390 entries, 0 to 119389\n",
      "Data columns (total 32 columns):\n",
      " #   Column                          Non-Null Count   Dtype  \n",
      "---  ------                          --------------   -----  \n",
      " 0   hotel                           119390 non-null  object \n",
      " 1   is_canceled                     119390 non-null  int64  \n",
      " 2   lead_time                       119390 non-null  int64  \n",
      " 3   arrival_date_year               119390 non-null  int64  \n",
      " 4   arrival_date_month              119390 non-null  object \n",
      " 5   arrival_date_week_number        119390 non-null  int64  \n",
      " 6   arrival_date_day_of_month       119390 non-null  int64  \n",
      " 7   stays_in_weekend_nights         119390 non-null  int64  \n",
      " 8   stays_in_week_nights            119390 non-null  int64  \n",
      " 9   adults                          119390 non-null  int64  \n",
      " 10  children                        119386 non-null  float64\n",
      " 11  babies                          119390 non-null  int64  \n",
      " 12  meal                            119390 non-null  object \n",
      " 13  country                         118902 non-null  object \n",
      " 14  market_segment                  119390 non-null  object \n",
      " 15  distribution_channel            119390 non-null  object \n",
      " 16  is_repeated_guest               119390 non-null  int64  \n",
      " 17  previous_cancellations          119390 non-null  int64  \n",
      " 18  previous_bookings_not_canceled  119390 non-null  int64  \n",
      " 19  reserved_room_type              119390 non-null  object \n",
      " 20  assigned_room_type              119390 non-null  object \n",
      " 21  booking_changes                 119390 non-null  int64  \n",
      " 22  deposit_type                    119390 non-null  object \n",
      " 23  agent                           103050 non-null  float64\n",
      " 24  company                         6797 non-null    float64\n",
      " 25  days_in_waiting_list            119390 non-null  int64  \n",
      " 26  customer_type                   119390 non-null  object \n",
      " 27  adr                             119390 non-null  float64\n",
      " 28  required_car_parking_spaces     119390 non-null  int64  \n",
      " 29  total_of_special_requests       119390 non-null  int64  \n",
      " 30  reservation_status              119390 non-null  object \n",
      " 31  reservation_status_date         119390 non-null  object \n",
      "dtypes: float64(4), int64(16), object(12)\n",
      "memory usage: 29.1+ MB\n"
     ]
    }
   ],
   "source": [
    "# make sure every column has matching Dtype\n",
    "df.info()"
   ]
  },
  {
   "cell_type": "markdown",
   "id": "4a38f0f0",
   "metadata": {},
   "source": [
    "# Data Cleansing"
   ]
  },
  {
   "cell_type": "markdown",
   "id": "2916bb07",
   "metadata": {},
   "source": [
    "We will check if there is any booking with 0 guest."
   ]
  },
  {
   "cell_type": "code",
   "execution_count": 4,
   "id": "0a648c9c",
   "metadata": {},
   "outputs": [
    {
     "data": {
      "text/plain": [
       "(180,)"
      ]
     },
     "execution_count": 4,
     "metadata": {},
     "output_type": "execute_result"
    }
   ],
   "source": [
    "# get booking's index where the booking has 0 guest\n",
    "zero_guest = df[(df['adults'] == 0) & (df['children'] == 0) & (df['babies'] == 0)].index\n",
    "zero_guest.shape"
   ]
  },
  {
   "cell_type": "markdown",
   "id": "4eae5e04",
   "metadata": {},
   "source": [
    "Turns out there are 180 bookings with 0 guests. We will drop these bookings."
   ]
  },
  {
   "cell_type": "code",
   "execution_count": 5,
   "id": "d40dfdb4",
   "metadata": {
    "scrolled": true
   },
   "outputs": [],
   "source": [
    "df.drop(index = zero_guest, inplace=True)"
   ]
  },
  {
   "cell_type": "markdown",
   "id": "6b971340",
   "metadata": {},
   "source": [
    "The column 'children' has Dtype of float64, this is because there are some null values inside those columns. We will replace those null values with 0."
   ]
  },
  {
   "cell_type": "code",
   "execution_count": 6,
   "id": "6c64afab",
   "metadata": {
    "scrolled": true
   },
   "outputs": [],
   "source": [
    "df['children'].fillna(value=0, inplace=True)"
   ]
  },
  {
   "cell_type": "markdown",
   "id": "aa163209",
   "metadata": {},
   "source": [
    "# Exploratory Data Analysis"
   ]
  },
  {
   "cell_type": "code",
   "execution_count": 7,
   "id": "12c69db8",
   "metadata": {},
   "outputs": [],
   "source": [
    "# Split dataset into training set and test set\n",
    "df_train, df_test = train_test_split(df, test_size=0.2, random_state=22)"
   ]
  },
  {
   "cell_type": "code",
   "execution_count": 8,
   "id": "7bb75fef",
   "metadata": {
    "scrolled": true
   },
   "outputs": [
    {
     "data": {
      "text/plain": [
       "<AxesSubplot:xlabel='is_canceled', ylabel='count'>"
      ]
     },
     "execution_count": 8,
     "metadata": {},
     "output_type": "execute_result"
    },
    {
     "data": {
      "image/png": "[encoded data removed]",
      "text/plain": [
       "<Figure size 432x288 with 1 Axes>"
      ]
     },
     "metadata": {
      "needs_background": "light"
     },
     "output_type": "display_data"
    }
   ],
   "source": [
    "# countplot to see if is_canceled has balanced class distribution\n",
    "sns.countplot(x='is_canceled', data=df_train)"
   ]
  },
  {
   "cell_type": "markdown",
   "id": "67c2bcc7",
   "metadata": {},
   "source": [
    "This dataset has imbalance class."
   ]
  },
  {
   "cell_type": "markdown",
   "id": "13a77505",
   "metadata": {},
   "source": [
    "#### Check if time of the year affects number of bookings"
   ]
  },
  {
   "cell_type": "code",
   "execution_count": 9,
   "id": "a4cf7ab2",
   "metadata": {},
   "outputs": [
    {
     "data": {
      "text/plain": [
       "Text(0, 0.5, 'Number of booking')"
      ]
     },
     "execution_count": 9,
     "metadata": {},
     "output_type": "execute_result"
    },
    {
     "data": {
      "image/png": "[encoded data removed]",
      "text/plain": [
       "<Figure size 432x288 with 1 Axes>"
      ]
     },
     "metadata": {
      "needs_background": "light"
     },
     "output_type": "display_data"
    }
   ],
   "source": [
    "df_week_num_cancellation = df_train.groupby(['arrival_date_week_number', 'is_canceled']).count()\n",
    "df_week_num_cancellation = df_week_num_cancellation.pivot_table(values='hotel', index='arrival_date_week_number', columns='is_canceled', fill_value=0)\n",
    "df_week_num_cancellation = df_week_num_cancellation.reset_index().rename(columns={0: 'not_canceled', 1: 'is_canceled'})\n",
    "\n",
    "sns.lineplot(x=df_week_num_cancellation.index, y='not_canceled', data=df_week_num_cancellation, label='not_canceled')\n",
    "sns.lineplot(x=df_week_num_cancellation.index, y='is_canceled', data=df_week_num_cancellation, label='is_canceled')\n",
    "\n",
    "plt.xlabel('Week number')\n",
    "plt.ylabel('Number of booking')"
   ]
  },
  {
   "cell_type": "markdown",
   "id": "3ce2f525",
   "metadata": {},
   "source": [
    "Based on line plot above, it is clear that number of booking is higher in the middle of the year"
   ]
  },
  {
   "cell_type": "markdown",
   "id": "1902265f",
   "metadata": {},
   "source": [
    "#### Calculate financial loss from canceled bookings"
   ]
  },
  {
   "cell_type": "markdown",
   "id": "e06cc2ea",
   "metadata": {},
   "source": [
    "ADR (Average Daily Rate) is the average price of room sold to guest on a given day."
   ]
  },
  {
   "cell_type": "code",
   "execution_count": 10,
   "id": "86c1e1e0",
   "metadata": {},
   "outputs": [
    {
     "name": "stdout",
     "output_type": "stream",
     "text": [
      "Hotel ADR: EUR 102\n"
     ]
    }
   ],
   "source": [
    "avg_adr = df_train['adr'].mean()\n",
    "\n",
    "print('Hotel ADR: EUR', round(avg_adr))"
   ]
  },
  {
   "cell_type": "code",
   "execution_count": 11,
   "id": "c6f07964",
   "metadata": {},
   "outputs": [
    {
     "name": "stdout",
     "output_type": "stream",
     "text": [
      "Total Loss (2015-2017): EUR 3,600,088\n",
      "Average Yearly Loss: EUR 1,642,145\n"
     ]
    }
   ],
   "source": [
    "# calculate loss from canceled bookings\n",
    "financial_loss = df_train[df_train['is_canceled'] == 1]['hotel'].count() * avg_adr\n",
    "\n",
    "print('Total Loss (2015-2017): EUR {:,}'.format(round(financial_loss)))\n",
    "print('Average Yearly Loss: EUR {:,}'.format(round((financial_loss/114)*52)))"
   ]
  },
  {
   "cell_type": "markdown",
   "id": "405d1b2c",
   "metadata": {},
   "source": [
    "### Analyse each numerical and categorical features"
   ]
  },
  {
   "cell_type": "markdown",
   "id": "ad086875",
   "metadata": {},
   "source": [
    "#### Define numerical and categorical feature to be analysed"
   ]
  },
  {
   "cell_type": "code",
   "execution_count": 12,
   "id": "112ee1a8",
   "metadata": {},
   "outputs": [],
   "source": [
    "num_cols = ['lead_time', 'arrival_date_week_number', 'stays_in_weekend_nights', 'stays_in_week_nights', 'adults', 'children', 'babies', 'previous_cancellations', 'previous_bookings_not_canceled', 'booking_changes', 'days_in_waiting_list', 'adr', 'required_car_parking_spaces', 'total_of_special_requests']\n",
    "ctg_cols = ['hotel', 'is_canceled', 'arrival_date_month', 'meal', 'country', 'market_segment', 'distribution_channel', 'is_repeated_guest', 'reserved_room_type', 'assigned_room_type', 'deposit_type', 'agent', 'customer_type', 'reservation_status']"
   ]
  },
  {
   "cell_type": "markdown",
   "id": "73430f19",
   "metadata": {},
   "source": [
    "Note that we don't use some features\n",
    "- arrival_date_year\n",
    "- arrival_date_day_of_month\n",
    "- company"
   ]
  },
  {
   "cell_type": "code",
   "execution_count": 13,
   "id": "590294a3",
   "metadata": {},
   "outputs": [
    {
     "data": {
      "image/png": "[encoded data removed]",
      "text/plain": [
       "<Figure size 1080x1440 with 15 Axes>"
      ]
     },
     "metadata": {
      "needs_background": "light"
     },
     "output_type": "display_data"
    }
   ],
   "source": [
    "# plot numerical features\n",
    "fig, ax = plt.subplots(5, 3, figsize=(15,20))\n",
    "\n",
    "for ix, col in enumerate(num_cols):\n",
    "    sns.boxplot(y=col, x='is_canceled', data=df_train, ax=ax.flatten()[ix], showfliers=False)\n",
    "\n",
    "plt.show()"
   ]
  },
  {
   "cell_type": "markdown",
   "id": "b969d7f1",
   "metadata": {},
   "source": [
    "Based on boxplot above, only lead_time and total_of_special_requests features have noticeable difference between canceled and not-canceled."
   ]
  },
  {
   "cell_type": "code",
   "execution_count": 14,
   "id": "3ac9e9fb",
   "metadata": {},
   "outputs": [
    {
     "data": {
      "image/png": "[encoded data removed]",
      "text/plain": [
       "<Figure size 1080x2160 with 15 Axes>"
      ]
     },
     "metadata": {
      "needs_background": "light"
     },
     "output_type": "display_data"
    }
   ],
   "source": [
    "# plot categorical features\n",
    "fig, ax = plt.subplots(5, 3, figsize=(15,30))\n",
    "\n",
    "for ix, col in enumerate(ctg_cols):\n",
    "    sns.countplot(y=col, hue='is_canceled', data=df_train, ax=ax.flatten()[ix])\n",
    "\n",
    "plt.show()"
   ]
  },
  {
   "cell_type": "markdown",
   "id": "90bca2ce",
   "metadata": {},
   "source": [
    "based on countplots above, these are the features that might be used because they have big differences in some of the categories:\n",
    "- hotel\n",
    "- meal\n",
    "- country (need further analysis because the plot isn't readable but shows some extreme values)\n",
    "- market_segment\n",
    "- distribution_channel\n",
    "- reserved_room_type\n",
    "- deposit_type\n",
    "- customer_type\n",
    "- is_repeated_guest"
   ]
  },
  {
   "cell_type": "markdown",
   "id": "f677b729",
   "metadata": {},
   "source": [
    "#### Further analysis on country feature"
   ]
  },
  {
   "cell_type": "code",
   "execution_count": 15,
   "id": "2cb5263e",
   "metadata": {
    "scrolled": true
   },
   "outputs": [
    {
     "data": {
      "text/html": [
       "<div>\n",
       "<style scoped>\n",
       "    .dataframe tbody tr th:only-of-type {\n",
       "        vertical-align: middle;\n",
       "    }\n",
       "\n",
       "    .dataframe tbody tr th {\n",
       "        vertical-align: top;\n",
       "    }\n",
       "\n",
       "    .dataframe thead th {\n",
       "        text-align: right;\n",
       "    }\n",
       "</style>\n",
       "<table border=\"1\" class=\"dataframe\">\n",
       "  <thead>\n",
       "    <tr style=\"text-align: right;\">\n",
       "      <th>is_canceled</th>\n",
       "      <th>not_canceled</th>\n",
       "      <th>is_canceled</th>\n",
       "      <th>total_bookings</th>\n",
       "      <th>cancel_rate</th>\n",
       "    </tr>\n",
       "    <tr>\n",
       "      <th>country</th>\n",
       "      <th></th>\n",
       "      <th></th>\n",
       "      <th></th>\n",
       "      <th></th>\n",
       "    </tr>\n",
       "  </thead>\n",
       "  <tbody>\n",
       "    <tr>\n",
       "      <th>PRT</th>\n",
       "      <td>16796</td>\n",
       "      <td>22007</td>\n",
       "      <td>38803</td>\n",
       "      <td>0.567147</td>\n",
       "    </tr>\n",
       "    <tr>\n",
       "      <th>GBR</th>\n",
       "      <td>7724</td>\n",
       "      <td>1976</td>\n",
       "      <td>9700</td>\n",
       "      <td>0.203711</td>\n",
       "    </tr>\n",
       "    <tr>\n",
       "      <th>FRA</th>\n",
       "      <td>6777</td>\n",
       "      <td>1546</td>\n",
       "      <td>8323</td>\n",
       "      <td>0.185750</td>\n",
       "    </tr>\n",
       "    <tr>\n",
       "      <th>ESP</th>\n",
       "      <td>5110</td>\n",
       "      <td>1728</td>\n",
       "      <td>6838</td>\n",
       "      <td>0.252705</td>\n",
       "    </tr>\n",
       "    <tr>\n",
       "      <th>DEU</th>\n",
       "      <td>4873</td>\n",
       "      <td>973</td>\n",
       "      <td>5846</td>\n",
       "      <td>0.166439</td>\n",
       "    </tr>\n",
       "  </tbody>\n",
       "</table>\n",
       "</div>"
      ],
      "text/plain": [
       "is_canceled  not_canceled  is_canceled  total_bookings  cancel_rate\n",
       "country                                                            \n",
       "PRT                 16796        22007           38803     0.567147\n",
       "GBR                  7724         1976            9700     0.203711\n",
       "FRA                  6777         1546            8323     0.185750\n",
       "ESP                  5110         1728            6838     0.252705\n",
       "DEU                  4873          973            5846     0.166439"
      ]
     },
     "execution_count": 15,
     "metadata": {},
     "output_type": "execute_result"
    }
   ],
   "source": [
    "# count total bookings from each country, and their cancelation rate\n",
    "df_country = df_train.groupby(['is_canceled', 'country']).count()\n",
    "df_country = df_country.pivot_table(values='hotel', index='country', columns='is_canceled', fill_value=0)\n",
    "df_country = df_country.rename(columns={0: 'not_canceled', 1: 'is_canceled'})\n",
    "df_country['total_bookings'] = df_country['not_canceled'] + df_country['is_canceled']\n",
    "df_country['cancel_rate'] = df_country['is_canceled'] / df_country['total_bookings']\n",
    "df_country[df_country['cancel_rate'] < 1].sort_values(['total_bookings', 'cancel_rate'], ascending=False).head()"
   ]
  },
  {
   "cell_type": "markdown",
   "id": "163613d8",
   "metadata": {},
   "source": [
    "Based on the table above, we can see PRT has the highest number of bookings, but more than half of them is canceled."
   ]
  },
  {
   "cell_type": "markdown",
   "id": "cb2e97da",
   "metadata": {},
   "source": [
    "### Explore the room types feature"
   ]
  },
  {
   "cell_type": "markdown",
   "id": "a287eb8a",
   "metadata": {},
   "source": [
    "#### Check for available room type"
   ]
  },
  {
   "cell_type": "code",
   "execution_count": 16,
   "id": "40af28de",
   "metadata": {
    "scrolled": true
   },
   "outputs": [
    {
     "data": {
      "text/plain": [
       "array(['A', 'E', 'D', 'F', 'G', 'B', 'C', 'H', 'L'], dtype=object)"
      ]
     },
     "execution_count": 16,
     "metadata": {},
     "output_type": "execute_result"
    }
   ],
   "source": [
    "# room type reserved by guest\n",
    "df_train['reserved_room_type'].unique()"
   ]
  },
  {
   "cell_type": "code",
   "execution_count": 17,
   "id": "d0463227",
   "metadata": {},
   "outputs": [
    {
     "data": {
      "text/plain": [
       "array(['A', 'E', 'D', 'I', 'F', 'G', 'C', 'B', 'H', 'K', 'L'],\n",
       "      dtype=object)"
      ]
     },
     "execution_count": 17,
     "metadata": {},
     "output_type": "execute_result"
    }
   ],
   "source": [
    "# room type assigned by hotel\n",
    "df_train['assigned_room_type'].unique()"
   ]
  },
  {
   "cell_type": "markdown",
   "id": "d90aba29",
   "metadata": {},
   "source": [
    "There are 2 room types that are not available in reserved_room_type (type 'I' and 'K')."
   ]
  },
  {
   "cell_type": "markdown",
   "id": "c7271747",
   "metadata": {},
   "source": [
    "#### Check each room's price distribution"
   ]
  },
  {
   "cell_type": "code",
   "execution_count": 18,
   "id": "b48b0352",
   "metadata": {
    "scrolled": false
   },
   "outputs": [
    {
     "data": {
      "text/plain": [
       "<AxesSubplot:xlabel='reserved_room_type', ylabel='adr'>"
      ]
     },
     "execution_count": 18,
     "metadata": {},
     "output_type": "execute_result"
    },
    {
     "data": {
      "image/png": "[encoded data removed]",
      "text/plain": [
       "<Figure size 720x432 with 1 Axes>"
      ]
     },
     "metadata": {
      "needs_background": "light"
     },
     "output_type": "display_data"
    }
   ],
   "source": [
    "# plot the distribution of each room type ADR\n",
    "plt.figure(figsize=(10,6))\n",
    "sns.boxplot(x='reserved_room_type', y='adr', data=df_train)"
   ]
  },
  {
   "cell_type": "markdown",
   "id": "80be7eb2",
   "metadata": {},
   "source": [
    "Room type A has 1 extreme outlier. We will remove this data."
   ]
  },
  {
   "cell_type": "code",
   "execution_count": 19,
   "id": "b216056e",
   "metadata": {},
   "outputs": [
    {
     "data": {
      "text/plain": [
       "48515"
      ]
     },
     "execution_count": 19,
     "metadata": {},
     "output_type": "execute_result"
    }
   ],
   "source": [
    "df_train[df_train['adr'] > 5000].index[0]"
   ]
  },
  {
   "cell_type": "code",
   "execution_count": 20,
   "id": "bda7a25e",
   "metadata": {},
   "outputs": [],
   "source": [
    "df_train.drop(index=48515, inplace=True)"
   ]
  },
  {
   "cell_type": "code",
   "execution_count": 21,
   "id": "1a6aa1e4",
   "metadata": {
    "scrolled": false
   },
   "outputs": [
    {
     "data": {
      "text/plain": [
       "<AxesSubplot:xlabel='reserved_room_type', ylabel='adr'>"
      ]
     },
     "execution_count": 21,
     "metadata": {},
     "output_type": "execute_result"
    },
    {
     "data": {
      "image/png": "[encoded data removed]",
      "text/plain": [
       "<Figure size 720x432 with 1 Axes>"
      ]
     },
     "metadata": {
      "needs_background": "light"
     },
     "output_type": "display_data"
    }
   ],
   "source": [
    "# plot the distribution of each room type ADR after removing extreme outlier\n",
    "plt.figure(figsize=(10,6))\n",
    "sns.boxplot(x='reserved_room_type', y='adr', data=df_train)"
   ]
  },
  {
   "cell_type": "markdown",
   "id": "c989ac76",
   "metadata": {},
   "source": [
    "Each room type has different ADR distribution."
   ]
  },
  {
   "cell_type": "markdown",
   "id": "011276f1",
   "metadata": {},
   "source": [
    "#### Rank each reserved room type based on their average ADR"
   ]
  },
  {
   "cell_type": "markdown",
   "id": "15b1c4bc",
   "metadata": {},
   "source": [
    "Assumption: ADR is the price of reserved_room_type (the price at the time when guest booked the hotel), not the price of assigned_room_type (room assigned by the hotel).\n",
    "\n",
    "We will calculate the average price of each room type based on reserved_room_type to find out which room type is more expensive.\n",
    "\n",
    "Based of assumption above, we can't calculate the average price of room type 'I' and 'K' because there are no bookings with those reserved room type."
   ]
  },
  {
   "cell_type": "code",
   "execution_count": 22,
   "id": "65a238b4",
   "metadata": {
    "scrolled": true
   },
   "outputs": [
    {
     "data": {
      "text/html": [
       "<div>\n",
       "<style scoped>\n",
       "    .dataframe tbody tr th:only-of-type {\n",
       "        vertical-align: middle;\n",
       "    }\n",
       "\n",
       "    .dataframe tbody tr th {\n",
       "        vertical-align: top;\n",
       "    }\n",
       "\n",
       "    .dataframe thead th {\n",
       "        text-align: right;\n",
       "    }\n",
       "</style>\n",
       "<table border=\"1\" class=\"dataframe\">\n",
       "  <thead>\n",
       "    <tr style=\"text-align: right;\">\n",
       "      <th></th>\n",
       "      <th>room_type</th>\n",
       "      <th>adr</th>\n",
       "    </tr>\n",
       "  </thead>\n",
       "  <tbody>\n",
       "    <tr>\n",
       "      <th>0</th>\n",
       "      <td>L</td>\n",
       "      <td>75.333333</td>\n",
       "    </tr>\n",
       "    <tr>\n",
       "      <th>1</th>\n",
       "      <td>B</td>\n",
       "      <td>90.197643</td>\n",
       "    </tr>\n",
       "    <tr>\n",
       "      <th>2</th>\n",
       "      <td>A</td>\n",
       "      <td>90.854180</td>\n",
       "    </tr>\n",
       "    <tr>\n",
       "      <th>3</th>\n",
       "      <td>D</td>\n",
       "      <td>120.765036</td>\n",
       "    </tr>\n",
       "    <tr>\n",
       "      <th>4</th>\n",
       "      <td>E</td>\n",
       "      <td>124.267114</td>\n",
       "    </tr>\n",
       "    <tr>\n",
       "      <th>5</th>\n",
       "      <td>C</td>\n",
       "      <td>160.144179</td>\n",
       "    </tr>\n",
       "    <tr>\n",
       "      <th>6</th>\n",
       "      <td>F</td>\n",
       "      <td>167.812154</td>\n",
       "    </tr>\n",
       "    <tr>\n",
       "      <th>7</th>\n",
       "      <td>G</td>\n",
       "      <td>175.808208</td>\n",
       "    </tr>\n",
       "    <tr>\n",
       "      <th>8</th>\n",
       "      <td>H</td>\n",
       "      <td>187.078241</td>\n",
       "    </tr>\n",
       "  </tbody>\n",
       "</table>\n",
       "</div>"
      ],
      "text/plain": [
       "  room_type         adr\n",
       "0         L   75.333333\n",
       "1         B   90.197643\n",
       "2         A   90.854180\n",
       "3         D  120.765036\n",
       "4         E  124.267114\n",
       "5         C  160.144179\n",
       "6         F  167.812154\n",
       "7         G  175.808208\n",
       "8         H  187.078241"
      ]
     },
     "execution_count": 22,
     "metadata": {},
     "output_type": "execute_result"
    }
   ],
   "source": [
    "# calculate average ADR for each room type\n",
    "df_mean_adr = pd.DataFrame(df_train.groupby('reserved_room_type')['adr'].mean().sort_values()).reset_index().rename(columns={'reserved_room_type': 'room_type'})\n",
    "df_mean_adr"
   ]
  },
  {
   "cell_type": "markdown",
   "id": "ab276fa7",
   "metadata": {},
   "source": [
    "We create a dictionary of room types and ranks pair to rank every booked and assigned room types. "
   ]
  },
  {
   "cell_type": "code",
   "execution_count": 23,
   "id": "2a32a563",
   "metadata": {},
   "outputs": [
    {
     "data": {
      "text/plain": [
       "{'L': 0, 'B': 1, 'A': 2, 'D': 3, 'E': 4, 'C': 5, 'F': 6, 'G': 7, 'H': 8}"
      ]
     },
     "execution_count": 23,
     "metadata": {},
     "output_type": "execute_result"
    }
   ],
   "source": [
    "# create a room type ranking dictionary\n",
    "room_type_rank_dict = {}\n",
    "\n",
    "for room_type in df_mean_adr['room_type']:\n",
    "    ix = df_mean_adr[df_mean_adr['room_type'] == room_type].index\n",
    "    room_type_rank_dict[room_type] = ix[0]\n",
    "    \n",
    "room_type_rank_dict"
   ]
  },
  {
   "cell_type": "markdown",
   "id": "ab69cea1",
   "metadata": {},
   "source": [
    "We will give each booking's room a rank based on the dictionary"
   ]
  },
  {
   "cell_type": "code",
   "execution_count": 24,
   "id": "bbc7b65c",
   "metadata": {
    "scrolled": true
   },
   "outputs": [
    {
     "data": {
      "text/html": [
       "<div>\n",
       "<style scoped>\n",
       "    .dataframe tbody tr th:only-of-type {\n",
       "        vertical-align: middle;\n",
       "    }\n",
       "\n",
       "    .dataframe tbody tr th {\n",
       "        vertical-align: top;\n",
       "    }\n",
       "\n",
       "    .dataframe thead th {\n",
       "        text-align: right;\n",
       "    }\n",
       "</style>\n",
       "<table border=\"1\" class=\"dataframe\">\n",
       "  <thead>\n",
       "    <tr style=\"text-align: right;\">\n",
       "      <th></th>\n",
       "      <th>reserved_room_type</th>\n",
       "      <th>assigned_room_type</th>\n",
       "    </tr>\n",
       "  </thead>\n",
       "  <tbody>\n",
       "    <tr>\n",
       "      <th>101250</th>\n",
       "      <td>A</td>\n",
       "      <td>A</td>\n",
       "    </tr>\n",
       "    <tr>\n",
       "      <th>41642</th>\n",
       "      <td>A</td>\n",
       "      <td>A</td>\n",
       "    </tr>\n",
       "    <tr>\n",
       "      <th>89106</th>\n",
       "      <td>A</td>\n",
       "      <td>A</td>\n",
       "    </tr>\n",
       "    <tr>\n",
       "      <th>89379</th>\n",
       "      <td>E</td>\n",
       "      <td>E</td>\n",
       "    </tr>\n",
       "    <tr>\n",
       "      <th>108447</th>\n",
       "      <td>A</td>\n",
       "      <td>A</td>\n",
       "    </tr>\n",
       "    <tr>\n",
       "      <th>...</th>\n",
       "      <td>...</td>\n",
       "      <td>...</td>\n",
       "    </tr>\n",
       "    <tr>\n",
       "      <th>88641</th>\n",
       "      <td>A</td>\n",
       "      <td>A</td>\n",
       "    </tr>\n",
       "    <tr>\n",
       "      <th>24939</th>\n",
       "      <td>E</td>\n",
       "      <td>F</td>\n",
       "    </tr>\n",
       "    <tr>\n",
       "      <th>31687</th>\n",
       "      <td>D</td>\n",
       "      <td>D</td>\n",
       "    </tr>\n",
       "    <tr>\n",
       "      <th>95108</th>\n",
       "      <td>D</td>\n",
       "      <td>D</td>\n",
       "    </tr>\n",
       "    <tr>\n",
       "      <th>109588</th>\n",
       "      <td>A</td>\n",
       "      <td>A</td>\n",
       "    </tr>\n",
       "  </tbody>\n",
       "</table>\n",
       "<p>95367 rows × 2 columns</p>\n",
       "</div>"
      ],
      "text/plain": [
       "       reserved_room_type assigned_room_type\n",
       "101250                  A                  A\n",
       "41642                   A                  A\n",
       "89106                   A                  A\n",
       "89379                   E                  E\n",
       "108447                  A                  A\n",
       "...                   ...                ...\n",
       "88641                   A                  A\n",
       "24939                   E                  F\n",
       "31687                   D                  D\n",
       "95108                   D                  D\n",
       "109588                  A                  A\n",
       "\n",
       "[95367 rows x 2 columns]"
      ]
     },
     "execution_count": 24,
     "metadata": {},
     "output_type": "execute_result"
    }
   ],
   "source": [
    "# select only the reserved and assigned room type of each bookings\n",
    "df_reserved_assigned_room_pair = df_train[['reserved_room_type', 'assigned_room_type']]\n",
    "df_reserved_assigned_room_pair"
   ]
  },
  {
   "cell_type": "code",
   "execution_count": 25,
   "id": "268689fe",
   "metadata": {},
   "outputs": [],
   "source": [
    "# create a function to encode each room's rank based on room_type_rank_dict.\n",
    "# For room type 'I' and 'K', we will give them a different value.\n",
    "def room_type_ranker(room_type):\n",
    "    if (room_type in room_type_rank_dict):\n",
    "        return room_type_rank_dict[room_type]\n",
    "    else:\n",
    "        # for room type 'I' and 'K'\n",
    "        return len(room_type_rank_dict)"
   ]
  },
  {
   "cell_type": "code",
   "execution_count": 26,
   "id": "d9ef5a9e",
   "metadata": {
    "scrolled": true
   },
   "outputs": [
    {
     "name": "stderr",
     "output_type": "stream",
     "text": [
      "<ipython-input-26-ffc0d5147fef>:2: SettingWithCopyWarning: \n",
      "A value is trying to be set on a copy of a slice from a DataFrame.\n",
      "Try using .loc[row_indexer,col_indexer] = value instead\n",
      "\n",
      "See the caveats in the documentation: https://pandas.pydata.org/pandas-docs/stable/user_guide/indexing.html#returning-a-view-versus-a-copy\n",
      "  df_reserved_assigned_room_pair['reserved_room_type_rank'] = df_reserved_assigned_room_pair['reserved_room_type'].apply(room_type_ranker)\n",
      "<ipython-input-26-ffc0d5147fef>:3: SettingWithCopyWarning: \n",
      "A value is trying to be set on a copy of a slice from a DataFrame.\n",
      "Try using .loc[row_indexer,col_indexer] = value instead\n",
      "\n",
      "See the caveats in the documentation: https://pandas.pydata.org/pandas-docs/stable/user_guide/indexing.html#returning-a-view-versus-a-copy\n",
      "  df_reserved_assigned_room_pair['assigned_room_type_rank'] = df_reserved_assigned_room_pair['assigned_room_type'].apply(room_type_ranker)\n"
     ]
    },
    {
     "data": {
      "text/html": [
       "<div>\n",
       "<style scoped>\n",
       "    .dataframe tbody tr th:only-of-type {\n",
       "        vertical-align: middle;\n",
       "    }\n",
       "\n",
       "    .dataframe tbody tr th {\n",
       "        vertical-align: top;\n",
       "    }\n",
       "\n",
       "    .dataframe thead th {\n",
       "        text-align: right;\n",
       "    }\n",
       "</style>\n",
       "<table border=\"1\" class=\"dataframe\">\n",
       "  <thead>\n",
       "    <tr style=\"text-align: right;\">\n",
       "      <th></th>\n",
       "      <th>reserved_room_type</th>\n",
       "      <th>assigned_room_type</th>\n",
       "      <th>reserved_room_type_rank</th>\n",
       "      <th>assigned_room_type_rank</th>\n",
       "    </tr>\n",
       "  </thead>\n",
       "  <tbody>\n",
       "    <tr>\n",
       "      <th>101250</th>\n",
       "      <td>A</td>\n",
       "      <td>A</td>\n",
       "      <td>2</td>\n",
       "      <td>2</td>\n",
       "    </tr>\n",
       "    <tr>\n",
       "      <th>41642</th>\n",
       "      <td>A</td>\n",
       "      <td>A</td>\n",
       "      <td>2</td>\n",
       "      <td>2</td>\n",
       "    </tr>\n",
       "    <tr>\n",
       "      <th>89106</th>\n",
       "      <td>A</td>\n",
       "      <td>A</td>\n",
       "      <td>2</td>\n",
       "      <td>2</td>\n",
       "    </tr>\n",
       "    <tr>\n",
       "      <th>89379</th>\n",
       "      <td>E</td>\n",
       "      <td>E</td>\n",
       "      <td>4</td>\n",
       "      <td>4</td>\n",
       "    </tr>\n",
       "    <tr>\n",
       "      <th>108447</th>\n",
       "      <td>A</td>\n",
       "      <td>A</td>\n",
       "      <td>2</td>\n",
       "      <td>2</td>\n",
       "    </tr>\n",
       "    <tr>\n",
       "      <th>...</th>\n",
       "      <td>...</td>\n",
       "      <td>...</td>\n",
       "      <td>...</td>\n",
       "      <td>...</td>\n",
       "    </tr>\n",
       "    <tr>\n",
       "      <th>88641</th>\n",
       "      <td>A</td>\n",
       "      <td>A</td>\n",
       "      <td>2</td>\n",
       "      <td>2</td>\n",
       "    </tr>\n",
       "    <tr>\n",
       "      <th>24939</th>\n",
       "      <td>E</td>\n",
       "      <td>F</td>\n",
       "      <td>4</td>\n",
       "      <td>6</td>\n",
       "    </tr>\n",
       "    <tr>\n",
       "      <th>31687</th>\n",
       "      <td>D</td>\n",
       "      <td>D</td>\n",
       "      <td>3</td>\n",
       "      <td>3</td>\n",
       "    </tr>\n",
       "    <tr>\n",
       "      <th>95108</th>\n",
       "      <td>D</td>\n",
       "      <td>D</td>\n",
       "      <td>3</td>\n",
       "      <td>3</td>\n",
       "    </tr>\n",
       "    <tr>\n",
       "      <th>109588</th>\n",
       "      <td>A</td>\n",
       "      <td>A</td>\n",
       "      <td>2</td>\n",
       "      <td>2</td>\n",
       "    </tr>\n",
       "  </tbody>\n",
       "</table>\n",
       "<p>95367 rows × 4 columns</p>\n",
       "</div>"
      ],
      "text/plain": [
       "       reserved_room_type assigned_room_type  reserved_room_type_rank  \\\n",
       "101250                  A                  A                        2   \n",
       "41642                   A                  A                        2   \n",
       "89106                   A                  A                        2   \n",
       "89379                   E                  E                        4   \n",
       "108447                  A                  A                        2   \n",
       "...                   ...                ...                      ...   \n",
       "88641                   A                  A                        2   \n",
       "24939                   E                  F                        4   \n",
       "31687                   D                  D                        3   \n",
       "95108                   D                  D                        3   \n",
       "109588                  A                  A                        2   \n",
       "\n",
       "        assigned_room_type_rank  \n",
       "101250                        2  \n",
       "41642                         2  \n",
       "89106                         2  \n",
       "89379                         4  \n",
       "108447                        2  \n",
       "...                         ...  \n",
       "88641                         2  \n",
       "24939                         6  \n",
       "31687                         3  \n",
       "95108                         3  \n",
       "109588                        2  \n",
       "\n",
       "[95367 rows x 4 columns]"
      ]
     },
     "execution_count": 26,
     "metadata": {},
     "output_type": "execute_result"
    }
   ],
   "source": [
    "# applying the room_type_ranker function\n",
    "df_reserved_assigned_room_pair['reserved_room_type_rank'] = df_reserved_assigned_room_pair['reserved_room_type'].apply(room_type_ranker)\n",
    "df_reserved_assigned_room_pair['assigned_room_type_rank'] = df_reserved_assigned_room_pair['assigned_room_type'].apply(room_type_ranker)\n",
    "df_reserved_assigned_room_pair"
   ]
  },
  {
   "cell_type": "markdown",
   "id": "1e9b115c",
   "metadata": {},
   "source": [
    "We will calculate the financial loss suffered by the hotel if they assigned a guest to a higher ranked room."
   ]
  },
  {
   "cell_type": "code",
   "execution_count": 27,
   "id": "b820ed55",
   "metadata": {
    "scrolled": false
   },
   "outputs": [
    {
     "data": {
      "text/html": [
       "<div>\n",
       "<style scoped>\n",
       "    .dataframe tbody tr th:only-of-type {\n",
       "        vertical-align: middle;\n",
       "    }\n",
       "\n",
       "    .dataframe tbody tr th {\n",
       "        vertical-align: top;\n",
       "    }\n",
       "\n",
       "    .dataframe thead th {\n",
       "        text-align: right;\n",
       "    }\n",
       "</style>\n",
       "<table border=\"1\" class=\"dataframe\">\n",
       "  <thead>\n",
       "    <tr style=\"text-align: right;\">\n",
       "      <th></th>\n",
       "      <th>reserved_room_type</th>\n",
       "      <th>assigned_room_type</th>\n",
       "      <th>reserved_room_type_rank</th>\n",
       "      <th>assigned_room_type_rank</th>\n",
       "    </tr>\n",
       "  </thead>\n",
       "  <tbody>\n",
       "    <tr>\n",
       "      <th>2479</th>\n",
       "      <td>A</td>\n",
       "      <td>D</td>\n",
       "      <td>2</td>\n",
       "      <td>3</td>\n",
       "    </tr>\n",
       "    <tr>\n",
       "      <th>44049</th>\n",
       "      <td>A</td>\n",
       "      <td>D</td>\n",
       "      <td>2</td>\n",
       "      <td>3</td>\n",
       "    </tr>\n",
       "    <tr>\n",
       "      <th>82611</th>\n",
       "      <td>A</td>\n",
       "      <td>D</td>\n",
       "      <td>2</td>\n",
       "      <td>3</td>\n",
       "    </tr>\n",
       "    <tr>\n",
       "      <th>21701</th>\n",
       "      <td>A</td>\n",
       "      <td>D</td>\n",
       "      <td>2</td>\n",
       "      <td>3</td>\n",
       "    </tr>\n",
       "    <tr>\n",
       "      <th>18480</th>\n",
       "      <td>A</td>\n",
       "      <td>D</td>\n",
       "      <td>2</td>\n",
       "      <td>3</td>\n",
       "    </tr>\n",
       "    <tr>\n",
       "      <th>...</th>\n",
       "      <td>...</td>\n",
       "      <td>...</td>\n",
       "      <td>...</td>\n",
       "      <td>...</td>\n",
       "    </tr>\n",
       "    <tr>\n",
       "      <th>29941</th>\n",
       "      <td>A</td>\n",
       "      <td>D</td>\n",
       "      <td>2</td>\n",
       "      <td>3</td>\n",
       "    </tr>\n",
       "    <tr>\n",
       "      <th>43751</th>\n",
       "      <td>A</td>\n",
       "      <td>D</td>\n",
       "      <td>2</td>\n",
       "      <td>3</td>\n",
       "    </tr>\n",
       "    <tr>\n",
       "      <th>105120</th>\n",
       "      <td>A</td>\n",
       "      <td>D</td>\n",
       "      <td>2</td>\n",
       "      <td>3</td>\n",
       "    </tr>\n",
       "    <tr>\n",
       "      <th>20978</th>\n",
       "      <td>A</td>\n",
       "      <td>E</td>\n",
       "      <td>2</td>\n",
       "      <td>4</td>\n",
       "    </tr>\n",
       "    <tr>\n",
       "      <th>24939</th>\n",
       "      <td>E</td>\n",
       "      <td>F</td>\n",
       "      <td>4</td>\n",
       "      <td>6</td>\n",
       "    </tr>\n",
       "  </tbody>\n",
       "</table>\n",
       "<p>11475 rows × 4 columns</p>\n",
       "</div>"
      ],
      "text/plain": [
       "       reserved_room_type assigned_room_type  reserved_room_type_rank  \\\n",
       "2479                    A                  D                        2   \n",
       "44049                   A                  D                        2   \n",
       "82611                   A                  D                        2   \n",
       "21701                   A                  D                        2   \n",
       "18480                   A                  D                        2   \n",
       "...                   ...                ...                      ...   \n",
       "29941                   A                  D                        2   \n",
       "43751                   A                  D                        2   \n",
       "105120                  A                  D                        2   \n",
       "20978                   A                  E                        2   \n",
       "24939                   E                  F                        4   \n",
       "\n",
       "        assigned_room_type_rank  \n",
       "2479                          3  \n",
       "44049                         3  \n",
       "82611                         3  \n",
       "21701                         3  \n",
       "18480                         3  \n",
       "...                         ...  \n",
       "29941                         3  \n",
       "43751                         3  \n",
       "105120                        3  \n",
       "20978                         4  \n",
       "24939                         6  \n",
       "\n",
       "[11475 rows x 4 columns]"
      ]
     },
     "execution_count": 27,
     "metadata": {},
     "output_type": "execute_result"
    }
   ],
   "source": [
    "# select only bookings with different reserved and assigned room, and exclude room type 'I' and 'K'.\n",
    "df_different_room_type = df_reserved_assigned_room_pair[\n",
    "    (df_reserved_assigned_room_pair['reserved_room_type'] != df_reserved_assigned_room_pair['assigned_room_type']) &\n",
    "    (df_reserved_assigned_room_pair['assigned_room_type_rank'] != 9)]\n",
    "df_different_room_type"
   ]
  },
  {
   "cell_type": "code",
   "execution_count": 28,
   "id": "cdc31a79",
   "metadata": {
    "scrolled": true
   },
   "outputs": [
    {
     "data": {
      "text/html": [
       "<div>\n",
       "<style scoped>\n",
       "    .dataframe tbody tr th:only-of-type {\n",
       "        vertical-align: middle;\n",
       "    }\n",
       "\n",
       "    .dataframe tbody tr th {\n",
       "        vertical-align: top;\n",
       "    }\n",
       "\n",
       "    .dataframe thead th {\n",
       "        text-align: right;\n",
       "    }\n",
       "</style>\n",
       "<table border=\"1\" class=\"dataframe\">\n",
       "  <thead>\n",
       "    <tr style=\"text-align: right;\">\n",
       "      <th></th>\n",
       "      <th>reserved_room_type</th>\n",
       "      <th>assigned_room_type</th>\n",
       "      <th>count</th>\n",
       "      <th>reserved_room_price</th>\n",
       "      <th>assigned_room_price</th>\n",
       "      <th>price_diff</th>\n",
       "      <th>total_price_diff</th>\n",
       "    </tr>\n",
       "  </thead>\n",
       "  <tbody>\n",
       "    <tr>\n",
       "      <th>0</th>\n",
       "      <td>A</td>\n",
       "      <td>C</td>\n",
       "      <td>1162</td>\n",
       "      <td>90.854180</td>\n",
       "      <td>160.144179</td>\n",
       "      <td>69.289999</td>\n",
       "      <td>80514.978696</td>\n",
       "    </tr>\n",
       "    <tr>\n",
       "      <th>4</th>\n",
       "      <td>A</td>\n",
       "      <td>D</td>\n",
       "      <td>6069</td>\n",
       "      <td>90.854180</td>\n",
       "      <td>120.765036</td>\n",
       "      <td>29.910856</td>\n",
       "      <td>181528.986694</td>\n",
       "    </tr>\n",
       "    <tr>\n",
       "      <th>6</th>\n",
       "      <td>A</td>\n",
       "      <td>E</td>\n",
       "      <td>932</td>\n",
       "      <td>90.854180</td>\n",
       "      <td>124.267114</td>\n",
       "      <td>33.412934</td>\n",
       "      <td>31140.854888</td>\n",
       "    </tr>\n",
       "    <tr>\n",
       "      <th>9</th>\n",
       "      <td>A</td>\n",
       "      <td>F</td>\n",
       "      <td>339</td>\n",
       "      <td>90.854180</td>\n",
       "      <td>167.812154</td>\n",
       "      <td>76.957974</td>\n",
       "      <td>26088.753057</td>\n",
       "    </tr>\n",
       "    <tr>\n",
       "      <th>14</th>\n",
       "      <td>A</td>\n",
       "      <td>G</td>\n",
       "      <td>156</td>\n",
       "      <td>90.854180</td>\n",
       "      <td>175.808208</td>\n",
       "      <td>84.954028</td>\n",
       "      <td>13252.828389</td>\n",
       "    </tr>\n",
       "    <tr>\n",
       "      <th>20</th>\n",
       "      <td>A</td>\n",
       "      <td>H</td>\n",
       "      <td>78</td>\n",
       "      <td>90.854180</td>\n",
       "      <td>187.078241</td>\n",
       "      <td>96.224061</td>\n",
       "      <td>7505.476780</td>\n",
       "    </tr>\n",
       "    <tr>\n",
       "      <th>26</th>\n",
       "      <td>B</td>\n",
       "      <td>A</td>\n",
       "      <td>99</td>\n",
       "      <td>90.197643</td>\n",
       "      <td>90.854180</td>\n",
       "      <td>0.656537</td>\n",
       "      <td>64.997211</td>\n",
       "    </tr>\n",
       "    <tr>\n",
       "      <th>5</th>\n",
       "      <td>B</td>\n",
       "      <td>D</td>\n",
       "      <td>4</td>\n",
       "      <td>90.197643</td>\n",
       "      <td>120.765036</td>\n",
       "      <td>30.567394</td>\n",
       "      <td>122.269575</td>\n",
       "    </tr>\n",
       "    <tr>\n",
       "      <th>7</th>\n",
       "      <td>B</td>\n",
       "      <td>E</td>\n",
       "      <td>1</td>\n",
       "      <td>90.197643</td>\n",
       "      <td>124.267114</td>\n",
       "      <td>34.069472</td>\n",
       "      <td>34.069472</td>\n",
       "    </tr>\n",
       "    <tr>\n",
       "      <th>10</th>\n",
       "      <td>B</td>\n",
       "      <td>F</td>\n",
       "      <td>1</td>\n",
       "      <td>90.197643</td>\n",
       "      <td>167.812154</td>\n",
       "      <td>77.614511</td>\n",
       "      <td>77.614511</td>\n",
       "    </tr>\n",
       "    <tr>\n",
       "      <th>15</th>\n",
       "      <td>B</td>\n",
       "      <td>G</td>\n",
       "      <td>5</td>\n",
       "      <td>90.197643</td>\n",
       "      <td>175.808208</td>\n",
       "      <td>85.610566</td>\n",
       "      <td>428.052828</td>\n",
       "    </tr>\n",
       "    <tr>\n",
       "      <th>11</th>\n",
       "      <td>C</td>\n",
       "      <td>F</td>\n",
       "      <td>1</td>\n",
       "      <td>160.144179</td>\n",
       "      <td>167.812154</td>\n",
       "      <td>7.667975</td>\n",
       "      <td>7.667975</td>\n",
       "    </tr>\n",
       "    <tr>\n",
       "      <th>16</th>\n",
       "      <td>C</td>\n",
       "      <td>G</td>\n",
       "      <td>7</td>\n",
       "      <td>160.144179</td>\n",
       "      <td>175.808208</td>\n",
       "      <td>15.664029</td>\n",
       "      <td>109.648205</td>\n",
       "    </tr>\n",
       "    <tr>\n",
       "      <th>21</th>\n",
       "      <td>C</td>\n",
       "      <td>H</td>\n",
       "      <td>10</td>\n",
       "      <td>160.144179</td>\n",
       "      <td>187.078241</td>\n",
       "      <td>26.934062</td>\n",
       "      <td>269.340624</td>\n",
       "    </tr>\n",
       "    <tr>\n",
       "      <th>1</th>\n",
       "      <td>D</td>\n",
       "      <td>C</td>\n",
       "      <td>25</td>\n",
       "      <td>120.765036</td>\n",
       "      <td>160.144179</td>\n",
       "      <td>39.379143</td>\n",
       "      <td>984.478565</td>\n",
       "    </tr>\n",
       "    <tr>\n",
       "      <th>8</th>\n",
       "      <td>D</td>\n",
       "      <td>E</td>\n",
       "      <td>539</td>\n",
       "      <td>120.765036</td>\n",
       "      <td>124.267114</td>\n",
       "      <td>3.502078</td>\n",
       "      <td>1887.620129</td>\n",
       "    </tr>\n",
       "    <tr>\n",
       "      <th>12</th>\n",
       "      <td>D</td>\n",
       "      <td>F</td>\n",
       "      <td>164</td>\n",
       "      <td>120.765036</td>\n",
       "      <td>167.812154</td>\n",
       "      <td>47.047117</td>\n",
       "      <td>7715.727246</td>\n",
       "    </tr>\n",
       "    <tr>\n",
       "      <th>17</th>\n",
       "      <td>D</td>\n",
       "      <td>G</td>\n",
       "      <td>68</td>\n",
       "      <td>120.765036</td>\n",
       "      <td>175.808208</td>\n",
       "      <td>55.043172</td>\n",
       "      <td>3742.935687</td>\n",
       "    </tr>\n",
       "    <tr>\n",
       "      <th>22</th>\n",
       "      <td>D</td>\n",
       "      <td>H</td>\n",
       "      <td>5</td>\n",
       "      <td>120.765036</td>\n",
       "      <td>187.078241</td>\n",
       "      <td>66.313205</td>\n",
       "      <td>331.566025</td>\n",
       "    </tr>\n",
       "    <tr>\n",
       "      <th>2</th>\n",
       "      <td>E</td>\n",
       "      <td>C</td>\n",
       "      <td>5</td>\n",
       "      <td>124.267114</td>\n",
       "      <td>160.144179</td>\n",
       "      <td>35.877064</td>\n",
       "      <td>179.385322</td>\n",
       "    </tr>\n",
       "    <tr>\n",
       "      <th>13</th>\n",
       "      <td>E</td>\n",
       "      <td>F</td>\n",
       "      <td>331</td>\n",
       "      <td>124.267114</td>\n",
       "      <td>167.812154</td>\n",
       "      <td>43.545039</td>\n",
       "      <td>14413.407972</td>\n",
       "    </tr>\n",
       "    <tr>\n",
       "      <th>18</th>\n",
       "      <td>E</td>\n",
       "      <td>G</td>\n",
       "      <td>86</td>\n",
       "      <td>124.267114</td>\n",
       "      <td>175.808208</td>\n",
       "      <td>51.541094</td>\n",
       "      <td>4432.534059</td>\n",
       "    </tr>\n",
       "    <tr>\n",
       "      <th>23</th>\n",
       "      <td>E</td>\n",
       "      <td>H</td>\n",
       "      <td>3</td>\n",
       "      <td>124.267114</td>\n",
       "      <td>187.078241</td>\n",
       "      <td>62.811127</td>\n",
       "      <td>188.433381</td>\n",
       "    </tr>\n",
       "    <tr>\n",
       "      <th>19</th>\n",
       "      <td>F</td>\n",
       "      <td>G</td>\n",
       "      <td>93</td>\n",
       "      <td>167.812154</td>\n",
       "      <td>175.808208</td>\n",
       "      <td>7.996055</td>\n",
       "      <td>743.633070</td>\n",
       "    </tr>\n",
       "    <tr>\n",
       "      <th>24</th>\n",
       "      <td>F</td>\n",
       "      <td>H</td>\n",
       "      <td>3</td>\n",
       "      <td>167.812154</td>\n",
       "      <td>187.078241</td>\n",
       "      <td>19.266088</td>\n",
       "      <td>57.798263</td>\n",
       "    </tr>\n",
       "    <tr>\n",
       "      <th>25</th>\n",
       "      <td>G</td>\n",
       "      <td>H</td>\n",
       "      <td>5</td>\n",
       "      <td>175.808208</td>\n",
       "      <td>187.078241</td>\n",
       "      <td>11.270033</td>\n",
       "      <td>56.350166</td>\n",
       "    </tr>\n",
       "    <tr>\n",
       "      <th>27</th>\n",
       "      <td>L</td>\n",
       "      <td>A</td>\n",
       "      <td>1</td>\n",
       "      <td>75.333333</td>\n",
       "      <td>90.854180</td>\n",
       "      <td>15.520847</td>\n",
       "      <td>15.520847</td>\n",
       "    </tr>\n",
       "    <tr>\n",
       "      <th>3</th>\n",
       "      <td>L</td>\n",
       "      <td>C</td>\n",
       "      <td>1</td>\n",
       "      <td>75.333333</td>\n",
       "      <td>160.144179</td>\n",
       "      <td>84.810846</td>\n",
       "      <td>84.810846</td>\n",
       "    </tr>\n",
       "  </tbody>\n",
       "</table>\n",
       "</div>"
      ],
      "text/plain": [
       "   reserved_room_type assigned_room_type  count  reserved_room_price  \\\n",
       "0                   A                  C   1162            90.854180   \n",
       "4                   A                  D   6069            90.854180   \n",
       "6                   A                  E    932            90.854180   \n",
       "9                   A                  F    339            90.854180   \n",
       "14                  A                  G    156            90.854180   \n",
       "20                  A                  H     78            90.854180   \n",
       "26                  B                  A     99            90.197643   \n",
       "5                   B                  D      4            90.197643   \n",
       "7                   B                  E      1            90.197643   \n",
       "10                  B                  F      1            90.197643   \n",
       "15                  B                  G      5            90.197643   \n",
       "11                  C                  F      1           160.144179   \n",
       "16                  C                  G      7           160.144179   \n",
       "21                  C                  H     10           160.144179   \n",
       "1                   D                  C     25           120.765036   \n",
       "8                   D                  E    539           120.765036   \n",
       "12                  D                  F    164           120.765036   \n",
       "17                  D                  G     68           120.765036   \n",
       "22                  D                  H      5           120.765036   \n",
       "2                   E                  C      5           124.267114   \n",
       "13                  E                  F    331           124.267114   \n",
       "18                  E                  G     86           124.267114   \n",
       "23                  E                  H      3           124.267114   \n",
       "19                  F                  G     93           167.812154   \n",
       "24                  F                  H      3           167.812154   \n",
       "25                  G                  H      5           175.808208   \n",
       "27                  L                  A      1            75.333333   \n",
       "3                   L                  C      1            75.333333   \n",
       "\n",
       "    assigned_room_price  price_diff  total_price_diff  \n",
       "0            160.144179   69.289999      80514.978696  \n",
       "4            120.765036   29.910856     181528.986694  \n",
       "6            124.267114   33.412934      31140.854888  \n",
       "9            167.812154   76.957974      26088.753057  \n",
       "14           175.808208   84.954028      13252.828389  \n",
       "20           187.078241   96.224061       7505.476780  \n",
       "26            90.854180    0.656537         64.997211  \n",
       "5            120.765036   30.567394        122.269575  \n",
       "7            124.267114   34.069472         34.069472  \n",
       "10           167.812154   77.614511         77.614511  \n",
       "15           175.808208   85.610566        428.052828  \n",
       "11           167.812154    7.667975          7.667975  \n",
       "16           175.808208   15.664029        109.648205  \n",
       "21           187.078241   26.934062        269.340624  \n",
       "1            160.144179   39.379143        984.478565  \n",
       "8            124.267114    3.502078       1887.620129  \n",
       "12           167.812154   47.047117       7715.727246  \n",
       "17           175.808208   55.043172       3742.935687  \n",
       "22           187.078241   66.313205        331.566025  \n",
       "2            160.144179   35.877064        179.385322  \n",
       "13           167.812154   43.545039      14413.407972  \n",
       "18           175.808208   51.541094       4432.534059  \n",
       "23           187.078241   62.811127        188.433381  \n",
       "19           175.808208    7.996055        743.633070  \n",
       "24           187.078241   19.266088         57.798263  \n",
       "25           187.078241   11.270033         56.350166  \n",
       "27            90.854180   15.520847         15.520847  \n",
       "3            160.144179   84.810846         84.810846  "
      ]
     },
     "execution_count": 28,
     "metadata": {},
     "output_type": "execute_result"
    }
   ],
   "source": [
    "# select bookings with higher assigned room's rank than reserved room's rank\n",
    "df_higher_room_assigned = pd.DataFrame(df_different_room_type[df_different_room_type['assigned_room_type_rank'] > df_different_room_type['reserved_room_type_rank']].groupby(['reserved_room_type', 'assigned_room_type']).count()['reserved_room_type_rank'].reset_index().rename(columns={'reserved_room_type_rank': 'count'}))\n",
    "\n",
    "# insert price for each reserved and assigned room type\n",
    "df_higher_room_assigned = df_higher_room_assigned.merge(right=df_mean_adr, how='inner', left_on='reserved_room_type', right_on='room_type')\n",
    "df_higher_room_assigned = df_higher_room_assigned.merge(right=df_mean_adr, how='inner', left_on='assigned_room_type', right_on='room_type')\n",
    "df_higher_room_assigned.drop(columns=['room_type_x', 'room_type_y'], inplace=True)\n",
    "df_higher_room_assigned.rename(columns={'adr_x': 'reserved_room_price', 'adr_y': 'assigned_room_price'}, inplace=True)\n",
    "\n",
    "# calculate loss from assigning higher room type to a booking with cheaper reserved room\n",
    "df_higher_room_assigned['price_diff'] = df_higher_room_assigned['assigned_room_price'] - df_higher_room_assigned['reserved_room_price']\n",
    "df_higher_room_assigned['total_price_diff'] = df_higher_room_assigned['price_diff'] * df_higher_room_assigned['count']\n",
    "df_higher_room_assigned.sort_values(by=['reserved_room_type', 'assigned_room_type'])"
   ]
  },
  {
   "cell_type": "code",
   "execution_count": 29,
   "id": "1f590177",
   "metadata": {},
   "outputs": [
    {
     "name": "stdout",
     "output_type": "stream",
     "text": [
      "Financial loss from assigning higher room type than reserved room type\n",
      "Total loss: EUR 375,980\n",
      "Average loss per room: EUR 37\n"
     ]
    }
   ],
   "source": [
    "# calculate overall loss and average loss per booking\n",
    "total_loss = round(df_higher_room_assigned['total_price_diff'].sum())\n",
    "avg_loss = round(df_higher_room_assigned['total_price_diff'].sum()/df_higher_room_assigned['count'].sum())\n",
    "\n",
    "print('Financial loss from assigning higher room type than reserved room type')\n",
    "print('Total loss: EUR {:,}'.format(total_loss))\n",
    "print('Average loss per room: EUR {:,}'.format(avg_loss))"
   ]
  },
  {
   "cell_type": "code",
   "execution_count": 30,
   "id": "07f4a51e",
   "metadata": {},
   "outputs": [
    {
     "data": {
      "text/plain": [
       "deposit_type\n",
       "No Deposit    23764\n",
       "Non Refund    11526\n",
       "Refundable       29\n",
       "Name: hotel, dtype: int64"
      ]
     },
     "execution_count": 30,
     "metadata": {},
     "output_type": "execute_result"
    }
   ],
   "source": [
    "df_train[df_train['is_canceled'] == 1].groupby('deposit_type').count()['hotel']"
   ]
  },
  {
   "cell_type": "markdown",
   "id": "78713407",
   "metadata": {},
   "source": [
    "#### Check for correlation coefficient from each numerical features to the target is_canceled"
   ]
  },
  {
   "cell_type": "code",
   "execution_count": 31,
   "id": "a5732f65",
   "metadata": {
    "scrolled": false
   },
   "outputs": [
    {
     "data": {
      "text/plain": [
       "is_canceled                    1.000000\n",
       "lead_time                      0.290579\n",
       "total_of_special_requests      0.234161\n",
       "required_car_parking_spaces    0.195163\n",
       "booking_changes                0.146888\n",
       "previous_cancellations         0.110142\n",
       "Name: is_canceled, dtype: float64"
      ]
     },
     "execution_count": 31,
     "metadata": {},
     "output_type": "execute_result"
    }
   ],
   "source": [
    "corr_coef = df_train.corr()\n",
    "abs(corr_coef['is_canceled']).sort_values(ascending=False).head(6)"
   ]
  },
  {
   "cell_type": "markdown",
   "id": "ecfc841a",
   "metadata": {},
   "source": [
    "From the heatmap above, 5 features with strongest correlation coefficient toward is_canceled are:\n",
    "- lead_time\n",
    "- total_of_special_requests\n",
    "- required_car_parking_spaces\n",
    "- booking_changes\n",
    "- previous_cancellation"
   ]
  },
  {
   "cell_type": "markdown",
   "id": "1827a28b",
   "metadata": {},
   "source": [
    "### Features to be Used\n",
    "Based on the analysis above, here are the features that will be used to train the machine learning model:\n",
    "- lead_time\n",
    "- arrival_date_week_number\n",
    "- previous_cancellation\n",
    "- booking_changes\n",
    "- required_car_parking_spaces\n",
    "- total_of_special_requests\n",
    "- hotel\n",
    "- meal\n",
    "- country\n",
    "- market_segment\n",
    "- distribution_channel\n",
    "- reserved_room_type\n",
    "- deposit_type\n",
    "- customer_type\n",
    "- is_repeated_guest"
   ]
  },
  {
   "cell_type": "markdown",
   "id": "a90628e7",
   "metadata": {},
   "source": [
    "### To-dos:\n",
    "\n",
    "- divide meal into BB and Other\n",
    "- divide country into PRT and Other\n",
    "- divide market_segment into Online TA, Direct, Offline TA/TO, Groups, Corporate, and Other\n",
    "- divide distribution_channel into TA/TO, Direct, Corporate, and Other\n",
    "- divide reserved_room_type into A, D, E and Other\n",
    "- resampling to balance classes"
   ]
  },
  {
   "cell_type": "markdown",
   "id": "fad2563c",
   "metadata": {},
   "source": [
    "# Data Preprocessing"
   ]
  },
  {
   "cell_type": "markdown",
   "id": "eaf19d90",
   "metadata": {},
   "source": [
    "#### Define some functions to encode data"
   ]
  },
  {
   "cell_type": "code",
   "execution_count": 32,
   "id": "1814916b",
   "metadata": {},
   "outputs": [],
   "source": [
    "def meal_encoder(meal):\n",
    "    if (meal != 'BB'):\n",
    "        meal = 'Other'\n",
    "    return meal\n",
    "\n",
    "def country_encoder(country):\n",
    "    if (country != 'PRT'):\n",
    "        country = 'Other'\n",
    "    return country\n",
    "\n",
    "def market_segment_encoder(market_segment):\n",
    "    if (market_segment == 'Complementary')  or (market_segment == 'Aviation') or (market_segment == 'Undefined'):\n",
    "        market_segment = 'Other'\n",
    "    return market_segment\n",
    "\n",
    "def distribution_channel_encoder(distribution_channel):\n",
    "    if (distribution_channel == 'GDS') or (distribution_channel == 'Undefined'):\n",
    "        distribution_channel = 'Other'\n",
    "    return distribution_channel\n",
    "\n",
    "def reserved_room_encoder(reserved_room_type):\n",
    "    if (reserved_room_type != 'A') and (reserved_room_type != 'D') and (reserved_room_type != 'E'):\n",
    "        reserved_room_type = 'Other'\n",
    "    return reserved_room_type"
   ]
  },
  {
   "cell_type": "code",
   "execution_count": 33,
   "id": "5ab5338f",
   "metadata": {},
   "outputs": [],
   "source": [
    "df_train['meal_encoded'] = df_train['meal'].apply(meal_encoder)\n",
    "df_test['meal_encoded'] = df_test['meal'].apply(meal_encoder)\n",
    "\n",
    "df_train['country_encoded'] = df_train['country'].apply(country_encoder)\n",
    "df_test['country_encoded'] = df_test['country'].apply(country_encoder)\n",
    "\n",
    "df_train['market_segment_encoded'] = df_train['market_segment'].apply(market_segment_encoder)\n",
    "df_test['market_segment_encoded'] = df_test['market_segment'].apply(market_segment_encoder)\n",
    "\n",
    "df_train['distribution_channel_encoded'] = df_train['distribution_channel'].apply(distribution_channel_encoder)\n",
    "df_test['distribution_channel_encoded'] = df_test['distribution_channel'].apply(distribution_channel_encoder)\n",
    "\n",
    "df_train['reserved_room_type_encoded'] = df_train['reserved_room_type'].apply(reserved_room_encoder)\n",
    "df_test['reserved_room_type_encoded'] = df_test['reserved_room_type'].apply(reserved_room_encoder)"
   ]
  },
  {
   "cell_type": "code",
   "execution_count": 34,
   "id": "4edc29cc",
   "metadata": {
    "scrolled": true
   },
   "outputs": [],
   "source": [
    "# define columns to be used\n",
    "used_num_cols = ['lead_time', 'arrival_date_week_number', 'previous_cancellations', 'booking_changes', 'required_car_parking_spaces', 'total_of_special_requests']\n",
    "used_ctg_cols_encoded = ['hotel', 'meal_encoded', 'country_encoded', 'market_segment_encoded', 'distribution_channel_encoded', 'reserved_room_type_encoded', 'deposit_type', 'customer_type', 'is_repeated_guest']"
   ]
  },
  {
   "cell_type": "code",
   "execution_count": 35,
   "id": "9fa8bd00",
   "metadata": {},
   "outputs": [],
   "source": [
    "# define OneHotEncoder to encode categorical columns\n",
    "onehot_encoder = OneHotEncoder()\n",
    "# define empty FunctionTransformer for numerical columns\n",
    "do_nothing = FunctionTransformer()\n",
    "# combine OneHotEncoder and FunctionTransformer in ColumnTransformer to be used in pipeline\n",
    "col_transformer = ColumnTransformer([\n",
    "    ('encoder', onehot_encoder, used_ctg_cols_encoded),\n",
    "    ('do_nothing', do_nothing, used_num_cols)\n",
    "])"
   ]
  },
  {
   "cell_type": "code",
   "execution_count": 36,
   "id": "e9eab7d4",
   "metadata": {},
   "outputs": [],
   "source": [
    "# define feature and target dataset\n",
    "X_train = df_train[used_num_cols + used_ctg_cols_encoded]\n",
    "X_test = df_test[used_num_cols + used_ctg_cols_encoded]\n",
    "y_train = df_train['is_canceled']\n",
    "y_test = df_test['is_canceled']"
   ]
  },
  {
   "cell_type": "code",
   "execution_count": 37,
   "id": "c5d243c3",
   "metadata": {},
   "outputs": [],
   "source": [
    "# resampling to balance class with SMOTENC\n",
    "smotenc = SMOTENC(random_state=22, categorical_features=range(6,15))\n",
    "X_train_smotenc, y_train_smotenc = smotenc.fit_resample(X_train, y_train)"
   ]
  },
  {
   "cell_type": "markdown",
   "id": "ab275efe",
   "metadata": {},
   "source": [
    "# Model Training"
   ]
  },
  {
   "cell_type": "markdown",
   "id": "3dcbe61d",
   "metadata": {},
   "source": [
    "#### Create a function to run model fitting and calculate model performances."
   ]
  },
  {
   "cell_type": "code",
   "execution_count": 38,
   "id": "08756340",
   "metadata": {},
   "outputs": [],
   "source": [
    "# define a dataframe to store model's performance\n",
    "df_model_score = pd.DataFrame(columns=['Model', 'Accuracy', 'Precision', 'Recall', 'F1', 'AUC'])"
   ]
  },
  {
   "cell_type": "code",
   "execution_count": 39,
   "id": "5f893058",
   "metadata": {},
   "outputs": [],
   "source": [
    "def model_eval(estimator, estimator_name, train_feature, train_target, test_feature, test_target):\n",
    "    # create empty list to store metrics, this will be used to compare the performance of each model\n",
    "    metric_val = []\n",
    "    \n",
    "    # append model's name to metric_val\n",
    "    metric_val.append(estimator_name)\n",
    "    \n",
    "    # fit train set to model\n",
    "    estimator.fit(train_feature, train_target)\n",
    "    \n",
    "    # define metrics to be used for calculating cross validation score\n",
    "    metrics = ['accuracy', 'precision', 'recall', 'f1']\n",
    "    \n",
    "    # calculate metrics with cross validation\n",
    "    for metric in metrics:\n",
    "        val = cross_val_score(estimator, train_feature, train_target, scoring=metric, cv=5).mean()\n",
    "        # append cross validation score to metric_val\n",
    "        metric_val.append(val)\n",
    "    \n",
    "    # predict test set\n",
    "    y_pred = estimator.predict(test_feature)\n",
    "\n",
    "    # calculate accuracy, confision matrix, and classification report\n",
    "    acc = accuracy_score(test_target, y_pred)\n",
    "    conf = confusion_matrix(test_target, y_pred)\n",
    "    clf_report = classification_report(test_target, y_pred)\n",
    "    \n",
    "    print(f\"Accuracy Score : {acc}\")\n",
    "    print(f\"Confusion Matrix : \\n{conf}\")\n",
    "    print(f\"Classification Report : \\n{clf_report}\")\n",
    "    \n",
    "    # predict probability of test set for ROC-AUC\n",
    "    y_pred_proba = estimator.predict_proba(test_feature)[::,1]\n",
    "    \n",
    "    # calculate FPR and TPR for ROC\n",
    "    fpr, tpr, _ = roc_curve(test_target,  y_pred_proba)\n",
    "    # calculate AUC\n",
    "    auc = roc_auc_score(test_target, y_pred_proba)\n",
    "    \n",
    "    #create ROC curve\n",
    "    plt.title('ROC AUC')\n",
    "    plt.plot(fpr,tpr,label=\"AUC=\"+str(auc))\n",
    "    plt.ylabel('True Positive Rate')\n",
    "    plt.xlabel('False Positive Rate')\n",
    "    plt.legend(loc=4)\n",
    "    plt.show()\n",
    "    \n",
    "    # append AUC score\n",
    "    metric_val.append(auc)\n",
    "    \n",
    "    # append cross validation score to df_model_score\n",
    "    df_len = len(df_model_score)\n",
    "    df_model_score.loc[df_len] = metric_val"
   ]
  },
  {
   "cell_type": "markdown",
   "id": "3804a517",
   "metadata": {},
   "source": [
    "## Base Model"
   ]
  },
  {
   "cell_type": "markdown",
   "id": "e2b61385",
   "metadata": {},
   "source": [
    "#### Logistic Regression"
   ]
  },
  {
   "cell_type": "code",
   "execution_count": 40,
   "id": "f8331259",
   "metadata": {
    "scrolled": false
   },
   "outputs": [
    {
     "name": "stdout",
     "output_type": "stream",
     "text": [
      "Accuracy Score : 0.7956127841624024\n",
      "Confusion Matrix : \n",
      "[[12293  2670]\n",
      " [ 2203  6676]]\n",
      "Classification Report : \n",
      "              precision    recall  f1-score   support\n",
      "\n",
      "           0       0.85      0.82      0.83     14963\n",
      "           1       0.71      0.75      0.73      8879\n",
      "\n",
      "    accuracy                           0.80     23842\n",
      "   macro avg       0.78      0.79      0.78     23842\n",
      "weighted avg       0.80      0.80      0.80     23842\n",
      "\n"
     ]
    },
    {
     "data": {
      "image/png": "[encoded data removed]",
      "text/plain": [
       "<Figure size 432x288 with 1 Axes>"
      ]
     },
     "metadata": {
      "needs_background": "light"
     },
     "output_type": "display_data"
    }
   ],
   "source": [
    "log_reg = LogisticRegression(max_iter=3000)\n",
    "\n",
    "log_reg_pipeline = Pipeline([\n",
    "    ('col_transformer', col_transformer),\n",
    "    ('log_reg', log_reg)\n",
    "])\n",
    "\n",
    "model_eval(log_reg_pipeline, 'Logistic Regression', X_train_smotenc, y_train_smotenc, X_test, y_test)"
   ]
  },
  {
   "cell_type": "markdown",
   "id": "c4dff863",
   "metadata": {},
   "source": [
    "#### KNN"
   ]
  },
  {
   "cell_type": "code",
   "execution_count": 41,
   "id": "6f40080b",
   "metadata": {
    "scrolled": false
   },
   "outputs": [
    {
     "name": "stdout",
     "output_type": "stream",
     "text": [
      "Accuracy Score : 0.7865531415149736\n",
      "Confusion Matrix : \n",
      "[[11794  3169]\n",
      " [ 1920  6959]]\n",
      "Classification Report : \n",
      "              precision    recall  f1-score   support\n",
      "\n",
      "           0       0.86      0.79      0.82     14963\n",
      "           1       0.69      0.78      0.73      8879\n",
      "\n",
      "    accuracy                           0.79     23842\n",
      "   macro avg       0.77      0.79      0.78     23842\n",
      "weighted avg       0.80      0.79      0.79     23842\n",
      "\n"
     ]
    },
    {
     "data": {
      "image/png": "[encoded data removed]",
      "text/plain": [
       "<Figure size 432x288 with 1 Axes>"
      ]
     },
     "metadata": {
      "needs_background": "light"
     },
     "output_type": "display_data"
    }
   ],
   "source": [
    "knn = KNeighborsClassifier()\n",
    "\n",
    "knn_pipeline = Pipeline([\n",
    "    ('col_transformer', col_transformer),\n",
    "    ('knn', knn)\n",
    "])\n",
    "\n",
    "model_eval(knn_pipeline, 'KNN', X_train_smotenc, y_train_smotenc, X_test, y_test)"
   ]
  },
  {
   "cell_type": "markdown",
   "id": "f6bf84a7",
   "metadata": {},
   "source": [
    "#### Decision Tree"
   ]
  },
  {
   "cell_type": "code",
   "execution_count": 42,
   "id": "050ff959",
   "metadata": {
    "scrolled": false
   },
   "outputs": [
    {
     "name": "stdout",
     "output_type": "stream",
     "text": [
      "Accuracy Score : 0.8320610687022901\n",
      "Confusion Matrix : \n",
      "[[12776  2187]\n",
      " [ 1817  7062]]\n",
      "Classification Report : \n",
      "              precision    recall  f1-score   support\n",
      "\n",
      "           0       0.88      0.85      0.86     14963\n",
      "           1       0.76      0.80      0.78      8879\n",
      "\n",
      "    accuracy                           0.83     23842\n",
      "   macro avg       0.82      0.82      0.82     23842\n",
      "weighted avg       0.83      0.83      0.83     23842\n",
      "\n"
     ]
    },
    {
     "data": {
      "image/png": "[encoded data removed]",
      "text/plain": [
       "<Figure size 432x288 with 1 Axes>"
      ]
     },
     "metadata": {
      "needs_background": "light"
     },
     "output_type": "display_data"
    }
   ],
   "source": [
    "dt = DecisionTreeClassifier(random_state=22, class_weight='balanced')\n",
    "\n",
    "dt_pipeline = Pipeline([\n",
    "    ('col_transformer', col_transformer),\n",
    "    ('dt', dt)\n",
    "])\n",
    "\n",
    "model_eval(dt_pipeline, 'Decision Tree', X_train_smotenc, y_train_smotenc, X_test, y_test)"
   ]
  },
  {
   "cell_type": "code",
   "execution_count": 43,
   "id": "7740f210",
   "metadata": {
    "scrolled": true
   },
   "outputs": [
    {
     "data": {
      "text/html": [
       "<div>\n",
       "<style scoped>\n",
       "    .dataframe tbody tr th:only-of-type {\n",
       "        vertical-align: middle;\n",
       "    }\n",
       "\n",
       "    .dataframe tbody tr th {\n",
       "        vertical-align: top;\n",
       "    }\n",
       "\n",
       "    .dataframe thead th {\n",
       "        text-align: right;\n",
       "    }\n",
       "</style>\n",
       "<table border=\"1\" class=\"dataframe\">\n",
       "  <thead>\n",
       "    <tr style=\"text-align: right;\">\n",
       "      <th></th>\n",
       "      <th>Model</th>\n",
       "      <th>Accuracy</th>\n",
       "      <th>Precision</th>\n",
       "      <th>Recall</th>\n",
       "      <th>F1</th>\n",
       "      <th>AUC</th>\n",
       "    </tr>\n",
       "  </thead>\n",
       "  <tbody>\n",
       "    <tr>\n",
       "      <th>2</th>\n",
       "      <td>Decision Tree</td>\n",
       "      <td>0.848729</td>\n",
       "      <td>0.843752</td>\n",
       "      <td>0.856130</td>\n",
       "      <td>0.849031</td>\n",
       "      <td>0.832815</td>\n",
       "    </tr>\n",
       "    <tr>\n",
       "      <th>1</th>\n",
       "      <td>KNN</td>\n",
       "      <td>0.823450</td>\n",
       "      <td>0.795697</td>\n",
       "      <td>0.869653</td>\n",
       "      <td>0.830533</td>\n",
       "      <td>0.865661</td>\n",
       "    </tr>\n",
       "    <tr>\n",
       "      <th>0</th>\n",
       "      <td>Logistic Regression</td>\n",
       "      <td>0.794398</td>\n",
       "      <td>0.807673</td>\n",
       "      <td>0.772614</td>\n",
       "      <td>0.789404</td>\n",
       "      <td>0.875182</td>\n",
       "    </tr>\n",
       "  </tbody>\n",
       "</table>\n",
       "</div>"
      ],
      "text/plain": [
       "                 Model  Accuracy  Precision    Recall        F1       AUC\n",
       "2        Decision Tree  0.848729   0.843752  0.856130  0.849031  0.832815\n",
       "1                  KNN  0.823450   0.795697  0.869653  0.830533  0.865661\n",
       "0  Logistic Regression  0.794398   0.807673  0.772614  0.789404  0.875182"
      ]
     },
     "execution_count": 43,
     "metadata": {},
     "output_type": "execute_result"
    }
   ],
   "source": [
    "df_model_score.sort_values(by='F1', ascending=False)"
   ]
  },
  {
   "cell_type": "markdown",
   "id": "0a1751f8",
   "metadata": {},
   "source": [
    "## Base Model Hyperparameter Tuning"
   ]
  },
  {
   "cell_type": "markdown",
   "id": "abb55a65",
   "metadata": {},
   "source": [
    "### Grid Search"
   ]
  },
  {
   "cell_type": "markdown",
   "id": "0947e6d5",
   "metadata": {},
   "source": [
    "#### Decision Tree"
   ]
  },
  {
   "cell_type": "code",
   "execution_count": 44,
   "id": "1a80c1f0",
   "metadata": {},
   "outputs": [
    {
     "data": {
      "text/plain": [
       "GridSearchCV(estimator=Pipeline(steps=[('col_transformer',\n",
       "                                        ColumnTransformer(transformers=[('encoder',\n",
       "                                                                         OneHotEncoder(),\n",
       "                                                                         ['hotel',\n",
       "                                                                          'meal_encoded',\n",
       "                                                                          'country_encoded',\n",
       "                                                                          'market_segment_encoded',\n",
       "                                                                          'distribution_channel_encoded',\n",
       "                                                                          'reserved_room_type_encoded',\n",
       "                                                                          'deposit_type',\n",
       "                                                                          'customer_type',\n",
       "                                                                          'is_repeated_guest']),\n",
       "                                                                        ('do_nothing',\n",
       "                                                                         FunctionTransformer(),\n",
       "                                                                         ['lead_time',\n",
       "                                                                          'arrival_date_week_number',\n",
       "                                                                          'previous_cancellations',\n",
       "                                                                          'booking_changes',\n",
       "                                                                          'required_car_parking_spaces',\n",
       "                                                                          'total_of_special_requests'])])),\n",
       "                                       ('dt',\n",
       "                                        DecisionTreeClassifier(class_weight='balanced',\n",
       "                                                               random_state=22))]),\n",
       "             param_grid={'dt__criterion': ['entropy'], 'dt__max_depth': [50],\n",
       "                         'dt__min_samples_split': [2]})"
      ]
     },
     "execution_count": 44,
     "metadata": {},
     "output_type": "execute_result"
    }
   ],
   "source": [
    "dt_param_grid = {\n",
    "    'dt__criterion': ['entropy'],\n",
    "    'dt__max_depth': [50],\n",
    "    'dt__min_samples_split': [2]\n",
    "}\n",
    "\n",
    "dt_grid_search = GridSearchCV(\n",
    "    estimator=dt_pipeline,\n",
    "    param_grid=dt_param_grid\n",
    ")\n",
    "\n",
    "dt_grid_search.fit(X_train_smotenc, y_train_smotenc)"
   ]
  },
  {
   "cell_type": "code",
   "execution_count": 45,
   "id": "52a573ad",
   "metadata": {},
   "outputs": [
    {
     "data": {
      "text/html": [
       "<div>\n",
       "<style scoped>\n",
       "    .dataframe tbody tr th:only-of-type {\n",
       "        vertical-align: middle;\n",
       "    }\n",
       "\n",
       "    .dataframe tbody tr th {\n",
       "        vertical-align: top;\n",
       "    }\n",
       "\n",
       "    .dataframe thead th {\n",
       "        text-align: right;\n",
       "    }\n",
       "</style>\n",
       "<table border=\"1\" class=\"dataframe\">\n",
       "  <thead>\n",
       "    <tr style=\"text-align: right;\">\n",
       "      <th></th>\n",
       "      <th>mean_fit_time</th>\n",
       "      <th>std_fit_time</th>\n",
       "      <th>mean_score_time</th>\n",
       "      <th>std_score_time</th>\n",
       "      <th>param_dt__criterion</th>\n",
       "      <th>param_dt__max_depth</th>\n",
       "      <th>param_dt__min_samples_split</th>\n",
       "      <th>params</th>\n",
       "      <th>split0_test_score</th>\n",
       "      <th>split1_test_score</th>\n",
       "      <th>split2_test_score</th>\n",
       "      <th>split3_test_score</th>\n",
       "      <th>split4_test_score</th>\n",
       "      <th>mean_test_score</th>\n",
       "      <th>std_test_score</th>\n",
       "      <th>rank_test_score</th>\n",
       "    </tr>\n",
       "  </thead>\n",
       "  <tbody>\n",
       "    <tr>\n",
       "      <th>0</th>\n",
       "      <td>1.094408</td>\n",
       "      <td>0.094349</td>\n",
       "      <td>0.101488</td>\n",
       "      <td>0.009167</td>\n",
       "      <td>entropy</td>\n",
       "      <td>50</td>\n",
       "      <td>2</td>\n",
       "      <td>{'dt__criterion': 'entropy', 'dt__max_depth': ...</td>\n",
       "      <td>0.83189</td>\n",
       "      <td>0.832424</td>\n",
       "      <td>0.83105</td>\n",
       "      <td>0.872892</td>\n",
       "      <td>0.875848</td>\n",
       "      <td>0.848821</td>\n",
       "      <td>0.020886</td>\n",
       "      <td>1</td>\n",
       "    </tr>\n",
       "  </tbody>\n",
       "</table>\n",
       "</div>"
      ],
      "text/plain": [
       "   mean_fit_time  std_fit_time  mean_score_time  std_score_time  \\\n",
       "0       1.094408      0.094349         0.101488        0.009167   \n",
       "\n",
       "  param_dt__criterion param_dt__max_depth param_dt__min_samples_split  \\\n",
       "0             entropy                  50                           2   \n",
       "\n",
       "                                              params  split0_test_score  \\\n",
       "0  {'dt__criterion': 'entropy', 'dt__max_depth': ...            0.83189   \n",
       "\n",
       "   split1_test_score  split2_test_score  split3_test_score  split4_test_score  \\\n",
       "0           0.832424            0.83105           0.872892           0.875848   \n",
       "\n",
       "   mean_test_score  std_test_score  rank_test_score  \n",
       "0         0.848821        0.020886                1  "
      ]
     },
     "execution_count": 45,
     "metadata": {},
     "output_type": "execute_result"
    }
   ],
   "source": [
    "pd.DataFrame(dt_grid_search.cv_results_).sort_values(by='rank_test_score').head()"
   ]
  },
  {
   "cell_type": "code",
   "execution_count": 46,
   "id": "81a3ef2d",
   "metadata": {
    "scrolled": false
   },
   "outputs": [
    {
     "name": "stdout",
     "output_type": "stream",
     "text": [
      "Accuracy Score : 0.8324385538125996\n",
      "Confusion Matrix : \n",
      "[[12800  2163]\n",
      " [ 1832  7047]]\n",
      "Classification Report : \n",
      "              precision    recall  f1-score   support\n",
      "\n",
      "           0       0.87      0.86      0.87     14963\n",
      "           1       0.77      0.79      0.78      8879\n",
      "\n",
      "    accuracy                           0.83     23842\n",
      "   macro avg       0.82      0.82      0.82     23842\n",
      "weighted avg       0.83      0.83      0.83     23842\n",
      "\n"
     ]
    },
    {
     "data": {
      "image/png": "[encoded data removed]",
      "text/plain": [
       "<Figure size 432x288 with 1 Axes>"
      ]
     },
     "metadata": {
      "needs_background": "light"
     },
     "output_type": "display_data"
    }
   ],
   "source": [
    "dt_best = dt_grid_search.best_estimator_\n",
    "\n",
    "model_eval(dt_best, 'Best Decision Tree', X_train_smotenc, y_train_smotenc, X_test, y_test)"
   ]
  },
  {
   "cell_type": "markdown",
   "id": "47c73a3a",
   "metadata": {},
   "source": [
    "#### KNN"
   ]
  },
  {
   "cell_type": "code",
   "execution_count": 47,
   "id": "e8d1999c",
   "metadata": {},
   "outputs": [
    {
     "data": {
      "text/plain": [
       "GridSearchCV(estimator=Pipeline(steps=[('col_transformer',\n",
       "                                        ColumnTransformer(transformers=[('encoder',\n",
       "                                                                         OneHotEncoder(),\n",
       "                                                                         ['hotel',\n",
       "                                                                          'meal_encoded',\n",
       "                                                                          'country_encoded',\n",
       "                                                                          'market_segment_encoded',\n",
       "                                                                          'distribution_channel_encoded',\n",
       "                                                                          'reserved_room_type_encoded',\n",
       "                                                                          'deposit_type',\n",
       "                                                                          'customer_type',\n",
       "                                                                          'is_repeated_guest']),\n",
       "                                                                        ('do_nothing',\n",
       "                                                                         FunctionTransformer(),\n",
       "                                                                         ['lead_time',\n",
       "                                                                          'arrival_date_week_number',\n",
       "                                                                          'previous_cancellations',\n",
       "                                                                          'booking_changes',\n",
       "                                                                          'required_car_parking_spaces',\n",
       "                                                                          'total_of_special_requests'])])),\n",
       "                                       ('knn', KNeighborsClassifier())]),\n",
       "             param_grid={'knn__algorithm': ['ball_tree', 'kd_tree'],\n",
       "                         'knn__n_neighbors': [5],\n",
       "                         'knn__weights': ['uniform', 'distance']})"
      ]
     },
     "execution_count": 47,
     "metadata": {},
     "output_type": "execute_result"
    }
   ],
   "source": [
    "knn_param_grid = {\n",
    "    'knn__n_neighbors': [5],\n",
    "    'knn__weights': ['uniform', 'distance'],\n",
    "    'knn__algorithm': ['ball_tree', 'kd_tree']\n",
    "}\n",
    "\n",
    "knn_grid_search = GridSearchCV(\n",
    "    estimator=knn_pipeline,\n",
    "    param_grid=knn_param_grid\n",
    ")\n",
    "\n",
    "knn_grid_search.fit(X_train_smotenc, y_train_smotenc)"
   ]
  },
  {
   "cell_type": "code",
   "execution_count": 48,
   "id": "ac757fee",
   "metadata": {},
   "outputs": [
    {
     "data": {
      "text/html": [
       "<div>\n",
       "<style scoped>\n",
       "    .dataframe tbody tr th:only-of-type {\n",
       "        vertical-align: middle;\n",
       "    }\n",
       "\n",
       "    .dataframe tbody tr th {\n",
       "        vertical-align: top;\n",
       "    }\n",
       "\n",
       "    .dataframe thead th {\n",
       "        text-align: right;\n",
       "    }\n",
       "</style>\n",
       "<table border=\"1\" class=\"dataframe\">\n",
       "  <thead>\n",
       "    <tr style=\"text-align: right;\">\n",
       "      <th></th>\n",
       "      <th>mean_fit_time</th>\n",
       "      <th>std_fit_time</th>\n",
       "      <th>mean_score_time</th>\n",
       "      <th>std_score_time</th>\n",
       "      <th>param_knn__algorithm</th>\n",
       "      <th>param_knn__n_neighbors</th>\n",
       "      <th>param_knn__weights</th>\n",
       "      <th>params</th>\n",
       "      <th>split0_test_score</th>\n",
       "      <th>split1_test_score</th>\n",
       "      <th>split2_test_score</th>\n",
       "      <th>split3_test_score</th>\n",
       "      <th>split4_test_score</th>\n",
       "      <th>mean_test_score</th>\n",
       "      <th>std_test_score</th>\n",
       "      <th>rank_test_score</th>\n",
       "    </tr>\n",
       "  </thead>\n",
       "  <tbody>\n",
       "    <tr>\n",
       "      <th>1</th>\n",
       "      <td>1.823535</td>\n",
       "      <td>0.076333</td>\n",
       "      <td>5.784767</td>\n",
       "      <td>0.245500</td>\n",
       "      <td>ball_tree</td>\n",
       "      <td>5</td>\n",
       "      <td>distance</td>\n",
       "      <td>{'knn__algorithm': 'ball_tree', 'knn__n_neighb...</td>\n",
       "      <td>0.818818</td>\n",
       "      <td>0.818644</td>\n",
       "      <td>0.820642</td>\n",
       "      <td>0.866772</td>\n",
       "      <td>0.865815</td>\n",
       "      <td>0.838138</td>\n",
       "      <td>0.023001</td>\n",
       "      <td>1</td>\n",
       "    </tr>\n",
       "    <tr>\n",
       "      <th>3</th>\n",
       "      <td>2.963030</td>\n",
       "      <td>0.044620</td>\n",
       "      <td>2.623670</td>\n",
       "      <td>0.122144</td>\n",
       "      <td>kd_tree</td>\n",
       "      <td>5</td>\n",
       "      <td>distance</td>\n",
       "      <td>{'knn__algorithm': 'kd_tree', 'knn__n_neighbor...</td>\n",
       "      <td>0.818193</td>\n",
       "      <td>0.818519</td>\n",
       "      <td>0.821308</td>\n",
       "      <td>0.866689</td>\n",
       "      <td>0.864066</td>\n",
       "      <td>0.837755</td>\n",
       "      <td>0.022595</td>\n",
       "      <td>2</td>\n",
       "    </tr>\n",
       "    <tr>\n",
       "      <th>0</th>\n",
       "      <td>1.884923</td>\n",
       "      <td>0.175385</td>\n",
       "      <td>6.468398</td>\n",
       "      <td>0.220125</td>\n",
       "      <td>ball_tree</td>\n",
       "      <td>5</td>\n",
       "      <td>uniform</td>\n",
       "      <td>{'knn__algorithm': 'ball_tree', 'knn__n_neighb...</td>\n",
       "      <td>0.806411</td>\n",
       "      <td>0.805571</td>\n",
       "      <td>0.806611</td>\n",
       "      <td>0.855656</td>\n",
       "      <td>0.854865</td>\n",
       "      <td>0.825823</td>\n",
       "      <td>0.024040</td>\n",
       "      <td>3</td>\n",
       "    </tr>\n",
       "    <tr>\n",
       "      <th>2</th>\n",
       "      <td>3.026628</td>\n",
       "      <td>0.077610</td>\n",
       "      <td>3.586654</td>\n",
       "      <td>0.137739</td>\n",
       "      <td>kd_tree</td>\n",
       "      <td>5</td>\n",
       "      <td>uniform</td>\n",
       "      <td>{'knn__algorithm': 'kd_tree', 'knn__n_neighbor...</td>\n",
       "      <td>0.805912</td>\n",
       "      <td>0.804488</td>\n",
       "      <td>0.806778</td>\n",
       "      <td>0.855448</td>\n",
       "      <td>0.852950</td>\n",
       "      <td>0.825115</td>\n",
       "      <td>0.023771</td>\n",
       "      <td>4</td>\n",
       "    </tr>\n",
       "  </tbody>\n",
       "</table>\n",
       "</div>"
      ],
      "text/plain": [
       "   mean_fit_time  std_fit_time  mean_score_time  std_score_time  \\\n",
       "1       1.823535      0.076333         5.784767        0.245500   \n",
       "3       2.963030      0.044620         2.623670        0.122144   \n",
       "0       1.884923      0.175385         6.468398        0.220125   \n",
       "2       3.026628      0.077610         3.586654        0.137739   \n",
       "\n",
       "  param_knn__algorithm param_knn__n_neighbors param_knn__weights  \\\n",
       "1            ball_tree                      5           distance   \n",
       "3              kd_tree                      5           distance   \n",
       "0            ball_tree                      5            uniform   \n",
       "2              kd_tree                      5            uniform   \n",
       "\n",
       "                                              params  split0_test_score  \\\n",
       "1  {'knn__algorithm': 'ball_tree', 'knn__n_neighb...           0.818818   \n",
       "3  {'knn__algorithm': 'kd_tree', 'knn__n_neighbor...           0.818193   \n",
       "0  {'knn__algorithm': 'ball_tree', 'knn__n_neighb...           0.806411   \n",
       "2  {'knn__algorithm': 'kd_tree', 'knn__n_neighbor...           0.805912   \n",
       "\n",
       "   split1_test_score  split2_test_score  split3_test_score  split4_test_score  \\\n",
       "1           0.818644           0.820642           0.866772           0.865815   \n",
       "3           0.818519           0.821308           0.866689           0.864066   \n",
       "0           0.805571           0.806611           0.855656           0.854865   \n",
       "2           0.804488           0.806778           0.855448           0.852950   \n",
       "\n",
       "   mean_test_score  std_test_score  rank_test_score  \n",
       "1         0.838138        0.023001                1  \n",
       "3         0.837755        0.022595                2  \n",
       "0         0.825823        0.024040                3  \n",
       "2         0.825115        0.023771                4  "
      ]
     },
     "execution_count": 48,
     "metadata": {},
     "output_type": "execute_result"
    }
   ],
   "source": [
    "pd.DataFrame(knn_grid_search.cv_results_).sort_values(by='rank_test_score').head()"
   ]
  },
  {
   "cell_type": "code",
   "execution_count": 49,
   "id": "a0c34462",
   "metadata": {},
   "outputs": [
    {
     "name": "stdout",
     "output_type": "stream",
     "text": [
      "Accuracy Score : 0.8086989346531331\n",
      "Confusion Matrix : \n",
      "[[12339  2624]\n",
      " [ 1937  6942]]\n",
      "Classification Report : \n",
      "              precision    recall  f1-score   support\n",
      "\n",
      "           0       0.86      0.82      0.84     14963\n",
      "           1       0.73      0.78      0.75      8879\n",
      "\n",
      "    accuracy                           0.81     23842\n",
      "   macro avg       0.80      0.80      0.80     23842\n",
      "weighted avg       0.81      0.81      0.81     23842\n",
      "\n"
     ]
    },
    {
     "data": {
      "image/png": "[encoded data removed]",
      "text/plain": [
       "<Figure size 432x288 with 1 Axes>"
      ]
     },
     "metadata": {
      "needs_background": "light"
     },
     "output_type": "display_data"
    }
   ],
   "source": [
    "knn_best = knn_grid_search.best_estimator_\n",
    "model_eval(knn_best, 'Best KNN', X_train_smotenc, y_train_smotenc, X_test, y_test)"
   ]
  },
  {
   "cell_type": "markdown",
   "id": "fe95cd95",
   "metadata": {},
   "source": [
    "## Ensemble Model"
   ]
  },
  {
   "cell_type": "markdown",
   "id": "af0f067d",
   "metadata": {},
   "source": [
    "#### Random Forest"
   ]
  },
  {
   "cell_type": "code",
   "execution_count": 50,
   "id": "0d5cfd00",
   "metadata": {},
   "outputs": [
    {
     "name": "stdout",
     "output_type": "stream",
     "text": [
      "Accuracy Score : 0.8464893884741213\n",
      "Confusion Matrix : \n",
      "[[12979  1984]\n",
      " [ 1676  7203]]\n",
      "Classification Report : \n",
      "              precision    recall  f1-score   support\n",
      "\n",
      "           0       0.89      0.87      0.88     14963\n",
      "           1       0.78      0.81      0.80      8879\n",
      "\n",
      "    accuracy                           0.85     23842\n",
      "   macro avg       0.83      0.84      0.84     23842\n",
      "weighted avg       0.85      0.85      0.85     23842\n",
      "\n"
     ]
    },
    {
     "data": {
      "image/png": "[encoded data removed]",
      "text/plain": [
       "<Figure size 432x288 with 1 Axes>"
      ]
     },
     "metadata": {
      "needs_background": "light"
     },
     "output_type": "display_data"
    }
   ],
   "source": [
    "rf = RandomForestClassifier(random_state=22)\n",
    "\n",
    "rf_pipeline = Pipeline([\n",
    "    ('col_transformer', col_transformer),\n",
    "    ('rf', rf)\n",
    "])\n",
    "\n",
    "model_eval(rf_pipeline, 'Random Forest', X_train_smotenc, y_train_smotenc, X_test, y_test)"
   ]
  },
  {
   "cell_type": "markdown",
   "id": "f913b080",
   "metadata": {},
   "source": [
    "#### XGBoost"
   ]
  },
  {
   "cell_type": "code",
   "execution_count": 51,
   "id": "96d4cdfe",
   "metadata": {
    "scrolled": false
   },
   "outputs": [
    {
     "name": "stdout",
     "output_type": "stream",
     "text": [
      "Accuracy Score : 0.8438469927019545\n",
      "Confusion Matrix : \n",
      "[[12939  2024]\n",
      " [ 1699  7180]]\n",
      "Classification Report : \n",
      "              precision    recall  f1-score   support\n",
      "\n",
      "           0       0.88      0.86      0.87     14963\n",
      "           1       0.78      0.81      0.79      8879\n",
      "\n",
      "    accuracy                           0.84     23842\n",
      "   macro avg       0.83      0.84      0.83     23842\n",
      "weighted avg       0.85      0.84      0.84     23842\n",
      "\n"
     ]
    },
    {
     "data": {
      "image/png": "[encoded data removed]",
      "text/plain": [
       "<Figure size 432x288 with 1 Axes>"
      ]
     },
     "metadata": {
      "needs_background": "light"
     },
     "output_type": "display_data"
    }
   ],
   "source": [
    "xgb = XGBClassifier()\n",
    "\n",
    "xgb_pipeline = Pipeline([\n",
    "    ('col_transformer', col_transformer),\n",
    "    ('xgb', xgb)\n",
    "])\n",
    "\n",
    "model_eval(xgb_pipeline, 'XGBoost', X_train_smotenc, y_train_smotenc, X_test, y_test)"
   ]
  },
  {
   "cell_type": "markdown",
   "id": "56686ec4",
   "metadata": {},
   "source": [
    "#### Light Gradient Boosting Machine"
   ]
  },
  {
   "cell_type": "code",
   "execution_count": 52,
   "id": "f7adb39f",
   "metadata": {},
   "outputs": [
    {
     "name": "stdout",
     "output_type": "stream",
     "text": [
      "Accuracy Score : 0.8407851690294439\n",
      "Confusion Matrix : \n",
      "[[12969  1994]\n",
      " [ 1802  7077]]\n",
      "Classification Report : \n",
      "              precision    recall  f1-score   support\n",
      "\n",
      "           0       0.88      0.87      0.87     14963\n",
      "           1       0.78      0.80      0.79      8879\n",
      "\n",
      "    accuracy                           0.84     23842\n",
      "   macro avg       0.83      0.83      0.83     23842\n",
      "weighted avg       0.84      0.84      0.84     23842\n",
      "\n"
     ]
    },
    {
     "data": {
      "image/png": "[encoded data removed]",
      "text/plain": [
       "<Figure size 432x288 with 1 Axes>"
      ]
     },
     "metadata": {
      "needs_background": "light"
     },
     "output_type": "display_data"
    }
   ],
   "source": [
    "lgbm = LGBMClassifier()\n",
    "\n",
    "lgbm_pipeline = Pipeline([\n",
    "    ('col_transformer', col_transformer),\n",
    "    ('lgbm', lgbm)\n",
    "])\n",
    "\n",
    "model_eval(lgbm_pipeline, 'Light GBM', X_train_smotenc, y_train_smotenc, X_test, y_test)"
   ]
  },
  {
   "cell_type": "markdown",
   "id": "3613f4d8",
   "metadata": {},
   "source": [
    "#### Catboost"
   ]
  },
  {
   "cell_type": "code",
   "execution_count": 53,
   "id": "71ec9ac6",
   "metadata": {},
   "outputs": [
    {
     "name": "stdout",
     "output_type": "stream",
     "text": [
      "Accuracy Score : 0.8446019629225736\n",
      "Confusion Matrix : \n",
      "[[12910  2053]\n",
      " [ 1652  7227]]\n",
      "Classification Report : \n",
      "              precision    recall  f1-score   support\n",
      "\n",
      "           0       0.89      0.86      0.87     14963\n",
      "           1       0.78      0.81      0.80      8879\n",
      "\n",
      "    accuracy                           0.84     23842\n",
      "   macro avg       0.83      0.84      0.84     23842\n",
      "weighted avg       0.85      0.84      0.85     23842\n",
      "\n"
     ]
    },
    {
     "data": {
      "image/png": "[encoded data removed]",
      "text/plain": [
       "<Figure size 432x288 with 1 Axes>"
      ]
     },
     "metadata": {
      "needs_background": "light"
     },
     "output_type": "display_data"
    }
   ],
   "source": [
    "cb = CatBoostClassifier(logging_level='Silent')\n",
    "\n",
    "cb_pipeline = Pipeline([\n",
    "    ('col_transformer', col_transformer),\n",
    "    ('cb', cb)\n",
    "])\n",
    "\n",
    "model_eval(cb_pipeline, 'Catboost', X_train_smotenc, y_train_smotenc, X_test, y_test)"
   ]
  },
  {
   "cell_type": "markdown",
   "id": "eb889af9",
   "metadata": {},
   "source": [
    "#### Adaboost"
   ]
  },
  {
   "cell_type": "code",
   "execution_count": 54,
   "id": "79201882",
   "metadata": {},
   "outputs": [
    {
     "name": "stdout",
     "output_type": "stream",
     "text": [
      "Accuracy Score : 0.813690126667226\n",
      "Confusion Matrix : \n",
      "[[12726  2237]\n",
      " [ 2205  6674]]\n",
      "Classification Report : \n",
      "              precision    recall  f1-score   support\n",
      "\n",
      "           0       0.85      0.85      0.85     14963\n",
      "           1       0.75      0.75      0.75      8879\n",
      "\n",
      "    accuracy                           0.81     23842\n",
      "   macro avg       0.80      0.80      0.80     23842\n",
      "weighted avg       0.81      0.81      0.81     23842\n",
      "\n"
     ]
    },
    {
     "data": {
      "image/png": "[encoded data removed]",
      "text/plain": [
       "<Figure size 432x288 with 1 Axes>"
      ]
     },
     "metadata": {
      "needs_background": "light"
     },
     "output_type": "display_data"
    }
   ],
   "source": [
    "ab = AdaBoostClassifier()\n",
    "\n",
    "ab_pipeline = Pipeline([\n",
    "    ('col_transformer', col_transformer),\n",
    "    ('ab', ab)\n",
    "])\n",
    "\n",
    "model_eval(ab_pipeline, 'Adaboost', X_train_smotenc, y_train_smotenc, X_test, y_test)"
   ]
  },
  {
   "cell_type": "markdown",
   "id": "096039da",
   "metadata": {},
   "source": [
    "#### Voting"
   ]
  },
  {
   "cell_type": "code",
   "execution_count": 55,
   "id": "50731a40",
   "metadata": {},
   "outputs": [
    {
     "name": "stdout",
     "output_type": "stream",
     "text": [
      "Accuracy Score : 0.8404915694992031\n",
      "Confusion Matrix : \n",
      "[[12915  2048]\n",
      " [ 1755  7124]]\n",
      "Classification Report : \n",
      "              precision    recall  f1-score   support\n",
      "\n",
      "           0       0.88      0.86      0.87     14963\n",
      "           1       0.78      0.80      0.79      8879\n",
      "\n",
      "    accuracy                           0.84     23842\n",
      "   macro avg       0.83      0.83      0.83     23842\n",
      "weighted avg       0.84      0.84      0.84     23842\n",
      "\n"
     ]
    },
    {
     "data": {
      "image/png": "[encoded data removed]",
      "text/plain": [
       "<Figure size 432x288 with 1 Axes>"
      ]
     },
     "metadata": {
      "needs_background": "light"
     },
     "output_type": "display_data"
    }
   ],
   "source": [
    "voting = VotingClassifier(estimators=[('lr', log_reg), ('knn', knn), ('dt', dt)], voting='soft')\n",
    "\n",
    "voting_pipeline = Pipeline([\n",
    "    ('col_transformer', col_transformer),\n",
    "    ('voting', voting)\n",
    "])\n",
    "\n",
    "model_eval(voting_pipeline, 'Voting Classifier', X_train_smotenc, y_train_smotenc, X_test, y_test)"
   ]
  },
  {
   "cell_type": "markdown",
   "id": "9ce3b80b",
   "metadata": {},
   "source": [
    "## Ensemble Model Hyperparameter Tuning"
   ]
  },
  {
   "cell_type": "markdown",
   "id": "18840c30",
   "metadata": {},
   "source": [
    "#### Random Forest"
   ]
  },
  {
   "cell_type": "code",
   "execution_count": 56,
   "id": "026c8b58",
   "metadata": {},
   "outputs": [
    {
     "data": {
      "text/plain": [
       "GridSearchCV(estimator=Pipeline(steps=[('col_transformer',\n",
       "                                        ColumnTransformer(transformers=[('encoder',\n",
       "                                                                         OneHotEncoder(),\n",
       "                                                                         ['hotel',\n",
       "                                                                          'meal_encoded',\n",
       "                                                                          'country_encoded',\n",
       "                                                                          'market_segment_encoded',\n",
       "                                                                          'distribution_channel_encoded',\n",
       "                                                                          'reserved_room_type_encoded',\n",
       "                                                                          'deposit_type',\n",
       "                                                                          'customer_type',\n",
       "                                                                          'is_repeated_guest']),\n",
       "                                                                        ('do_nothing',\n",
       "                                                                         FunctionTransformer(),\n",
       "                                                                         ['lead_time',\n",
       "                                                                          'arrival_date_week_number',\n",
       "                                                                          'previous_cancellations',\n",
       "                                                                          'booking_changes',\n",
       "                                                                          'required_car_parking_spaces',\n",
       "                                                                          'total_of_special_requests'])])),\n",
       "                                       ('rf',\n",
       "                                        RandomForestClassifier(random_state=22))]),\n",
       "             param_grid={'rf__max_depth': [50, 75, 100],\n",
       "                         'rf__min_samples_split': [2, 6, 10],\n",
       "                         'rf__n_estimators': [150, 200, 250]})"
      ]
     },
     "execution_count": 56,
     "metadata": {},
     "output_type": "execute_result"
    }
   ],
   "source": [
    "rf_param_grid = {\n",
    "    'rf__n_estimators': [250],\n",
    "    'rf__max_depth': [50],\n",
    "    'rf__min_samples_split': [6]\n",
    "}\n",
    "\n",
    "rf_grid_search = GridSearchCV(\n",
    "    estimator=rf_pipeline,\n",
    "    param_grid=rf_param_grid\n",
    ")\n",
    "\n",
    "rf_grid_search.fit(X_train_smotenc, y_train_smotenc)"
   ]
  },
  {
   "cell_type": "code",
   "execution_count": 57,
   "id": "621ddcaf",
   "metadata": {},
   "outputs": [
    {
     "data": {
      "text/html": [
       "<div>\n",
       "<style scoped>\n",
       "    .dataframe tbody tr th:only-of-type {\n",
       "        vertical-align: middle;\n",
       "    }\n",
       "\n",
       "    .dataframe tbody tr th {\n",
       "        vertical-align: top;\n",
       "    }\n",
       "\n",
       "    .dataframe thead th {\n",
       "        text-align: right;\n",
       "    }\n",
       "</style>\n",
       "<table border=\"1\" class=\"dataframe\">\n",
       "  <thead>\n",
       "    <tr style=\"text-align: right;\">\n",
       "      <th></th>\n",
       "      <th>mean_fit_time</th>\n",
       "      <th>std_fit_time</th>\n",
       "      <th>mean_score_time</th>\n",
       "      <th>std_score_time</th>\n",
       "      <th>param_rf__max_depth</th>\n",
       "      <th>param_rf__min_samples_split</th>\n",
       "      <th>param_rf__n_estimators</th>\n",
       "      <th>params</th>\n",
       "      <th>split0_test_score</th>\n",
       "      <th>split1_test_score</th>\n",
       "      <th>split2_test_score</th>\n",
       "      <th>split3_test_score</th>\n",
       "      <th>split4_test_score</th>\n",
       "      <th>mean_test_score</th>\n",
       "      <th>std_test_score</th>\n",
       "      <th>rank_test_score</th>\n",
       "    </tr>\n",
       "  </thead>\n",
       "  <tbody>\n",
       "    <tr>\n",
       "      <th>5</th>\n",
       "      <td>45.474606</td>\n",
       "      <td>1.064938</td>\n",
       "      <td>2.687908</td>\n",
       "      <td>0.061054</td>\n",
       "      <td>50</td>\n",
       "      <td>6</td>\n",
       "      <td>250</td>\n",
       "      <td>{'rf__max_depth': 50, 'rf__min_samples_split':...</td>\n",
       "      <td>0.848626</td>\n",
       "      <td>0.848786</td>\n",
       "      <td>0.850535</td>\n",
       "      <td>0.892294</td>\n",
       "      <td>0.892585</td>\n",
       "      <td>0.866565</td>\n",
       "      <td>0.021137</td>\n",
       "      <td>1</td>\n",
       "    </tr>\n",
       "    <tr>\n",
       "      <th>23</th>\n",
       "      <td>33.713644</td>\n",
       "      <td>0.747232</td>\n",
       "      <td>2.350041</td>\n",
       "      <td>0.157081</td>\n",
       "      <td>100</td>\n",
       "      <td>6</td>\n",
       "      <td>250</td>\n",
       "      <td>{'rf__max_depth': 100, 'rf__min_samples_split'...</td>\n",
       "      <td>0.848751</td>\n",
       "      <td>0.848953</td>\n",
       "      <td>0.850285</td>\n",
       "      <td>0.891919</td>\n",
       "      <td>0.892627</td>\n",
       "      <td>0.866507</td>\n",
       "      <td>0.021046</td>\n",
       "      <td>2</td>\n",
       "    </tr>\n",
       "    <tr>\n",
       "      <th>14</th>\n",
       "      <td>46.449168</td>\n",
       "      <td>2.934135</td>\n",
       "      <td>2.885229</td>\n",
       "      <td>0.220598</td>\n",
       "      <td>75</td>\n",
       "      <td>6</td>\n",
       "      <td>250</td>\n",
       "      <td>{'rf__max_depth': 75, 'rf__min_samples_split':...</td>\n",
       "      <td>0.848751</td>\n",
       "      <td>0.848953</td>\n",
       "      <td>0.850285</td>\n",
       "      <td>0.891919</td>\n",
       "      <td>0.892627</td>\n",
       "      <td>0.866507</td>\n",
       "      <td>0.021046</td>\n",
       "      <td>2</td>\n",
       "    </tr>\n",
       "    <tr>\n",
       "      <th>21</th>\n",
       "      <td>20.013632</td>\n",
       "      <td>0.140006</td>\n",
       "      <td>1.465019</td>\n",
       "      <td>0.061243</td>\n",
       "      <td>100</td>\n",
       "      <td>6</td>\n",
       "      <td>150</td>\n",
       "      <td>{'rf__max_depth': 100, 'rf__min_samples_split'...</td>\n",
       "      <td>0.848043</td>\n",
       "      <td>0.848661</td>\n",
       "      <td>0.850035</td>\n",
       "      <td>0.892335</td>\n",
       "      <td>0.892835</td>\n",
       "      <td>0.866382</td>\n",
       "      <td>0.021405</td>\n",
       "      <td>4</td>\n",
       "    </tr>\n",
       "    <tr>\n",
       "      <th>12</th>\n",
       "      <td>26.648229</td>\n",
       "      <td>0.788454</td>\n",
       "      <td>1.714276</td>\n",
       "      <td>0.049566</td>\n",
       "      <td>75</td>\n",
       "      <td>6</td>\n",
       "      <td>150</td>\n",
       "      <td>{'rf__max_depth': 75, 'rf__min_samples_split':...</td>\n",
       "      <td>0.848043</td>\n",
       "      <td>0.848661</td>\n",
       "      <td>0.850035</td>\n",
       "      <td>0.892335</td>\n",
       "      <td>0.892835</td>\n",
       "      <td>0.866382</td>\n",
       "      <td>0.021405</td>\n",
       "      <td>4</td>\n",
       "    </tr>\n",
       "  </tbody>\n",
       "</table>\n",
       "</div>"
      ],
      "text/plain": [
       "    mean_fit_time  std_fit_time  mean_score_time  std_score_time  \\\n",
       "5       45.474606      1.064938         2.687908        0.061054   \n",
       "23      33.713644      0.747232         2.350041        0.157081   \n",
       "14      46.449168      2.934135         2.885229        0.220598   \n",
       "21      20.013632      0.140006         1.465019        0.061243   \n",
       "12      26.648229      0.788454         1.714276        0.049566   \n",
       "\n",
       "   param_rf__max_depth param_rf__min_samples_split param_rf__n_estimators  \\\n",
       "5                   50                           6                    250   \n",
       "23                 100                           6                    250   \n",
       "14                  75                           6                    250   \n",
       "21                 100                           6                    150   \n",
       "12                  75                           6                    150   \n",
       "\n",
       "                                               params  split0_test_score  \\\n",
       "5   {'rf__max_depth': 50, 'rf__min_samples_split':...           0.848626   \n",
       "23  {'rf__max_depth': 100, 'rf__min_samples_split'...           0.848751   \n",
       "14  {'rf__max_depth': 75, 'rf__min_samples_split':...           0.848751   \n",
       "21  {'rf__max_depth': 100, 'rf__min_samples_split'...           0.848043   \n",
       "12  {'rf__max_depth': 75, 'rf__min_samples_split':...           0.848043   \n",
       "\n",
       "    split1_test_score  split2_test_score  split3_test_score  \\\n",
       "5            0.848786           0.850535           0.892294   \n",
       "23           0.848953           0.850285           0.891919   \n",
       "14           0.848953           0.850285           0.891919   \n",
       "21           0.848661           0.850035           0.892335   \n",
       "12           0.848661           0.850035           0.892335   \n",
       "\n",
       "    split4_test_score  mean_test_score  std_test_score  rank_test_score  \n",
       "5            0.892585         0.866565        0.021137                1  \n",
       "23           0.892627         0.866507        0.021046                2  \n",
       "14           0.892627         0.866507        0.021046                2  \n",
       "21           0.892835         0.866382        0.021405                4  \n",
       "12           0.892835         0.866382        0.021405                4  "
      ]
     },
     "execution_count": 57,
     "metadata": {},
     "output_type": "execute_result"
    }
   ],
   "source": [
    "pd.DataFrame(rf_grid_search.cv_results_).sort_values(by='rank_test_score').head()"
   ]
  },
  {
   "cell_type": "code",
   "execution_count": 58,
   "id": "b2218200",
   "metadata": {
    "scrolled": false
   },
   "outputs": [
    {
     "name": "stdout",
     "output_type": "stream",
     "text": [
      "Accuracy Score : 0.8509772670078014\n",
      "Confusion Matrix : \n",
      "[[13123  1840]\n",
      " [ 1713  7166]]\n",
      "Classification Report : \n",
      "              precision    recall  f1-score   support\n",
      "\n",
      "           0       0.88      0.88      0.88     14963\n",
      "           1       0.80      0.81      0.80      8879\n",
      "\n",
      "    accuracy                           0.85     23842\n",
      "   macro avg       0.84      0.84      0.84     23842\n",
      "weighted avg       0.85      0.85      0.85     23842\n",
      "\n"
     ]
    },
    {
     "data": {
      "image/png": "[encoded data removed]",
      "text/plain": [
       "<Figure size 432x288 with 1 Axes>"
      ]
     },
     "metadata": {
      "needs_background": "light"
     },
     "output_type": "display_data"
    }
   ],
   "source": [
    "rf_best = rf_grid_search.best_estimator_\n",
    "model_eval(rf_best, 'Best Random Forest', X_train_smotenc, y_train_smotenc, X_test, y_test)"
   ]
  },
  {
   "cell_type": "code",
   "execution_count": 67,
   "id": "13418b75",
   "metadata": {},
   "outputs": [
    {
     "data": {
      "text/html": [
       "<div>\n",
       "<style scoped>\n",
       "    .dataframe tbody tr th:only-of-type {\n",
       "        vertical-align: middle;\n",
       "    }\n",
       "\n",
       "    .dataframe tbody tr th {\n",
       "        vertical-align: top;\n",
       "    }\n",
       "\n",
       "    .dataframe thead th {\n",
       "        text-align: right;\n",
       "    }\n",
       "</style>\n",
       "<table border=\"1\" class=\"dataframe\">\n",
       "  <thead>\n",
       "    <tr style=\"text-align: right;\">\n",
       "      <th></th>\n",
       "      <th>Model</th>\n",
       "      <th>Accuracy</th>\n",
       "      <th>Precision</th>\n",
       "      <th>Recall</th>\n",
       "      <th>F1</th>\n",
       "      <th>AUC</th>\n",
       "    </tr>\n",
       "  </thead>\n",
       "  <tbody>\n",
       "    <tr>\n",
       "      <th>11</th>\n",
       "      <td>Best Random Forest</td>\n",
       "      <td>0.866565</td>\n",
       "      <td>0.873113</td>\n",
       "      <td>0.857812</td>\n",
       "      <td>0.864670</td>\n",
       "      <td>0.931090</td>\n",
       "    </tr>\n",
       "    <tr>\n",
       "      <th>5</th>\n",
       "      <td>Random Forest</td>\n",
       "      <td>0.865150</td>\n",
       "      <td>0.867720</td>\n",
       "      <td>0.861576</td>\n",
       "      <td>0.863997</td>\n",
       "      <td>0.926421</td>\n",
       "    </tr>\n",
       "    <tr>\n",
       "      <th>10</th>\n",
       "      <td>Voting Classifier</td>\n",
       "      <td>0.861261</td>\n",
       "      <td>0.857689</td>\n",
       "      <td>0.866072</td>\n",
       "      <td>0.861196</td>\n",
       "      <td>0.915478</td>\n",
       "    </tr>\n",
       "    <tr>\n",
       "      <th>8</th>\n",
       "      <td>Catboost</td>\n",
       "      <td>0.851785</td>\n",
       "      <td>0.861174</td>\n",
       "      <td>0.838695</td>\n",
       "      <td>0.849446</td>\n",
       "      <td>0.928384</td>\n",
       "    </tr>\n",
       "    <tr>\n",
       "      <th>3</th>\n",
       "      <td>Best Decision Tree</td>\n",
       "      <td>0.848821</td>\n",
       "      <td>0.844035</td>\n",
       "      <td>0.855897</td>\n",
       "      <td>0.849076</td>\n",
       "      <td>0.832400</td>\n",
       "    </tr>\n",
       "    <tr>\n",
       "      <th>2</th>\n",
       "      <td>Decision Tree</td>\n",
       "      <td>0.848729</td>\n",
       "      <td>0.843752</td>\n",
       "      <td>0.856130</td>\n",
       "      <td>0.849031</td>\n",
       "      <td>0.832815</td>\n",
       "    </tr>\n",
       "    <tr>\n",
       "      <th>6</th>\n",
       "      <td>XGBoost</td>\n",
       "      <td>0.849762</td>\n",
       "      <td>0.861632</td>\n",
       "      <td>0.833216</td>\n",
       "      <td>0.846905</td>\n",
       "      <td>0.926390</td>\n",
       "    </tr>\n",
       "    <tr>\n",
       "      <th>4</th>\n",
       "      <td>Best KNN</td>\n",
       "      <td>0.838138</td>\n",
       "      <td>0.821549</td>\n",
       "      <td>0.863508</td>\n",
       "      <td>0.841440</td>\n",
       "      <td>0.873932</td>\n",
       "    </tr>\n",
       "    <tr>\n",
       "      <th>7</th>\n",
       "      <td>Light GBM</td>\n",
       "      <td>0.843509</td>\n",
       "      <td>0.861238</td>\n",
       "      <td>0.818844</td>\n",
       "      <td>0.839241</td>\n",
       "      <td>0.922864</td>\n",
       "    </tr>\n",
       "    <tr>\n",
       "      <th>1</th>\n",
       "      <td>KNN</td>\n",
       "      <td>0.823450</td>\n",
       "      <td>0.795697</td>\n",
       "      <td>0.869653</td>\n",
       "      <td>0.830533</td>\n",
       "      <td>0.865661</td>\n",
       "    </tr>\n",
       "    <tr>\n",
       "      <th>9</th>\n",
       "      <td>Adaboost</td>\n",
       "      <td>0.810152</td>\n",
       "      <td>0.839211</td>\n",
       "      <td>0.767119</td>\n",
       "      <td>0.801335</td>\n",
       "      <td>0.894114</td>\n",
       "    </tr>\n",
       "    <tr>\n",
       "      <th>0</th>\n",
       "      <td>Logistic Regression</td>\n",
       "      <td>0.794398</td>\n",
       "      <td>0.807673</td>\n",
       "      <td>0.772614</td>\n",
       "      <td>0.789404</td>\n",
       "      <td>0.875182</td>\n",
       "    </tr>\n",
       "  </tbody>\n",
       "</table>\n",
       "</div>"
      ],
      "text/plain": [
       "                  Model  Accuracy  Precision    Recall        F1       AUC\n",
       "11   Best Random Forest  0.866565   0.873113  0.857812  0.864670  0.931090\n",
       "5         Random Forest  0.865150   0.867720  0.861576  0.863997  0.926421\n",
       "10    Voting Classifier  0.861261   0.857689  0.866072  0.861196  0.915478\n",
       "8              Catboost  0.851785   0.861174  0.838695  0.849446  0.928384\n",
       "3    Best Decision Tree  0.848821   0.844035  0.855897  0.849076  0.832400\n",
       "2         Decision Tree  0.848729   0.843752  0.856130  0.849031  0.832815\n",
       "6               XGBoost  0.849762   0.861632  0.833216  0.846905  0.926390\n",
       "4              Best KNN  0.838138   0.821549  0.863508  0.841440  0.873932\n",
       "7             Light GBM  0.843509   0.861238  0.818844  0.839241  0.922864\n",
       "1                   KNN  0.823450   0.795697  0.869653  0.830533  0.865661\n",
       "9              Adaboost  0.810152   0.839211  0.767119  0.801335  0.894114\n",
       "0   Logistic Regression  0.794398   0.807673  0.772614  0.789404  0.875182"
      ]
     },
     "execution_count": 67,
     "metadata": {},
     "output_type": "execute_result"
    }
   ],
   "source": [
    "df_model_score.sort_values(by='F1', ascending=False)"
   ]
  },
  {
   "cell_type": "code",
   "execution_count": 61,
   "id": "6820f259",
   "metadata": {
    "scrolled": true
   },
   "outputs": [
    {
     "data": {
      "text/html": [
       "<div>\n",
       "<style scoped>\n",
       "    .dataframe tbody tr th:only-of-type {\n",
       "        vertical-align: middle;\n",
       "    }\n",
       "\n",
       "    .dataframe tbody tr th {\n",
       "        vertical-align: top;\n",
       "    }\n",
       "\n",
       "    .dataframe thead th {\n",
       "        text-align: right;\n",
       "    }\n",
       "</style>\n",
       "<table border=\"1\" class=\"dataframe\">\n",
       "  <thead>\n",
       "    <tr style=\"text-align: right;\">\n",
       "      <th></th>\n",
       "      <th>Model</th>\n",
       "      <th>Accuracy</th>\n",
       "      <th>Precision</th>\n",
       "      <th>Recall</th>\n",
       "      <th>F1</th>\n",
       "      <th>AUC</th>\n",
       "    </tr>\n",
       "  </thead>\n",
       "  <tbody>\n",
       "    <tr>\n",
       "      <th>11</th>\n",
       "      <td>Best Random Forest</td>\n",
       "      <td>0.866565</td>\n",
       "      <td>0.873113</td>\n",
       "      <td>0.857812</td>\n",
       "      <td>0.864670</td>\n",
       "      <td>0.931090</td>\n",
       "    </tr>\n",
       "    <tr>\n",
       "      <th>8</th>\n",
       "      <td>Catboost</td>\n",
       "      <td>0.851785</td>\n",
       "      <td>0.861174</td>\n",
       "      <td>0.838695</td>\n",
       "      <td>0.849446</td>\n",
       "      <td>0.928384</td>\n",
       "    </tr>\n",
       "    <tr>\n",
       "      <th>5</th>\n",
       "      <td>Random Forest</td>\n",
       "      <td>0.865150</td>\n",
       "      <td>0.867720</td>\n",
       "      <td>0.861576</td>\n",
       "      <td>0.863997</td>\n",
       "      <td>0.926421</td>\n",
       "    </tr>\n",
       "    <tr>\n",
       "      <th>6</th>\n",
       "      <td>XGBoost</td>\n",
       "      <td>0.849762</td>\n",
       "      <td>0.861632</td>\n",
       "      <td>0.833216</td>\n",
       "      <td>0.846905</td>\n",
       "      <td>0.926390</td>\n",
       "    </tr>\n",
       "    <tr>\n",
       "      <th>7</th>\n",
       "      <td>Light GBM</td>\n",
       "      <td>0.843509</td>\n",
       "      <td>0.861238</td>\n",
       "      <td>0.818844</td>\n",
       "      <td>0.839241</td>\n",
       "      <td>0.922864</td>\n",
       "    </tr>\n",
       "    <tr>\n",
       "      <th>10</th>\n",
       "      <td>Voting Classifier</td>\n",
       "      <td>0.861261</td>\n",
       "      <td>0.857689</td>\n",
       "      <td>0.866072</td>\n",
       "      <td>0.861196</td>\n",
       "      <td>0.915478</td>\n",
       "    </tr>\n",
       "    <tr>\n",
       "      <th>9</th>\n",
       "      <td>Adaboost</td>\n",
       "      <td>0.810152</td>\n",
       "      <td>0.839211</td>\n",
       "      <td>0.767119</td>\n",
       "      <td>0.801335</td>\n",
       "      <td>0.894114</td>\n",
       "    </tr>\n",
       "    <tr>\n",
       "      <th>0</th>\n",
       "      <td>Logistic Regression</td>\n",
       "      <td>0.794398</td>\n",
       "      <td>0.807673</td>\n",
       "      <td>0.772614</td>\n",
       "      <td>0.789404</td>\n",
       "      <td>0.875182</td>\n",
       "    </tr>\n",
       "    <tr>\n",
       "      <th>4</th>\n",
       "      <td>Best KNN</td>\n",
       "      <td>0.838138</td>\n",
       "      <td>0.821549</td>\n",
       "      <td>0.863508</td>\n",
       "      <td>0.841440</td>\n",
       "      <td>0.873932</td>\n",
       "    </tr>\n",
       "    <tr>\n",
       "      <th>1</th>\n",
       "      <td>KNN</td>\n",
       "      <td>0.823450</td>\n",
       "      <td>0.795697</td>\n",
       "      <td>0.869653</td>\n",
       "      <td>0.830533</td>\n",
       "      <td>0.865661</td>\n",
       "    </tr>\n",
       "    <tr>\n",
       "      <th>2</th>\n",
       "      <td>Decision Tree</td>\n",
       "      <td>0.848729</td>\n",
       "      <td>0.843752</td>\n",
       "      <td>0.856130</td>\n",
       "      <td>0.849031</td>\n",
       "      <td>0.832815</td>\n",
       "    </tr>\n",
       "    <tr>\n",
       "      <th>3</th>\n",
       "      <td>Best Decision Tree</td>\n",
       "      <td>0.848821</td>\n",
       "      <td>0.844035</td>\n",
       "      <td>0.855897</td>\n",
       "      <td>0.849076</td>\n",
       "      <td>0.832400</td>\n",
       "    </tr>\n",
       "  </tbody>\n",
       "</table>\n",
       "</div>"
      ],
      "text/plain": [
       "                  Model  Accuracy  Precision    Recall        F1       AUC\n",
       "11   Best Random Forest  0.866565   0.873113  0.857812  0.864670  0.931090\n",
       "8              Catboost  0.851785   0.861174  0.838695  0.849446  0.928384\n",
       "5         Random Forest  0.865150   0.867720  0.861576  0.863997  0.926421\n",
       "6               XGBoost  0.849762   0.861632  0.833216  0.846905  0.926390\n",
       "7             Light GBM  0.843509   0.861238  0.818844  0.839241  0.922864\n",
       "10    Voting Classifier  0.861261   0.857689  0.866072  0.861196  0.915478\n",
       "9              Adaboost  0.810152   0.839211  0.767119  0.801335  0.894114\n",
       "0   Logistic Regression  0.794398   0.807673  0.772614  0.789404  0.875182\n",
       "4              Best KNN  0.838138   0.821549  0.863508  0.841440  0.873932\n",
       "1                   KNN  0.823450   0.795697  0.869653  0.830533  0.865661\n",
       "2         Decision Tree  0.848729   0.843752  0.856130  0.849031  0.832815\n",
       "3    Best Decision Tree  0.848821   0.844035  0.855897  0.849076  0.832400"
      ]
     },
     "execution_count": 61,
     "metadata": {},
     "output_type": "execute_result"
    }
   ],
   "source": [
    "df_model_score.sort_values(by='AUC', ascending=False)"
   ]
  },
  {
   "cell_type": "code",
   "execution_count": 62,
   "id": "768a212a",
   "metadata": {},
   "outputs": [
    {
     "data": {
      "text/html": [
       "<div>\n",
       "<style scoped>\n",
       "    .dataframe tbody tr th:only-of-type {\n",
       "        vertical-align: middle;\n",
       "    }\n",
       "\n",
       "    .dataframe tbody tr th {\n",
       "        vertical-align: top;\n",
       "    }\n",
       "\n",
       "    .dataframe thead th {\n",
       "        text-align: right;\n",
       "    }\n",
       "</style>\n",
       "<table border=\"1\" class=\"dataframe\">\n",
       "  <thead>\n",
       "    <tr style=\"text-align: right;\">\n",
       "      <th></th>\n",
       "      <th>Model</th>\n",
       "      <th>Accuracy</th>\n",
       "      <th>Precision</th>\n",
       "      <th>Recall</th>\n",
       "      <th>F1</th>\n",
       "      <th>AUC</th>\n",
       "    </tr>\n",
       "  </thead>\n",
       "  <tbody>\n",
       "    <tr>\n",
       "      <th>0</th>\n",
       "      <td>Logistic Regression</td>\n",
       "      <td>0.794398</td>\n",
       "      <td>0.807673</td>\n",
       "      <td>0.772614</td>\n",
       "      <td>0.789404</td>\n",
       "      <td>0.875182</td>\n",
       "    </tr>\n",
       "    <tr>\n",
       "      <th>1</th>\n",
       "      <td>KNN</td>\n",
       "      <td>0.823450</td>\n",
       "      <td>0.795697</td>\n",
       "      <td>0.869653</td>\n",
       "      <td>0.830533</td>\n",
       "      <td>0.865661</td>\n",
       "    </tr>\n",
       "    <tr>\n",
       "      <th>2</th>\n",
       "      <td>Decision Tree</td>\n",
       "      <td>0.848729</td>\n",
       "      <td>0.843752</td>\n",
       "      <td>0.856130</td>\n",
       "      <td>0.849031</td>\n",
       "      <td>0.832815</td>\n",
       "    </tr>\n",
       "    <tr>\n",
       "      <th>3</th>\n",
       "      <td>Best Decision Tree</td>\n",
       "      <td>0.848821</td>\n",
       "      <td>0.844035</td>\n",
       "      <td>0.855897</td>\n",
       "      <td>0.849076</td>\n",
       "      <td>0.832400</td>\n",
       "    </tr>\n",
       "    <tr>\n",
       "      <th>4</th>\n",
       "      <td>Best KNN</td>\n",
       "      <td>0.838138</td>\n",
       "      <td>0.821549</td>\n",
       "      <td>0.863508</td>\n",
       "      <td>0.841440</td>\n",
       "      <td>0.873932</td>\n",
       "    </tr>\n",
       "    <tr>\n",
       "      <th>5</th>\n",
       "      <td>Random Forest</td>\n",
       "      <td>0.865150</td>\n",
       "      <td>0.867720</td>\n",
       "      <td>0.861576</td>\n",
       "      <td>0.863997</td>\n",
       "      <td>0.926421</td>\n",
       "    </tr>\n",
       "    <tr>\n",
       "      <th>6</th>\n",
       "      <td>XGBoost</td>\n",
       "      <td>0.849762</td>\n",
       "      <td>0.861632</td>\n",
       "      <td>0.833216</td>\n",
       "      <td>0.846905</td>\n",
       "      <td>0.926390</td>\n",
       "    </tr>\n",
       "    <tr>\n",
       "      <th>7</th>\n",
       "      <td>Light GBM</td>\n",
       "      <td>0.843509</td>\n",
       "      <td>0.861238</td>\n",
       "      <td>0.818844</td>\n",
       "      <td>0.839241</td>\n",
       "      <td>0.922864</td>\n",
       "    </tr>\n",
       "    <tr>\n",
       "      <th>8</th>\n",
       "      <td>Catboost</td>\n",
       "      <td>0.851785</td>\n",
       "      <td>0.861174</td>\n",
       "      <td>0.838695</td>\n",
       "      <td>0.849446</td>\n",
       "      <td>0.928384</td>\n",
       "    </tr>\n",
       "    <tr>\n",
       "      <th>9</th>\n",
       "      <td>Adaboost</td>\n",
       "      <td>0.810152</td>\n",
       "      <td>0.839211</td>\n",
       "      <td>0.767119</td>\n",
       "      <td>0.801335</td>\n",
       "      <td>0.894114</td>\n",
       "    </tr>\n",
       "    <tr>\n",
       "      <th>10</th>\n",
       "      <td>Voting Classifier</td>\n",
       "      <td>0.861261</td>\n",
       "      <td>0.857689</td>\n",
       "      <td>0.866072</td>\n",
       "      <td>0.861196</td>\n",
       "      <td>0.915478</td>\n",
       "    </tr>\n",
       "    <tr>\n",
       "      <th>11</th>\n",
       "      <td>Best Random Forest</td>\n",
       "      <td>0.866565</td>\n",
       "      <td>0.873113</td>\n",
       "      <td>0.857812</td>\n",
       "      <td>0.864670</td>\n",
       "      <td>0.931090</td>\n",
       "    </tr>\n",
       "  </tbody>\n",
       "</table>\n",
       "</div>"
      ],
      "text/plain": [
       "                  Model  Accuracy  Precision    Recall        F1       AUC\n",
       "0   Logistic Regression  0.794398   0.807673  0.772614  0.789404  0.875182\n",
       "1                   KNN  0.823450   0.795697  0.869653  0.830533  0.865661\n",
       "2         Decision Tree  0.848729   0.843752  0.856130  0.849031  0.832815\n",
       "3    Best Decision Tree  0.848821   0.844035  0.855897  0.849076  0.832400\n",
       "4              Best KNN  0.838138   0.821549  0.863508  0.841440  0.873932\n",
       "5         Random Forest  0.865150   0.867720  0.861576  0.863997  0.926421\n",
       "6               XGBoost  0.849762   0.861632  0.833216  0.846905  0.926390\n",
       "7             Light GBM  0.843509   0.861238  0.818844  0.839241  0.922864\n",
       "8              Catboost  0.851785   0.861174  0.838695  0.849446  0.928384\n",
       "9              Adaboost  0.810152   0.839211  0.767119  0.801335  0.894114\n",
       "10    Voting Classifier  0.861261   0.857689  0.866072  0.861196  0.915478\n",
       "11   Best Random Forest  0.866565   0.873113  0.857812  0.864670  0.931090"
      ]
     },
     "execution_count": 62,
     "metadata": {},
     "output_type": "execute_result"
    }
   ],
   "source": [
    "df_model_score"
   ]
  }
 ],
 "metadata": {
  "kernelspec": {
   "display_name": "Python 3",
   "language": "python",
   "name": "python3"
  },
  "language_info": {
   "codemirror_mode": {
    "name": "ipython",
    "version": 3
   },
   "file_extension": ".py",
   "mimetype": "text/x-python",
   "name": "python",
   "nbconvert_exporter": "python",
   "pygments_lexer": "ipython3",
   "version": "3.8.8"
  }
 },
 "nbformat": 4,
 "nbformat_minor": 5
}
